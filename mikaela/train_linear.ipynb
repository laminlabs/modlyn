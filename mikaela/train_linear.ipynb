{
 "cells": [
  {
   "cell_type": "markdown",
   "id": "8b81d6af",
   "metadata": {},
   "source": [
    "# Tutorial: Model training"
   ]
  },
  {
   "cell_type": "code",
   "execution_count": 3,
   "id": "2095c20c",
   "metadata": {},
   "outputs": [
    {
     "name": "stdout",
     "output_type": "stream",
     "text": [
      "\u001b[92m→\u001b[0m found notebook train_linear.ipynb, making new version\n",
      "\u001b[92m→\u001b[0m created Transform('UMQFXo0vs0Z60005'), started new Run('YsHf4azP...') at 2025-06-04 14:49:20 UTC\n",
      "\u001b[92m→\u001b[0m notebook imports: anndata==0.12.0rc3 lamindb==1.5.3 lightning==2.5.1.post0 modlyn==0.0.2 tqdm==4.67.1\n"
     ]
    }
   ],
   "source": [
    "# pip install zarr<3 lamindb lightning modlyn\n",
    "import warnings\n",
    "import os\n",
    "from os.path import join\n",
    "import lamindb as ln\n",
    "import anndata as ad\n",
    "import lightning as L\n",
    "from tqdm import tqdm\n",
    "from modlyn.io.datamodules import ClassificationDataModule\n",
    "from modlyn.models.linear import Linear\n",
    "from modlyn.io.loading import read_lazy\n",
    "\n",
    "ln.track(\"UMQFXo0vs0Z6\", project=\"DataLoader v2\")"
   ]
  },
  {
   "cell_type": "markdown",
   "id": "00e7785c",
   "metadata": {},
   "source": [
    "## Cache the pre-shuffled zarr store"
   ]
  },
  {
   "cell_type": "code",
   "execution_count": 4,
   "id": "6ef64e21",
   "metadata": {},
   "outputs": [
    {
     "data": {
      "text/plain": [
       "Artifact(uid='TuhkPw0wkzlUXN5k0000', is_latest=True, key='tahoe100M/shuffled_plate3_subset_1000_100_AB', suffix='', size=3989166, hash='Y-pMgFWbhcdvZsvmXEt--w', n_files=108, space_id=1, storage_id=3, run_id=104, created_by_id=2, created_at=2025-05-10 15:05:47 UTC)"
      ]
     },
     "execution_count": 4,
     "metadata": {},
     "output_type": "execute_result"
    }
   ],
   "source": [
    "# if running this not in the arrayloader-benchmarks instance, please add .using(...)\n",
    "# ln.Artifact.using(\"laminlabs/arrayloader-benchmarks\").get(uid)\n",
    "# artifact_tahoe_store = ln.Artifact.get(\"BQ6RplqNcT0akokn0000\")  # full 100M cells and 60k genes\n",
    "artifact_tahoe_store = ln.Artifact.get(\"TuhkPw0wkzlUXN5k0000\")  # subsampled to 2k cells and 200 genes\n",
    "artifact_tahoe_store"
   ]
  },
  {
   "cell_type": "code",
   "execution_count": 5,
   "id": "3844d569",
   "metadata": {},
   "outputs": [
    {
     "name": "stdout",
     "output_type": "stream",
     "text": [
      "CPU times: user 327 ms, sys: 48.5 ms, total: 375 ms\n",
      "Wall time: 4.37 s\n"
     ]
    }
   ],
   "source": [
    "%%time\n",
    "# in case of the 100M cell datasets, downloads 320GB and 36k zarr fragments (files) into the local cache\n",
    "# will run a while even on AWS due to so many files\n",
    "store_path = artifact_tahoe_store.cache()"
   ]
  },
  {
   "cell_type": "code",
   "execution_count": 11,
   "id": "91f1e430-6c8e-4c3b-b436-e18e41a53752",
   "metadata": {},
   "outputs": [
    {
     "data": {
      "text/plain": [
       "PosixUPath('/home/ubuntu/.cache/lamindb/lamin-us-west-2/wXDsTYYd/tahoe100M/shuffled_plate3_subset_1000_100_AB')"
      ]
     },
     "execution_count": 11,
     "metadata": {},
     "output_type": "execute_result"
    }
   ],
   "source": [
    "# list(store_path.iterdir())\n",
    "store_path"
   ]
  },
  {
   "cell_type": "markdown",
   "id": "eda8786f",
   "metadata": {},
   "source": [
    "## Train a linear model"
   ]
  },
  {
   "cell_type": "code",
   "execution_count": 14,
   "id": "cbfa93fd-c387-40a9-8d72-fd73acc4be65",
   "metadata": {},
   "outputs": [
    {
     "data": {
      "text/plain": [
       "'0.12.0rc3'"
      ]
     },
     "execution_count": 14,
     "metadata": {},
     "output_type": "execute_result"
    }
   ],
   "source": [
    "import anndata\n",
    "anndata.__version__"
   ]
  },
  {
   "cell_type": "code",
   "execution_count": 9,
   "id": "2d0133ad",
   "metadata": {},
   "outputs": [
    {
     "ename": "ValueError",
     "evalue": "X needs to be of one of <class 'numpy.ndarray'>, <class 'numpy.ma.MaskedArray'>, <class 'scipy.sparse._csr.csr_matrix'>, <class 'scipy.sparse._csc.csc_matrix'>, <class 'scipy.sparse._csr.csr_array'>, <class 'scipy.sparse._csc.csc_array'>, <class 'h5py._hl.dataset.Dataset'>, <class 'zarr.core.array.Array'>, <class 'anndata.compat.ZappyArray'>, <class 'anndata.abc.CSRDataset'>, <class 'anndata.abc.CSCDataset'>, <class 'anndata.compat.DaskArray'>, <class 'anndata.compat.CupyArray'>, <class 'anndata.compat.CupySparseMatrix'>, <class 'anndata.compat.AwkArray'>, or <class 'anndata.compat.XDataArray'>, not <class 'dask.array.core.Array'>.",
     "output_type": "error",
     "traceback": [
      "\u001b[31m---------------------------------------------------------------------------\u001b[39m",
      "\u001b[31mValueError\u001b[39m                                Traceback (most recent call last)",
      "\u001b[36mCell\u001b[39m\u001b[36m \u001b[39m\u001b[32mIn[9]\u001b[39m\u001b[32m, line 3\u001b[39m\n\u001b[32m      1\u001b[39m \u001b[38;5;28;01mwith\u001b[39;00m warnings.catch_warnings():\n\u001b[32m      2\u001b[39m     warnings.simplefilter(\u001b[33m\"\u001b[39m\u001b[33mignore\u001b[39m\u001b[33m\"\u001b[39m)  \u001b[38;5;66;03m# ignore zarr warnings that zarrv3 codec is not final yet\u001b[39;00m\n\u001b[32m----> \u001b[39m\u001b[32m3\u001b[39m     adata = \u001b[43mread_lazy\u001b[49m\u001b[43m(\u001b[49m\u001b[43mstore_path\u001b[49m\u001b[43m)\u001b[49m\n\u001b[32m      5\u001b[39m adata\n",
      "\u001b[36mFile \u001b[39m\u001b[32m~/modlyn/modlyn/io/loading.py:24\u001b[39m, in \u001b[36mread_lazy\u001b[39m\u001b[34m(path, obs_columns, read_obs_lazy)\u001b[39m\n\u001b[32m     19\u001b[39m     \u001b[38;5;28;01melse\u001b[39;00m:\n\u001b[32m     20\u001b[39m         obs = pd.DataFrame(\n\u001b[32m     21\u001b[39m             {col: ad.io.read_elem(g[\u001b[33mf\u001b[39m\u001b[33m\"\u001b[39m\u001b[33mobs/\u001b[39m\u001b[38;5;132;01m{\u001b[39;00mcol\u001b[38;5;132;01m}\u001b[39;00m\u001b[33m\"\u001b[39m]) \u001b[38;5;28;01mfor\u001b[39;00m col \u001b[38;5;129;01min\u001b[39;00m obs_columns}\n\u001b[32m     22\u001b[39m         )\n\u001b[32m---> \u001b[39m\u001b[32m24\u001b[39m adata = \u001b[43mad\u001b[49m\u001b[43m.\u001b[49m\u001b[43mAnnData\u001b[49m\u001b[43m(\u001b[49m\n\u001b[32m     25\u001b[39m \u001b[43m    \u001b[49m\u001b[43mX\u001b[49m\u001b[43m=\u001b[49m\u001b[43mad\u001b[49m\u001b[43m.\u001b[49m\u001b[43mexperimental\u001b[49m\u001b[43m.\u001b[49m\u001b[43mread_elem_lazy\u001b[49m\u001b[43m(\u001b[49m\u001b[43mg\u001b[49m\u001b[43m[\u001b[49m\u001b[33;43m\"\u001b[39;49m\u001b[33;43mX\u001b[39;49m\u001b[33;43m\"\u001b[39;49m\u001b[43m]\u001b[49m\u001b[43m)\u001b[49m\u001b[43m,\u001b[49m\n\u001b[32m     26\u001b[39m \u001b[43m    \u001b[49m\u001b[43mobs\u001b[49m\u001b[43m=\u001b[49m\u001b[43mobs\u001b[49m\u001b[43m,\u001b[49m\n\u001b[32m     27\u001b[39m \u001b[43m\u001b[49m\u001b[43m)\u001b[49m\n\u001b[32m     29\u001b[39m \u001b[38;5;28;01mreturn\u001b[39;00m adata\n",
      "\u001b[36mFile \u001b[39m\u001b[32m~/conda/envs/lamin_env/lib/python3.12/site-packages/legacy_api_wrap/__init__.py:82\u001b[39m, in \u001b[36mlegacy_api.<locals>.wrapper.<locals>.fn_compatible\u001b[39m\u001b[34m(*args_all, **kw)\u001b[39m\n\u001b[32m     79\u001b[39m \u001b[38;5;129m@wraps\u001b[39m(fn)\n\u001b[32m     80\u001b[39m \u001b[38;5;28;01mdef\u001b[39;00m\u001b[38;5;250m \u001b[39m\u001b[34mfn_compatible\u001b[39m(*args_all: P.args, **kw: P.kwargs) -> R:\n\u001b[32m     81\u001b[39m     \u001b[38;5;28;01mif\u001b[39;00m \u001b[38;5;28mlen\u001b[39m(args_all) <= n_positional:\n\u001b[32m---> \u001b[39m\u001b[32m82\u001b[39m         \u001b[38;5;28;01mreturn\u001b[39;00m \u001b[43mfn\u001b[49m\u001b[43m(\u001b[49m\u001b[43m*\u001b[49m\u001b[43margs_all\u001b[49m\u001b[43m,\u001b[49m\u001b[43m \u001b[49m\u001b[43m*\u001b[49m\u001b[43m*\u001b[49m\u001b[43mkw\u001b[49m\u001b[43m)\u001b[49m\n\u001b[32m     84\u001b[39m     args_pos: P.args\n\u001b[32m     85\u001b[39m     args_pos, args_rest = args_all[:n_positional], args_all[n_positional:]\n",
      "\u001b[36mFile \u001b[39m\u001b[32m~/conda/envs/lamin_env/lib/python3.12/site-packages/anndata/_core/anndata.py:242\u001b[39m, in \u001b[36mAnnData.__init__\u001b[39m\u001b[34m(self, X, obs, var, uns, obsm, varm, layers, raw, dtype, shape, filename, filemode, asview, obsp, varp, oidx, vidx)\u001b[39m\n\u001b[32m    240\u001b[39m     \u001b[38;5;28mself\u001b[39m._init_as_view(X, oidx, vidx)\n\u001b[32m    241\u001b[39m \u001b[38;5;28;01melse\u001b[39;00m:\n\u001b[32m--> \u001b[39m\u001b[32m242\u001b[39m     \u001b[38;5;28;43mself\u001b[39;49m\u001b[43m.\u001b[49m\u001b[43m_init_as_actual\u001b[49m\u001b[43m(\u001b[49m\n\u001b[32m    243\u001b[39m \u001b[43m        \u001b[49m\u001b[43mX\u001b[49m\u001b[43m=\u001b[49m\u001b[43mX\u001b[49m\u001b[43m,\u001b[49m\n\u001b[32m    244\u001b[39m \u001b[43m        \u001b[49m\u001b[43mobs\u001b[49m\u001b[43m=\u001b[49m\u001b[43mobs\u001b[49m\u001b[43m,\u001b[49m\n\u001b[32m    245\u001b[39m \u001b[43m        \u001b[49m\u001b[43mvar\u001b[49m\u001b[43m=\u001b[49m\u001b[43mvar\u001b[49m\u001b[43m,\u001b[49m\n\u001b[32m    246\u001b[39m \u001b[43m        \u001b[49m\u001b[43muns\u001b[49m\u001b[43m=\u001b[49m\u001b[43muns\u001b[49m\u001b[43m,\u001b[49m\n\u001b[32m    247\u001b[39m \u001b[43m        \u001b[49m\u001b[43mobsm\u001b[49m\u001b[43m=\u001b[49m\u001b[43mobsm\u001b[49m\u001b[43m,\u001b[49m\n\u001b[32m    248\u001b[39m \u001b[43m        \u001b[49m\u001b[43mvarm\u001b[49m\u001b[43m=\u001b[49m\u001b[43mvarm\u001b[49m\u001b[43m,\u001b[49m\n\u001b[32m    249\u001b[39m \u001b[43m        \u001b[49m\u001b[43mraw\u001b[49m\u001b[43m=\u001b[49m\u001b[43mraw\u001b[49m\u001b[43m,\u001b[49m\n\u001b[32m    250\u001b[39m \u001b[43m        \u001b[49m\u001b[43mlayers\u001b[49m\u001b[43m=\u001b[49m\u001b[43mlayers\u001b[49m\u001b[43m,\u001b[49m\n\u001b[32m    251\u001b[39m \u001b[43m        \u001b[49m\u001b[43mdtype\u001b[49m\u001b[43m=\u001b[49m\u001b[43mdtype\u001b[49m\u001b[43m,\u001b[49m\n\u001b[32m    252\u001b[39m \u001b[43m        \u001b[49m\u001b[43mshape\u001b[49m\u001b[43m=\u001b[49m\u001b[43mshape\u001b[49m\u001b[43m,\u001b[49m\n\u001b[32m    253\u001b[39m \u001b[43m        \u001b[49m\u001b[43mobsp\u001b[49m\u001b[43m=\u001b[49m\u001b[43mobsp\u001b[49m\u001b[43m,\u001b[49m\n\u001b[32m    254\u001b[39m \u001b[43m        \u001b[49m\u001b[43mvarp\u001b[49m\u001b[43m=\u001b[49m\u001b[43mvarp\u001b[49m\u001b[43m,\u001b[49m\n\u001b[32m    255\u001b[39m \u001b[43m        \u001b[49m\u001b[43mfilename\u001b[49m\u001b[43m=\u001b[49m\u001b[43mfilename\u001b[49m\u001b[43m,\u001b[49m\n\u001b[32m    256\u001b[39m \u001b[43m        \u001b[49m\u001b[43mfilemode\u001b[49m\u001b[43m=\u001b[49m\u001b[43mfilemode\u001b[49m\u001b[43m,\u001b[49m\n\u001b[32m    257\u001b[39m \u001b[43m    \u001b[49m\u001b[43m)\u001b[49m\n",
      "\u001b[36mFile \u001b[39m\u001b[32m~/conda/envs/lamin_env/lib/python3.12/site-packages/anndata/_core/anndata.py:388\u001b[39m, in \u001b[36mAnnData._init_as_actual\u001b[39m\u001b[34m(self, X, obs, var, uns, obsm, varm, varp, obsp, raw, layers, dtype, shape, filename, filemode)\u001b[39m\n\u001b[32m    382\u001b[39m \u001b[38;5;66;03m# ----------------------------------------------------------------------\u001b[39;00m\n\u001b[32m    383\u001b[39m \u001b[38;5;66;03m# actually process the data\u001b[39;00m\n\u001b[32m    384\u001b[39m \u001b[38;5;66;03m# ----------------------------------------------------------------------\u001b[39;00m\n\u001b[32m    385\u001b[39m \n\u001b[32m    386\u001b[39m \u001b[38;5;66;03m# check data type of X\u001b[39;00m\n\u001b[32m    387\u001b[39m \u001b[38;5;28;01mif\u001b[39;00m X \u001b[38;5;129;01mis\u001b[39;00m \u001b[38;5;129;01mnot\u001b[39;00m \u001b[38;5;28;01mNone\u001b[39;00m:\n\u001b[32m--> \u001b[39m\u001b[32m388\u001b[39m     X = \u001b[43mcoerce_array\u001b[49m\u001b[43m(\u001b[49m\u001b[43mX\u001b[49m\u001b[43m,\u001b[49m\u001b[43m \u001b[49m\u001b[43mname\u001b[49m\u001b[43m=\u001b[49m\u001b[33;43m\"\u001b[39;49m\u001b[33;43mX\u001b[39;49m\u001b[33;43m\"\u001b[39;49m\u001b[43m)\u001b[49m\n\u001b[32m    389\u001b[39m     \u001b[38;5;28;01mif\u001b[39;00m shape \u001b[38;5;129;01mis\u001b[39;00m \u001b[38;5;129;01mnot\u001b[39;00m \u001b[38;5;28;01mNone\u001b[39;00m:\n\u001b[32m    390\u001b[39m         msg = \u001b[33m\"\u001b[39m\u001b[33m`shape` needs to be `None` if `X` is not `None`.\u001b[39m\u001b[33m\"\u001b[39m\n",
      "\u001b[36mFile \u001b[39m\u001b[32m~/conda/envs/lamin_env/lib/python3.12/site-packages/anndata/_core/storage.py:74\u001b[39m, in \u001b[36mcoerce_array\u001b[39m\u001b[34m(value, name, allow_df, allow_array_like)\u001b[39m\n\u001b[32m     72\u001b[39m \u001b[38;5;28;01mif\u001b[39;00m e \u001b[38;5;129;01mis\u001b[39;00m \u001b[38;5;129;01mnot\u001b[39;00m \u001b[38;5;28;01mNone\u001b[39;00m:\n\u001b[32m     73\u001b[39m     msg += \u001b[33m\"\u001b[39m\u001b[33m (Failed to convert it to an array, see above for details.)\u001b[39m\u001b[33m\"\u001b[39m\n\u001b[32m---> \u001b[39m\u001b[32m74\u001b[39m \u001b[38;5;28;01mraise\u001b[39;00m \u001b[38;5;167;01mValueError\u001b[39;00m(msg) \u001b[38;5;28;01mfrom\u001b[39;00m\u001b[38;5;250m \u001b[39m\u001b[34;01me\u001b[39;00m\n",
      "\u001b[31mValueError\u001b[39m: X needs to be of one of <class 'numpy.ndarray'>, <class 'numpy.ma.MaskedArray'>, <class 'scipy.sparse._csr.csr_matrix'>, <class 'scipy.sparse._csc.csc_matrix'>, <class 'scipy.sparse._csr.csr_array'>, <class 'scipy.sparse._csc.csc_array'>, <class 'h5py._hl.dataset.Dataset'>, <class 'zarr.core.array.Array'>, <class 'anndata.compat.ZappyArray'>, <class 'anndata.abc.CSRDataset'>, <class 'anndata.abc.CSCDataset'>, <class 'anndata.compat.DaskArray'>, <class 'anndata.compat.CupyArray'>, <class 'anndata.compat.CupySparseMatrix'>, <class 'anndata.compat.AwkArray'>, or <class 'anndata.compat.XDataArray'>, not <class 'dask.array.core.Array'>."
     ]
    }
   ],
   "source": [
    "with warnings.catch_warnings():\n",
    "    warnings.simplefilter(\"ignore\")  # ignore zarr warnings that zarrv3 codec is not final yet\n",
    "    adata = read_lazy(store_path)\n",
    "\n",
    "adata"
   ]
  },
  {
   "cell_type": "code",
   "execution_count": null,
   "id": "d9821f78",
   "metadata": {},
   "outputs": [],
   "source": [
    "adata.obs[\"y\"] = adata.obs[\"cell_line\"].astype(\"category\").cat.codes.to_numpy().astype(\"i8\")"
   ]
  },
  {
   "cell_type": "code",
   "execution_count": null,
   "id": "0e0fa033",
   "metadata": {},
   "outputs": [],
   "source": [
    "adata_train = adata[:80_527_360]\n",
    "adata_val = adata[80_527_360:]\n",
    "\n",
    "datamodule = ClassificationDataModule(\n",
    "    adata_train=adata_train,\n",
    "    adata_val=adata_val,\n",
    "    label_column=\"y\",\n",
    "    train_dataloader_kwargs={\n",
    "        \"batch_size\": 2048,\n",
    "        \"drop_last\": True,\n",
    "    },\n",
    "    val_dataloader_kwargs={\n",
    "        \"batch_size\": 2048,\n",
    "        \"drop_last\": False,\n",
    "    },\n",
    ")"
   ]
  },
  {
   "cell_type": "code",
   "execution_count": null,
   "id": "0f44f361",
   "metadata": {},
   "outputs": [],
   "source": [
    "linear = Linear(\n",
    "    n_genes=adata.n_vars,\n",
    "    n_covariates=adata.obs[\"y\"].nunique(),\n",
    "    learning_rate=1e-2,\n",
    ")"
   ]
  },
  {
   "cell_type": "code",
   "execution_count": null,
   "id": "d3d4b0c7",
   "metadata": {},
   "outputs": [],
   "source": [
    "trainer = L.Trainer(\n",
    "    max_epochs=3,\n",
    "    log_every_n_steps=100,\n",
    "    max_steps=3000,  # only fit a few steps for the sake of this tutorial\n",
    ")"
   ]
  },
  {
   "cell_type": "code",
   "execution_count": null,
   "id": "3ec61c20",
   "metadata": {},
   "outputs": [],
   "source": [
    "trainer.fit(model=linear, datamodule=datamodule)"
   ]
  },
  {
   "cell_type": "code",
   "execution_count": null,
   "id": "8219622e",
   "metadata": {},
   "outputs": [],
   "source": [
    "ln.finish()"
   ]
  },
  {
   "cell_type": "code",
   "execution_count": null,
   "id": "d26d4de7",
   "metadata": {},
   "outputs": [],
   "source": []
  }
 ],
 "metadata": {
  "jupytext": {
   "cell_metadata_filter": "-all",
   "main_language": "python",
   "notebook_metadata_filter": "-all"
  },
  "kernelspec": {
   "display_name": "lamin_env",
   "language": "python",
   "name": "lamin_env"
  },
  "language_info": {
   "codemirror_mode": {
    "name": "ipython",
    "version": 3
   },
   "file_extension": ".py",
   "mimetype": "text/x-python",
   "name": "python",
   "nbconvert_exporter": "python",
   "pygments_lexer": "ipython3",
   "version": "3.12.10"
  }
 },
 "nbformat": 4,
 "nbformat_minor": 5
}
