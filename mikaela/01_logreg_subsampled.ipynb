{
 "cells": [
  {
   "cell_type": "markdown",
   "id": "0cd1a7fc-4dc7-44c1-87f9-43deedf0d453",
   "metadata": {},
   "source": [
    "## Step 1\n",
    "\n",
    "Accessed real Lamin data via lamindb\n",
    "\n",
    "Pulled a clean, merged AnnData object\n",
    "\n",
    "Inspected and visualized key covariates\n",
    "\n",
    "Are ready to move to model training\n",
    "\n"
   ]
  },
  {
   "cell_type": "markdown",
   "id": "68b60ac1-e020-4bd3-87c1-97fd4f30a4aa",
   "metadata": {},
   "source": [
    "Connect to LaminDB from AWS.\n",
    "\n",
    "Fetch a subsample of Tahoe-100M (or similar data).\n",
    "\n",
    "Explore basic statistics.\n",
    "\n",
    "Train a multinomial logistic regression model using sklearn.\n",
    "\n",
    "Evaluate prediction performance.\n",
    "\n",
    "Extract and visualize gene weights."
   ]
  },
  {
   "cell_type": "code",
   "execution_count": null,
   "id": "30540558-5ea9-44b6-b01f-7de57cc54a84",
   "metadata": {},
   "outputs": [],
   "source": [
    "# !lamin login mikaela.koutrouli@cpr.ku.dk --key 01emvZ7k-LMC2cjF726XY31kSmKpRul8nlDCwhkW"
   ]
  },
  {
   "cell_type": "code",
   "execution_count": null,
   "id": "75daf602-a323-42fc-a8cf-58abe8e55f5c",
   "metadata": {},
   "outputs": [],
   "source": [
    "import lamindb as ln\n",
    "ln.connect(\"laminlabs/arrayloader-benchmarks\")"
   ]
  },
  {
   "cell_type": "code",
   "execution_count": null,
   "id": "198ee16e-328c-49e7-9bc2-3e7286c85c20",
   "metadata": {},
   "outputs": [],
   "source": [
    "import scanpy as sc\n",
    "\n",
    "artifact_tahoe_store = ln.Artifact.get(\"TuhkPw0wkzlUXN5k0000\")\n",
    "artifact_tahoe_store"
   ]
  },
  {
   "cell_type": "code",
   "execution_count": null,
   "id": "c3f7c76f-08c7-4c1d-903d-abeb4a215187",
   "metadata": {},
   "outputs": [],
   "source": []
  },
  {
   "cell_type": "code",
   "execution_count": null,
   "id": "99f4f4c5-ff89-429c-bb93-6dfa843a4ce7",
   "metadata": {},
   "outputs": [],
   "source": []
  },
  {
   "cell_type": "code",
   "execution_count": null,
   "id": "7ae363b7-d5b6-40a1-9e18-65157712c369",
   "metadata": {},
   "outputs": [],
   "source": []
  },
  {
   "cell_type": "code",
   "execution_count": null,
   "id": "ca0eb17d-b109-4058-8d6a-f9a801739e70",
   "metadata": {},
   "outputs": [],
   "source": [
    "import lamindb as ln\n",
    "import scanpy as sc\n",
    "\n",
    "ln.connect(\"laminlabs/arrayloader-benchmarks\")\n",
    "\n",
    "artifact = ln.Artifact.get(key=\"tahoe100M/plate3_subset_1000_100_A.h5ad\")\n",
    "\n",
    "# Force the file to be downloaded first\n",
    "artifact.download()  # This should take a few seconds and print progress\n",
    "\n",
    "# Then load into memory\n",
    "adata = sc.read_h5ad(artifact.path())\n",
    "print(adata)\n"
   ]
  },
  {
   "cell_type": "code",
   "execution_count": null,
   "id": "9f1fbfc3-1a38-4964-8f35-3adebf7e70f8",
   "metadata": {},
   "outputs": [],
   "source": [
    "# ln.Artifact.get(\"TuhkPw0wkzlUXN5k0000\")"
   ]
  },
  {
   "cell_type": "code",
   "execution_count": null,
   "id": "36d4a754-0a74-41fa-a901-fa55e17bf8ed",
   "metadata": {},
   "outputs": [],
   "source": [
    "import lamindb as ln\n",
    "# ln.connect(\"laminlabs/arc-virtual-cell-atlas\") #laminlabs/arrayloader-benchmarks\n",
    "ln.connect(\"laminlabs/arrayloader-benchmarks\") #laminlabs/arrayloader-benchmarks\n"
   ]
  },
  {
   "cell_type": "code",
   "execution_count": null,
   "id": "10863020-20a8-419c-99d9-f665197332cb",
   "metadata": {},
   "outputs": [],
   "source": [
    "ln.Project.df()[['name', 'uid']]\n"
   ]
  },
  {
   "cell_type": "code",
   "execution_count": null,
   "id": "44ddf8be-1281-46e1-934b-70661509fe83",
   "metadata": {},
   "outputs": [],
   "source": [
    "collection = ln.Collection.filter(key=\"tahoe100M\").one()\n",
    "artifacts = collection.artifacts.df()\n",
    "print(artifacts[[\"key\", \"n_observations\", \"size\"]].head())\n"
   ]
  },
  {
   "cell_type": "code",
   "execution_count": null,
   "id": "294a12db-cdc1-415b-b4ec-e2ed8aa0ad71",
   "metadata": {},
   "outputs": [],
   "source": [
    "# artifact = ln.Artifact.get(key=\"tahoe100M/plate3_subset_1000_100_A.h5ad\")\n",
    "# adata = sc.read_h5ad(artifact.path())  \n"
   ]
  },
  {
   "cell_type": "code",
   "execution_count": null,
   "id": "0601d9aa-6b80-447c-9f72-f5b589acaeae",
   "metadata": {},
   "outputs": [],
   "source": []
  },
  {
   "cell_type": "code",
   "execution_count": null,
   "id": "da948c2a-d8bb-4006-a07a-368b4fd9080b",
   "metadata": {},
   "outputs": [],
   "source": [
    "# import lamindb as ln\n",
    "# Get the Tahoe-100M project by name\n",
    "project_tahoe = ln.Project.get(name=\"Tahoe-100M\")\n",
    "print(project_tahoe)\n"
   ]
  },
  {
   "cell_type": "code",
   "execution_count": null,
   "id": "6a476e1e-8253-4bfa-9f70-e4679128a729",
   "metadata": {},
   "outputs": [],
   "source": [
    "# project = ln.Project.get(name=\"Tahoe-100M\")\n",
    "# print(project)\n",
    "# collection = ln.Collection.get(key=\"tahoe100\")\n",
    "# print(collection, \"contains\", collection.artifacts.count(), \"artifacts\")\n",
    "\n",
    "# artifacts_df = collection.artifacts.distinct().df()\n",
    "# print(artifacts_df[['key','n_observations','size']].head())\n"
   ]
  },
  {
   "cell_type": "code",
   "execution_count": null,
   "id": "82d2f8a0-d206-4019-a1d3-2ae8f1dd75df",
   "metadata": {},
   "outputs": [],
   "source": [
    "# artifact = ln.Artifact.get(key=\"plvz5n0YX1fVWbEp0000\")\n",
    "# adata = artifact.open()   # returns an AnnData-like object\n",
    "\n",
    "artifact_key = artifacts_df.iloc[0]['key']\n",
    "print(artifact_key)\n",
    "# artifact = ln.Artifact.get(key=artifact_key)\n",
    "# artifact\n",
    "# adata = artifact.open()   \n",
    "# adata"
   ]
  },
  {
   "cell_type": "code",
   "execution_count": null,
   "id": "43d4be9b-6425-4828-bf61-abae589be8e2",
   "metadata": {},
   "outputs": [],
   "source": []
  },
  {
   "cell_type": "code",
   "execution_count": null,
   "id": "8ec8c26a-ced5-4088-83c3-f83e530e848d",
   "metadata": {},
   "outputs": [],
   "source": []
  },
  {
   "cell_type": "code",
   "execution_count": null,
   "id": "8c01efa0-f221-4bda-b5e7-7d74ad49f6b4",
   "metadata": {},
   "outputs": [],
   "source": [
    "# adata.obs['perturbation'].value_counts().plot(kind='bar')\n",
    "# plt.title(\"Drug (perturbation) label distribution\")\n",
    "# plt.xlabel(\"Drug\"); plt.ylabel(\"Count\")\n",
    "# plt.tight_layout()\n"
   ]
  },
  {
   "cell_type": "code",
   "execution_count": null,
   "id": "d385a2bb-d564-4c6e-bb59-3eddfdb257fe",
   "metadata": {},
   "outputs": [],
   "source": [
    "# Subset to one cell line (e.g. 'A375')\n",
    "cellline = 'A375'\n",
    "adata_cl = adata[adata.obs['cell_line'] == cellline, :]\n",
    "\n",
    "# Find top 3 most common drugs within this cell line\n",
    "top_drugs = adata_cl.obs['perturbation'].value_counts().nlargest(3).index.tolist()\n",
    "adata_sub = adata_cl[adata_cl.obs['perturbation'].isin(top_drugs), :]\n",
    "\n",
    "print(f\"Selected {adata_sub.n_obs} cells across drugs: {adata_sub.obs['perturbation'].unique().tolist()}\")\n"
   ]
  },
  {
   "cell_type": "code",
   "execution_count": null,
   "id": "6530a013-07f8-49e8-8ce1-10dc7c7eef3c",
   "metadata": {},
   "outputs": [],
   "source": []
  },
  {
   "cell_type": "code",
   "execution_count": null,
   "id": "a2bae2d7-8a71-4a56-b2e6-405a4f4b2f48",
   "metadata": {},
   "outputs": [],
   "source": []
  },
  {
   "cell_type": "code",
   "execution_count": null,
   "id": "9af31edd-f1ac-44d4-b2f9-796f4f4c3301",
   "metadata": {},
   "outputs": [],
   "source": [
    "# 1. Connect to LaminDB instance and authenticate\n",
    "# If needed, install required packages (uncomment the next line):\n",
    "# !pip install lamindb anndata scanpy scikit-learn seaborn matplotlib\n",
    "import os\n",
    "import lamindb as ln\n",
    "\n",
    "# # Use environment variables or insert your Lamin credentials\n",
    "# user = os.getenv(\"mikelkou\")\n",
    "# api_key = os.getenv(\"8XF7LaZnEbIbcxvddzLTBqr74CygvH7WP7WdDMxY\")\n",
    "# ln.login(user=user, api_key=api_key)\n",
    "# ln.connect(\"laminlabs/arrayloader-benchmarks\")\n",
    "project = ln.Project.get(name=\"Tahoe-100M\")\n",
    "print(project)\n",
    "collection = ln.Collection.get(key=\"tahoe100\")\n",
    "print(collection, \"contains\", collection.artifacts.count(), \"artifacts\")\n"
   ]
  },
  {
   "cell_type": "code",
   "execution_count": null,
   "id": "b62b1e3f-6fdb-4755-a5c6-95ac1dc1d269",
   "metadata": {},
   "outputs": [],
   "source": [
    "artifact = ln.Artifact.filter(name=\"plvz5n0YX1fVWbEp0000\").one()\n",
    "artifact"
   ]
  },
  {
   "cell_type": "code",
   "execution_count": null,
   "id": "e582645e-4848-42eb-bcc9-464cec06d196",
   "metadata": {},
   "outputs": [],
   "source": [
    "ln.Artifact.filter().df()\n"
   ]
  },
  {
   "cell_type": "code",
   "execution_count": null,
   "id": "2e102dd0-8a2a-41e5-a433-993d693b5ce5",
   "metadata": {},
   "outputs": [],
   "source": [
    "import lamindb as ln\n",
    "\n",
    "# Step 1: Load the shared instance first (this sets it up locally)\n",
    "ln.setup.load(\"laminlabs/arrayloader-benchmarks\")\n"
   ]
  },
  {
   "cell_type": "code",
   "execution_count": null,
   "id": "9031d06c-6036-4a1d-88e4-fe082561b6bd",
   "metadata": {},
   "outputs": [],
   "source": [
    "import lamindb as ln\n",
    "\n",
    "ln.connect(\"laminlabs/arrayloader-benchmarks\")\n",
    "collection = ln.Collection.filter(key=\"gather\").one()\n",
    "adata = collection.load(join=\"inner\")\n"
   ]
  },
  {
   "cell_type": "code",
   "execution_count": null,
   "id": "cd4c956e-10ed-49a4-9e88-dd6425700559",
   "metadata": {},
   "outputs": [],
   "source": [
    "# Cell 1: Imports\n",
    "import lamindb as ln\n",
    "import scanpy as sc\n",
    "import pandas as pd\n",
    "import matplotlib.pyplot as plt\n",
    "import seaborn as sns\n",
    "\n",
    "sns.set(style=\"whitegrid\")\n"
   ]
  },
  {
   "cell_type": "code",
   "execution_count": null,
   "id": "16a11ca8-3ac2-429b-ba3d-8762c6ecde6b",
   "metadata": {},
   "outputs": [],
   "source": [
    "# Cell 2: Connect to the Lamin instance\n",
    "# ln.connect(\"laminlabs/arrayloader-benchmarks\")\n",
    "# !lamin load laminlabs/arrayloader-benchmarks\n"
   ]
  },
  {
   "cell_type": "code",
   "execution_count": null,
   "id": "243de5de-10cc-489c-a774-07ed804a37c2",
   "metadata": {},
   "outputs": [],
   "source": [
    "# Cell 3: Load the data collection\n",
    "collection = ln.Collection.filter(key=\"gather\").one()\n",
    "\n",
    "# Ensure all .h5ad parts are downloaded (if not already staged)\n",
    "for artifact in collection.artifacts:\n",
    "    artifact.stage()\n"
   ]
  },
  {
   "cell_type": "code",
   "execution_count": null,
   "id": "df96f97e-1803-464b-a077-73ce40860e03",
   "metadata": {},
   "outputs": [],
   "source": [
    "# Cell 4: Load the joined dataset (inner join = common genes)\n",
    "adata = collection.load(join=\"inner\")\n",
    "adata"
   ]
  },
  {
   "cell_type": "code",
   "execution_count": null,
   "id": "d45c5816-ea86-4b18-b4cc-36ec2c0941b5",
   "metadata": {},
   "outputs": [],
   "source": [
    "# Cell 5: Check available metadata (obs)\n",
    "print(\"Cells:\", adata.n_obs)\n",
    "print(\"Genes:\", adata.n_vars)\n",
    "print(\"Metadata columns:\", adata.obs.columns.tolist())\n"
   ]
  },
  {
   "cell_type": "code",
   "execution_count": null,
   "id": "c087ba5d-0e62-4155-80f7-12d27bb8cc8a",
   "metadata": {},
   "outputs": [],
   "source": [
    "# Cell 6: Visualize covariate distributions\n",
    "adata.obs[\"cell_type\"].value_counts().plot.bar(\n",
    "    figsize=(8, 4), title=\"Cell type distribution\"\n",
    ")\n",
    "plt.ylabel(\"Cell count\")\n",
    "plt.tight_layout()\n",
    "plt.show()\n"
   ]
  },
  {
   "cell_type": "code",
   "execution_count": null,
   "id": "8b2588ff-d905-46fd-8959-eaf6c5b6234b",
   "metadata": {},
   "outputs": [],
   "source": [
    "adata.obs[\"batch\"].value_counts().plot.bar(\n",
    "    figsize=(6, 3), title=\"Batch distribution\"\n",
    ")\n",
    "plt.ylabel(\"Cell count\")\n",
    "plt.tight_layout()\n",
    "plt.show()\n"
   ]
  },
  {
   "cell_type": "code",
   "execution_count": null,
   "id": "f9f62a5f-ff66-4a50-86cf-ea9cf3cb5af6",
   "metadata": {},
   "outputs": [],
   "source": []
  },
  {
   "cell_type": "code",
   "execution_count": null,
   "id": "af47b76c-1c3c-44e8-a33b-17e83b8b6a9e",
   "metadata": {},
   "outputs": [],
   "source": []
  },
  {
   "cell_type": "code",
   "execution_count": null,
   "id": "7871431b-a9b6-4f1b-9611-e961d7165ba4",
   "metadata": {},
   "outputs": [],
   "source": []
  },
  {
   "cell_type": "code",
   "execution_count": null,
   "id": "71da77dd-ba81-4fec-bdb8-b18b84699b28",
   "metadata": {},
   "outputs": [],
   "source": []
  }
 ],
 "metadata": {
  "kernelspec": {
   "display_name": "lamin_env",
   "language": "python",
   "name": "lamin_env"
  },
  "language_info": {
   "codemirror_mode": {
    "name": "ipython",
    "version": 3
   },
   "file_extension": ".py",
   "mimetype": "text/x-python",
   "name": "python",
   "nbconvert_exporter": "python",
   "pygments_lexer": "ipython3",
   "version": "3.12.10"
  }
 },
 "nbformat": 4,
 "nbformat_minor": 5
}
