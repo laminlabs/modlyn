{
 "cells": [
  {
   "cell_type": "markdown",
   "id": "0cd1a7fc-4dc7-44c1-87f9-43deedf0d453",
   "metadata": {},
   "source": [
    "## Step 1\n",
    "\n",
    "Accessed real Lamin data via lamindb\n",
    "\n",
    "Pulled a clean, merged AnnData object\n",
    "\n",
    "Inspected and visualized key covariates\n",
    "\n",
    "Are ready to move to model training\n",
    "\n"
   ]
  },
  {
   "cell_type": "markdown",
   "id": "68b60ac1-e020-4bd3-87c1-97fd4f30a4aa",
   "metadata": {},
   "source": [
    "Connect to LaminDB from AWS.\n",
    "\n",
    "Fetch a subsample of Tahoe-100M (or similar data).\n",
    "\n",
    "Explore basic statistics.\n",
    "\n",
    "Train a multinomial logistic regression model using sklearn.\n",
    "\n",
    "Evaluate prediction performance.\n",
    "\n",
    "Extract and visualize gene weights."
   ]
  },
  {
   "cell_type": "code",
   "execution_count": 8,
   "id": "30540558-5ea9-44b6-b01f-7de57cc54a84",
   "metadata": {},
   "outputs": [],
   "source": [
    "# !lamin login mikaela.koutrouli@cpr.ku.dk --key 01emvZ7k-LMC2cjF726XY31kSmKpRul8nlDCwhkW"
   ]
  },
  {
   "cell_type": "code",
   "execution_count": null,
   "id": "75daf602-a323-42fc-a8cf-58abe8e55f5c",
   "metadata": {},
   "outputs": [],
   "source": [
    "import lamindb as ln\n",
    "ln.connect(\"laminlabs/arrayloader-benchmarks\")"
   ]
  },
  {
   "cell_type": "code",
   "execution_count": 14,
   "id": "198ee16e-328c-49e7-9bc2-3e7286c85c20",
   "metadata": {},
   "outputs": [
    {
     "data": {
      "text/plain": [
       "Artifact(uid='TuhkPw0wkzlUXN5k0000', is_latest=True, key='tahoe100M/shuffled_plate3_subset_1000_100_AB', suffix='', size=3989166, hash='Y-pMgFWbhcdvZsvmXEt--w', n_files=108, space_id=1, storage_id=3, run_id=104, created_by_id=2, created_at=2025-05-10 15:05:47 UTC)"
      ]
     },
     "execution_count": 14,
     "metadata": {},
     "output_type": "execute_result"
    }
   ],
   "source": [
    "import scanpy as sc\n",
    "\n",
    "artifact_tahoe_store = ln.Artifact.get(\"TuhkPw0wkzlUXN5k0000\")\n",
    "artifact_tahoe_store"
   ]
  },
  {
   "cell_type": "code",
   "execution_count": null,
   "id": "c3f7c76f-08c7-4c1d-903d-abeb4a215187",
   "metadata": {},
   "outputs": [],
   "source": []
  },
  {
   "cell_type": "code",
   "execution_count": null,
   "id": "99f4f4c5-ff89-429c-bb93-6dfa843a4ce7",
   "metadata": {},
   "outputs": [],
   "source": []
  },
  {
   "cell_type": "code",
   "execution_count": null,
   "id": "7ae363b7-d5b6-40a1-9e18-65157712c369",
   "metadata": {},
   "outputs": [],
   "source": []
  },
  {
   "cell_type": "code",
   "execution_count": null,
   "id": "ca0eb17d-b109-4058-8d6a-f9a801739e70",
   "metadata": {},
   "outputs": [
    {
     "name": "stdout",
     "output_type": "stream",
     "text": [
      "\u001b[92m→\u001b[0m connected lamindb: laminlabs/arrayloader-benchmarks\n",
      "\u001b[92m→\u001b[0m connected lamindb: laminlabs/arrayloader-benchmarks\n"
     ]
    }
   ],
   "source": [
    "import lamindb as ln\n",
    "import scanpy as sc\n",
    "\n",
    "ln.connect(\"laminlabs/arrayloader-benchmarks\")\n",
    "\n",
    "artifact = ln.Artifact.get(key=\"tahoe100M/plate3_subset_1000_100_A.h5ad\")\n",
    "\n",
    "# Force the file to be downloaded first\n",
    "artifact.download()  # This should take a few seconds and print progress\n",
    "\n",
    "# Then load into memory\n",
    "adata = sc.read_h5ad(artifact.path())\n",
    "print(adata)\n"
   ]
  },
  {
   "cell_type": "code",
   "execution_count": 1,
   "id": "9f1fbfc3-1a38-4964-8f35-3adebf7e70f8",
   "metadata": {},
   "outputs": [],
   "source": [
    "# ln.Artifact.get(\"TuhkPw0wkzlUXN5k0000\")"
   ]
  },
  {
   "cell_type": "code",
   "execution_count": 1,
   "id": "36d4a754-0a74-41fa-a901-fa55e17bf8ed",
   "metadata": {},
   "outputs": [
    {
     "name": "stdout",
     "output_type": "stream",
     "text": [
      "\u001b[92m→\u001b[0m connected lamindb: laminlabs/arc-virtual-cell-atlas\n",
      "\u001b[92m→\u001b[0m connected lamindb: laminlabs/arc-virtual-cell-atlas\n"
     ]
    }
   ],
   "source": [
    "import lamindb as ln\n",
    "# ln.connect(\"laminlabs/arc-virtual-cell-atlas\") #laminlabs/arrayloader-benchmarks\n",
    "ln.connect(\"laminlabs/arrayloader-benchmarks\") #laminlabs/arrayloader-benchmarks\n"
   ]
  },
  {
   "cell_type": "code",
   "execution_count": 3,
   "id": "10863020-20a8-419c-99d9-f665197332cb",
   "metadata": {},
   "outputs": [
    {
     "data": {
      "text/html": [
       "<div>\n",
       "<style scoped>\n",
       "    .dataframe tbody tr th:only-of-type {\n",
       "        vertical-align: middle;\n",
       "    }\n",
       "\n",
       "    .dataframe tbody tr th {\n",
       "        vertical-align: top;\n",
       "    }\n",
       "\n",
       "    .dataframe thead th {\n",
       "        text-align: right;\n",
       "    }\n",
       "</style>\n",
       "<table border=\"1\" class=\"dataframe\">\n",
       "  <thead>\n",
       "    <tr style=\"text-align: right;\">\n",
       "      <th></th>\n",
       "      <th>name</th>\n",
       "      <th>uid</th>\n",
       "    </tr>\n",
       "    <tr>\n",
       "      <th>id</th>\n",
       "      <th></th>\n",
       "      <th></th>\n",
       "    </tr>\n",
       "  </thead>\n",
       "  <tbody>\n",
       "    <tr>\n",
       "      <th>2</th>\n",
       "      <td>scBaseCount</td>\n",
       "      <td>vdK00t9DGwHP</td>\n",
       "    </tr>\n",
       "    <tr>\n",
       "      <th>1</th>\n",
       "      <td>Tahoe-100M</td>\n",
       "      <td>H5MwZwyA62rG</td>\n",
       "    </tr>\n",
       "  </tbody>\n",
       "</table>\n",
       "</div>"
      ],
      "text/plain": [
       "           name           uid\n",
       "id                           \n",
       "2   scBaseCount  vdK00t9DGwHP\n",
       "1    Tahoe-100M  H5MwZwyA62rG"
      ]
     },
     "execution_count": 3,
     "metadata": {},
     "output_type": "execute_result"
    }
   ],
   "source": [
    "ln.Project.df()[['name', 'uid']]\n"
   ]
  },
  {
   "cell_type": "code",
   "execution_count": null,
   "id": "44ddf8be-1281-46e1-934b-70661509fe83",
   "metadata": {},
   "outputs": [],
   "source": [
    "collection = ln.Collection.filter(key=\"tahoe100M\").one()\n",
    "artifacts = collection.artifacts.df()\n",
    "print(artifacts[[\"key\", \"n_observations\", \"size\"]].head())\n"
   ]
  },
  {
   "cell_type": "code",
   "execution_count": 24,
   "id": "294a12db-cdc1-415b-b4ec-e2ed8aa0ad71",
   "metadata": {},
   "outputs": [],
   "source": [
    "# artifact = ln.Artifact.get(key=\"tahoe100M/plate3_subset_1000_100_A.h5ad\")\n",
    "# adata = sc.read_h5ad(artifact.path())  \n"
   ]
  },
  {
   "cell_type": "code",
   "execution_count": null,
   "id": "0601d9aa-6b80-447c-9f72-f5b589acaeae",
   "metadata": {},
   "outputs": [],
   "source": []
  },
  {
   "cell_type": "code",
   "execution_count": 18,
   "id": "da948c2a-d8bb-4006-a07a-368b4fd9080b",
   "metadata": {},
   "outputs": [
    {
     "name": "stdout",
     "output_type": "stream",
     "text": [
      "Project(uid='H5MwZwyA62rG', name='Tahoe-100M', is_type=False, url='https://arcinstitute.org/tools/virtualcellatlas', space_id=1, created_by_id=4, run_id=85, created_at=2025-02-26 16:03:40 UTC)\n"
     ]
    }
   ],
   "source": [
    "# import lamindb as ln\n",
    "# Get the Tahoe-100M project by name\n",
    "project_tahoe = ln.Project.get(name=\"Tahoe-100M\")\n",
    "print(project_tahoe)\n"
   ]
  },
  {
   "cell_type": "code",
   "execution_count": 20,
   "id": "6a476e1e-8253-4bfa-9f70-e4679128a729",
   "metadata": {},
   "outputs": [],
   "source": [
    "# project = ln.Project.get(name=\"Tahoe-100M\")\n",
    "# print(project)\n",
    "# collection = ln.Collection.get(key=\"tahoe100\")\n",
    "# print(collection, \"contains\", collection.artifacts.count(), \"artifacts\")\n",
    "\n",
    "# artifacts_df = collection.artifacts.distinct().df()\n",
    "# print(artifacts_df[['key','n_observations','size']].head())\n"
   ]
  },
  {
   "cell_type": "code",
   "execution_count": 21,
   "id": "82d2f8a0-d206-4019-a1d3-2ae8f1dd75df",
   "metadata": {},
   "outputs": [
    {
     "ename": "NameError",
     "evalue": "name 'artifacts_df' is not defined",
     "output_type": "error",
     "traceback": [
      "\u001b[31m---------------------------------------------------------------------------\u001b[39m",
      "\u001b[31mNameError\u001b[39m                                 Traceback (most recent call last)",
      "\u001b[36mCell\u001b[39m\u001b[36m \u001b[39m\u001b[32mIn[21]\u001b[39m\u001b[32m, line 4\u001b[39m\n\u001b[32m      1\u001b[39m \u001b[38;5;66;03m# artifact = ln.Artifact.get(key=\"plvz5n0YX1fVWbEp0000\")\u001b[39;00m\n\u001b[32m      2\u001b[39m \u001b[38;5;66;03m# adata = artifact.open()   # returns an AnnData-like object\u001b[39;00m\n\u001b[32m----> \u001b[39m\u001b[32m4\u001b[39m artifact_key = \u001b[43martifacts_df\u001b[49m.iloc[\u001b[32m0\u001b[39m][\u001b[33m'\u001b[39m\u001b[33mkey\u001b[39m\u001b[33m'\u001b[39m]\n\u001b[32m      5\u001b[39m \u001b[38;5;28mprint\u001b[39m(artifact_key)\n\u001b[32m      6\u001b[39m \u001b[38;5;66;03m# artifact = ln.Artifact.get(key=artifact_key)\u001b[39;00m\n\u001b[32m      7\u001b[39m \u001b[38;5;66;03m# artifact\u001b[39;00m\n\u001b[32m      8\u001b[39m \u001b[38;5;66;03m# adata = artifact.open()   \u001b[39;00m\n\u001b[32m      9\u001b[39m \u001b[38;5;66;03m# adata\u001b[39;00m\n",
      "\u001b[31mNameError\u001b[39m: name 'artifacts_df' is not defined"
     ]
    }
   ],
   "source": [
    "# artifact = ln.Artifact.get(key=\"plvz5n0YX1fVWbEp0000\")\n",
    "# adata = artifact.open()   # returns an AnnData-like object\n",
    "\n",
    "artifact_key = artifacts_df.iloc[0]['key']\n",
    "print(artifact_key)\n",
    "# artifact = ln.Artifact.get(key=artifact_key)\n",
    "# artifact\n",
    "# adata = artifact.open()   \n",
    "# adata"
   ]
  },
  {
   "cell_type": "code",
   "execution_count": null,
   "id": "43d4be9b-6425-4828-bf61-abae589be8e2",
   "metadata": {},
   "outputs": [],
   "source": []
  },
  {
   "cell_type": "code",
   "execution_count": null,
   "id": "8ec8c26a-ced5-4088-83c3-f83e530e848d",
   "metadata": {},
   "outputs": [],
   "source": []
  },
  {
   "cell_type": "code",
   "execution_count": 10,
   "id": "8c01efa0-f221-4bda-b5e7-7d74ad49f6b4",
   "metadata": {},
   "outputs": [],
   "source": [
    "# adata.obs['perturbation'].value_counts().plot(kind='bar')\n",
    "# plt.title(\"Drug (perturbation) label distribution\")\n",
    "# plt.xlabel(\"Drug\"); plt.ylabel(\"Count\")\n",
    "# plt.tight_layout()\n"
   ]
  },
  {
   "cell_type": "code",
   "execution_count": null,
   "id": "d385a2bb-d564-4c6e-bb59-3eddfdb257fe",
   "metadata": {},
   "outputs": [],
   "source": [
    "# Subset to one cell line (e.g. 'A375')\n",
    "cellline = 'A375'\n",
    "adata_cl = adata[adata.obs['cell_line'] == cellline, :]\n",
    "\n",
    "# Find top 3 most common drugs within this cell line\n",
    "top_drugs = adata_cl.obs['perturbation'].value_counts().nlargest(3).index.tolist()\n",
    "adata_sub = adata_cl[adata_cl.obs['perturbation'].isin(top_drugs), :]\n",
    "\n",
    "print(f\"Selected {adata_sub.n_obs} cells across drugs: {adata_sub.obs['perturbation'].unique().tolist()}\")\n"
   ]
  },
  {
   "cell_type": "code",
   "execution_count": null,
   "id": "6530a013-07f8-49e8-8ce1-10dc7c7eef3c",
   "metadata": {},
   "outputs": [],
   "source": []
  },
  {
   "cell_type": "code",
   "execution_count": null,
   "id": "a2bae2d7-8a71-4a56-b2e6-405a4f4b2f48",
   "metadata": {},
   "outputs": [],
   "source": []
  },
  {
   "cell_type": "code",
   "execution_count": 41,
   "id": "9af31edd-f1ac-44d4-b2f9-796f4f4c3301",
   "metadata": {},
   "outputs": [
    {
     "name": "stdout",
     "output_type": "stream",
     "text": [
      "Project(uid='H5MwZwyA62rG', name='Tahoe-100M', is_type=False, url='https://arcinstitute.org/tools/virtualcellatlas', space_id=1, created_by_id=1, created_at=2025-02-26 16:03:40 UTC)\n",
      "Collection(uid='BpavRL4ntRTzWEE50000', version='2025-02-25', is_latest=True, key='tahoe100', hash='GCLk4ZgQxgWspjmEUk3gIg', space_id=1, created_by_id=1, run_id=3, created_at=2025-02-26 13:51:22 UTC) contains 14 artifacts\n"
     ]
    }
   ],
   "source": [
    "# 1. Connect to LaminDB instance and authenticate\n",
    "# If needed, install required packages (uncomment the next line):\n",
    "# !pip install lamindb anndata scanpy scikit-learn seaborn matplotlib\n",
    "import os\n",
    "import lamindb as ln\n",
    "\n",
    "# # Use environment variables or insert your Lamin credentials\n",
    "# user = os.getenv(\"mikelkou\")\n",
    "# api_key = os.getenv(\"8XF7LaZnEbIbcxvddzLTBqr74CygvH7WP7WdDMxY\")\n",
    "# ln.login(user=user, api_key=api_key)\n",
    "# ln.connect(\"laminlabs/arrayloader-benchmarks\")\n",
    "project = ln.Project.get(name=\"Tahoe-100M\")\n",
    "print(project)\n",
    "collection = ln.Collection.get(key=\"tahoe100\")\n",
    "print(collection, \"contains\", collection.artifacts.count(), \"artifacts\")\n"
   ]
  },
  {
   "cell_type": "code",
   "execution_count": 42,
   "id": "b62b1e3f-6fdb-4755-a5c6-95ac1dc1d269",
   "metadata": {},
   "outputs": [
    {
     "ename": "InvalidArgument",
     "evalue": "You can query either by available fields: cell_lines, cell_markers, cell_types, collections, created_at, created_by, description, developmental_stages, diseases, ethnicities, experimental_factors, feature_sets, genes, hash, id, input_of_runs, is_latest, key, kind, n_files, n_observations, organisms, otype, pathways, phenotypes, projects, proteins, references, run, schema, size, space, storage, suffix, tissues, transform, uid, ulabels, updated_at, version, visibility\nOr fix invalid feature names: name",
     "output_type": "error",
     "traceback": [
      "\u001b[0;31m---------------------------------------------------------------------------\u001b[0m",
      "\u001b[0;31mInvalidArgument\u001b[0m                           Traceback (most recent call last)",
      "Cell \u001b[0;32mIn[42], line 1\u001b[0m\n\u001b[0;32m----> 1\u001b[0m artifact \u001b[38;5;241m=\u001b[39m \u001b[43mln\u001b[49m\u001b[38;5;241;43m.\u001b[39;49m\u001b[43mArtifact\u001b[49m\u001b[38;5;241;43m.\u001b[39;49m\u001b[43mfilter\u001b[49m\u001b[43m(\u001b[49m\u001b[43mname\u001b[49m\u001b[38;5;241;43m=\u001b[39;49m\u001b[38;5;124;43m\"\u001b[39;49m\u001b[38;5;124;43mplvz5n0YX1fVWbEp0000\u001b[39;49m\u001b[38;5;124;43m\"\u001b[39;49m\u001b[43m)\u001b[49m\u001b[38;5;241m.\u001b[39mone()\n\u001b[1;32m      2\u001b[0m artifact\n",
      "File \u001b[0;32m~/conda/envs/lamin310/lib/python3.10/site-packages/lamindb/models/artifact.py:1600\u001b[0m, in \u001b[0;36mArtifact.filter\u001b[0;34m(cls, *queries, **expressions)\u001b[0m\n\u001b[1;32m   1598\u001b[0m             message \u001b[38;5;241m=\u001b[39m \u001b[38;5;124mf\u001b[39m\u001b[38;5;124m\"\u001b[39m\u001b[38;5;124mfeature names: \u001b[39m\u001b[38;5;132;01m{\u001b[39;00mfeatures\u001b[38;5;132;01m}\u001b[39;00m\u001b[38;5;124m\"\u001b[39m\n\u001b[1;32m   1599\u001b[0m         fields \u001b[38;5;241m=\u001b[39m \u001b[38;5;124m\"\u001b[39m\u001b[38;5;124m, \u001b[39m\u001b[38;5;124m\"\u001b[39m\u001b[38;5;241m.\u001b[39mjoin(\u001b[38;5;28msorted\u001b[39m(\u001b[38;5;28mcls\u001b[39m\u001b[38;5;241m.\u001b[39m__get_available_fields__()))\n\u001b[0;32m-> 1600\u001b[0m         \u001b[38;5;28;01mraise\u001b[39;00m InvalidArgument(\n\u001b[1;32m   1601\u001b[0m             \u001b[38;5;124mf\u001b[39m\u001b[38;5;124m\"\u001b[39m\u001b[38;5;124mYou can query either by available fields: \u001b[39m\u001b[38;5;132;01m{\u001b[39;00mfields\u001b[38;5;132;01m}\u001b[39;00m\u001b[38;5;130;01m\\n\u001b[39;00m\u001b[38;5;124m\"\u001b[39m\n\u001b[1;32m   1602\u001b[0m             \u001b[38;5;124mf\u001b[39m\u001b[38;5;124m\"\u001b[39m\u001b[38;5;124mOr fix invalid \u001b[39m\u001b[38;5;132;01m{\u001b[39;00mmessage\u001b[38;5;132;01m}\u001b[39;00m\u001b[38;5;124m\"\u001b[39m\n\u001b[1;32m   1603\u001b[0m         )\n\u001b[1;32m   1604\u001b[0m \u001b[38;5;28;01melse\u001b[39;00m:\n\u001b[1;32m   1605\u001b[0m     \u001b[38;5;28;01mreturn\u001b[39;00m QuerySet(model\u001b[38;5;241m=\u001b[39m\u001b[38;5;28mcls\u001b[39m)\u001b[38;5;241m.\u001b[39mfilter(\u001b[38;5;241m*\u001b[39mqueries, \u001b[38;5;241m*\u001b[39m\u001b[38;5;241m*\u001b[39mexpressions)\n",
      "\u001b[0;31mInvalidArgument\u001b[0m: You can query either by available fields: cell_lines, cell_markers, cell_types, collections, created_at, created_by, description, developmental_stages, diseases, ethnicities, experimental_factors, feature_sets, genes, hash, id, input_of_runs, is_latest, key, kind, n_files, n_observations, organisms, otype, pathways, phenotypes, projects, proteins, references, run, schema, size, space, storage, suffix, tissues, transform, uid, ulabels, updated_at, version, visibility\nOr fix invalid feature names: name"
     ]
    }
   ],
   "source": [
    "artifact = ln.Artifact.filter(name=\"plvz5n0YX1fVWbEp0000\").one()\n",
    "artifact"
   ]
  },
  {
   "cell_type": "code",
   "execution_count": 16,
   "id": "e582645e-4848-42eb-bcc9-464cec06d196",
   "metadata": {},
   "outputs": [
    {
     "data": {
      "text/html": [
       "<div>\n",
       "<style scoped>\n",
       "    .dataframe tbody tr th:only-of-type {\n",
       "        vertical-align: middle;\n",
       "    }\n",
       "\n",
       "    .dataframe tbody tr th {\n",
       "        vertical-align: top;\n",
       "    }\n",
       "\n",
       "    .dataframe thead th {\n",
       "        text-align: right;\n",
       "    }\n",
       "</style>\n",
       "<table border=\"1\" class=\"dataframe\">\n",
       "  <thead>\n",
       "    <tr style=\"text-align: right;\">\n",
       "      <th></th>\n",
       "      <th>uid</th>\n",
       "      <th>key</th>\n",
       "      <th>description</th>\n",
       "      <th>suffix</th>\n",
       "      <th>kind</th>\n",
       "      <th>otype</th>\n",
       "      <th>size</th>\n",
       "      <th>hash</th>\n",
       "      <th>n_files</th>\n",
       "      <th>n_observations</th>\n",
       "      <th>_hash_type</th>\n",
       "      <th>_key_is_virtual</th>\n",
       "      <th>_overwrite_versions</th>\n",
       "      <th>space_id</th>\n",
       "      <th>storage_id</th>\n",
       "      <th>schema_id</th>\n",
       "      <th>version</th>\n",
       "      <th>is_latest</th>\n",
       "      <th>run_id</th>\n",
       "      <th>created_at</th>\n",
       "      <th>created_by_id</th>\n",
       "      <th>_aux</th>\n",
       "      <th>_branch_code</th>\n",
       "    </tr>\n",
       "    <tr>\n",
       "      <th>id</th>\n",
       "      <th></th>\n",
       "      <th></th>\n",
       "      <th></th>\n",
       "      <th></th>\n",
       "      <th></th>\n",
       "      <th></th>\n",
       "      <th></th>\n",
       "      <th></th>\n",
       "      <th></th>\n",
       "      <th></th>\n",
       "      <th></th>\n",
       "      <th></th>\n",
       "      <th></th>\n",
       "      <th></th>\n",
       "      <th></th>\n",
       "      <th></th>\n",
       "      <th></th>\n",
       "      <th></th>\n",
       "      <th></th>\n",
       "      <th></th>\n",
       "      <th></th>\n",
       "      <th></th>\n",
       "      <th></th>\n",
       "    </tr>\n",
       "  </thead>\n",
       "  <tbody>\n",
       "    <tr>\n",
       "      <th>444</th>\n",
       "      <td>aJIqo7bNyJAs9z0r0000</td>\n",
       "      <td>2025-02-25/h5ad/plate1_filt_Vevo_Tahoe100M_WSe...</td>\n",
       "      <td>None</td>\n",
       "      <td>.h5ad</td>\n",
       "      <td>dataset</td>\n",
       "      <td>AnnData</td>\n",
       "      <td>19070623904</td>\n",
       "      <td>9iCNcouMqfNS3HA/2GUWOA</td>\n",
       "      <td>NaN</td>\n",
       "      <td>5481420.0</td>\n",
       "      <td>md5</td>\n",
       "      <td>False</td>\n",
       "      <td>False</td>\n",
       "      <td>1</td>\n",
       "      <td>5</td>\n",
       "      <td>5.0</td>\n",
       "      <td>None</td>\n",
       "      <td>True</td>\n",
       "      <td>85.0</td>\n",
       "      <td>2025-02-25 23:22:19.737995+00:00</td>\n",
       "      <td>4</td>\n",
       "      <td>None</td>\n",
       "      <td>1</td>\n",
       "    </tr>\n",
       "    <tr>\n",
       "      <th>445</th>\n",
       "      <td>ZFeVfd0ugAHeWCxm0000</td>\n",
       "      <td>2025-02-25/h5ad/plate2_filt_Vevo_Tahoe100M_WSe...</td>\n",
       "      <td>None</td>\n",
       "      <td>.h5ad</td>\n",
       "      <td>dataset</td>\n",
       "      <td>AnnData</td>\n",
       "      <td>29037152127</td>\n",
       "      <td>usxviuqGbuw0RYnECCVCWw</td>\n",
       "      <td>NaN</td>\n",
       "      <td>8064658.0</td>\n",
       "      <td>md5</td>\n",
       "      <td>False</td>\n",
       "      <td>False</td>\n",
       "      <td>1</td>\n",
       "      <td>5</td>\n",
       "      <td>5.0</td>\n",
       "      <td>None</td>\n",
       "      <td>True</td>\n",
       "      <td>85.0</td>\n",
       "      <td>2025-02-25 23:22:20.113956+00:00</td>\n",
       "      <td>4</td>\n",
       "      <td>None</td>\n",
       "      <td>1</td>\n",
       "    </tr>\n",
       "    <tr>\n",
       "      <th>299</th>\n",
       "      <td>EsjG7XriCmfHPQQPY8sI</td>\n",
       "      <td>None</td>\n",
       "      <td>Dissection: Amygdaloid complex (AMY) - basolat...</td>\n",
       "      <td>.h5ad</td>\n",
       "      <td>None</td>\n",
       "      <td>AnnData</td>\n",
       "      <td>199778278</td>\n",
       "      <td>uut8UJWikjFM98frUFicE6</td>\n",
       "      <td>NaN</td>\n",
       "      <td>NaN</td>\n",
       "      <td>sha1-fl</td>\n",
       "      <td>True</td>\n",
       "      <td>False</td>\n",
       "      <td>1</td>\n",
       "      <td>1</td>\n",
       "      <td>NaN</td>\n",
       "      <td>None</td>\n",
       "      <td>True</td>\n",
       "      <td>16.0</td>\n",
       "      <td>2024-01-25 14:41:23.286676+00:00</td>\n",
       "      <td>1</td>\n",
       "      <td>None</td>\n",
       "      <td>1</td>\n",
       "    </tr>\n",
       "    <tr>\n",
       "      <th>176</th>\n",
       "      <td>XV2EdShHysGYrWQKPYmm</td>\n",
       "      <td>None</td>\n",
       "      <td>Dissection: Spinal cord - SpC subset of 20k vars</td>\n",
       "      <td>.h5ad</td>\n",
       "      <td>None</td>\n",
       "      <td>AnnData</td>\n",
       "      <td>79701636</td>\n",
       "      <td>_lN0urEG2EMYzAHf9Kg3Mc</td>\n",
       "      <td>NaN</td>\n",
       "      <td>NaN</td>\n",
       "      <td>sha1-fl</td>\n",
       "      <td>True</td>\n",
       "      <td>False</td>\n",
       "      <td>1</td>\n",
       "      <td>1</td>\n",
       "      <td>NaN</td>\n",
       "      <td>None</td>\n",
       "      <td>True</td>\n",
       "      <td>16.0</td>\n",
       "      <td>2024-01-25 12:09:48.928637+00:00</td>\n",
       "      <td>1</td>\n",
       "      <td>None</td>\n",
       "      <td>1</td>\n",
       "    </tr>\n",
       "    <tr>\n",
       "      <th>309</th>\n",
       "      <td>UU0rSmjkKwotOzk3KNX7</td>\n",
       "      <td>None</td>\n",
       "      <td>Dissection: Hypothalamus (HTH) - preoptic regi...</td>\n",
       "      <td>.h5ad</td>\n",
       "      <td>None</td>\n",
       "      <td>AnnData</td>\n",
       "      <td>81225345</td>\n",
       "      <td>rifwtickznxtRNoeJ8wi7L</td>\n",
       "      <td>NaN</td>\n",
       "      <td>NaN</td>\n",
       "      <td>sha1-fl</td>\n",
       "      <td>True</td>\n",
       "      <td>False</td>\n",
       "      <td>1</td>\n",
       "      <td>1</td>\n",
       "      <td>NaN</td>\n",
       "      <td>None</td>\n",
       "      <td>True</td>\n",
       "      <td>16.0</td>\n",
       "      <td>2024-01-25 14:48:10.303480+00:00</td>\n",
       "      <td>1</td>\n",
       "      <td>None</td>\n",
       "      <td>1</td>\n",
       "    </tr>\n",
       "    <tr>\n",
       "      <th>...</th>\n",
       "      <td>...</td>\n",
       "      <td>...</td>\n",
       "      <td>...</td>\n",
       "      <td>...</td>\n",
       "      <td>...</td>\n",
       "      <td>...</td>\n",
       "      <td>...</td>\n",
       "      <td>...</td>\n",
       "      <td>...</td>\n",
       "      <td>...</td>\n",
       "      <td>...</td>\n",
       "      <td>...</td>\n",
       "      <td>...</td>\n",
       "      <td>...</td>\n",
       "      <td>...</td>\n",
       "      <td>...</td>\n",
       "      <td>...</td>\n",
       "      <td>...</td>\n",
       "      <td>...</td>\n",
       "      <td>...</td>\n",
       "      <td>...</td>\n",
       "      <td>...</td>\n",
       "      <td>...</td>\n",
       "    </tr>\n",
       "    <tr>\n",
       "      <th>130</th>\n",
       "      <td>nPgLBocitaiXVxcAUULS</td>\n",
       "      <td>cell-census/2023-12-15/h5ads/cfa755c1-48c5-433...</td>\n",
       "      <td>Supercluster: Choroid plexus</td>\n",
       "      <td>.h5ad</td>\n",
       "      <td>None</td>\n",
       "      <td>AnnData</td>\n",
       "      <td>85270733</td>\n",
       "      <td>NCVJvNb53mrftmFrrW2szQ</td>\n",
       "      <td>NaN</td>\n",
       "      <td>7689.0</td>\n",
       "      <td>md5-n</td>\n",
       "      <td>False</td>\n",
       "      <td>False</td>\n",
       "      <td>1</td>\n",
       "      <td>2</td>\n",
       "      <td>NaN</td>\n",
       "      <td>None</td>\n",
       "      <td>True</td>\n",
       "      <td>NaN</td>\n",
       "      <td>2024-01-16 13:21:26.342730+00:00</td>\n",
       "      <td>1</td>\n",
       "      <td>None</td>\n",
       "      <td>1</td>\n",
       "    </tr>\n",
       "    <tr>\n",
       "      <th>23</th>\n",
       "      <td>U2xftdsrYVKVEQ4KXlMA</td>\n",
       "      <td>cell-census/2023-12-15/h5ads/04a23820-ffa8-4be...</td>\n",
       "      <td>Supercluster: Upper rhombic lip</td>\n",
       "      <td>.h5ad</td>\n",
       "      <td>None</td>\n",
       "      <td>AnnData</td>\n",
       "      <td>710633334</td>\n",
       "      <td>JFg7Wq9Fm3zmYaPz5hd-6A</td>\n",
       "      <td>NaN</td>\n",
       "      <td>137162.0</td>\n",
       "      <td>md5-n</td>\n",
       "      <td>False</td>\n",
       "      <td>False</td>\n",
       "      <td>1</td>\n",
       "      <td>2</td>\n",
       "      <td>NaN</td>\n",
       "      <td>None</td>\n",
       "      <td>True</td>\n",
       "      <td>NaN</td>\n",
       "      <td>2024-01-16 13:09:13.293118+00:00</td>\n",
       "      <td>1</td>\n",
       "      <td>None</td>\n",
       "      <td>1</td>\n",
       "    </tr>\n",
       "    <tr>\n",
       "      <th>185</th>\n",
       "      <td>dFacxzR3sAoU6bGGq4xF</td>\n",
       "      <td>None</td>\n",
       "      <td>Supercluster: Midbrain-derived inhibitory subs...</td>\n",
       "      <td>.h5ad</td>\n",
       "      <td>None</td>\n",
       "      <td>AnnData</td>\n",
       "      <td>708360028</td>\n",
       "      <td>0M3biAukM9d8kZDEW2edxN</td>\n",
       "      <td>NaN</td>\n",
       "      <td>NaN</td>\n",
       "      <td>sha1-fl</td>\n",
       "      <td>True</td>\n",
       "      <td>False</td>\n",
       "      <td>1</td>\n",
       "      <td>1</td>\n",
       "      <td>NaN</td>\n",
       "      <td>None</td>\n",
       "      <td>True</td>\n",
       "      <td>16.0</td>\n",
       "      <td>2024-01-25 12:15:33.786004+00:00</td>\n",
       "      <td>1</td>\n",
       "      <td>None</td>\n",
       "      <td>1</td>\n",
       "    </tr>\n",
       "    <tr>\n",
       "      <th>215</th>\n",
       "      <td>QFHGlie26RlHLyzAfZCo</td>\n",
       "      <td>None</td>\n",
       "      <td>Dissection: Body of hippocampus (HiB) - Rostra...</td>\n",
       "      <td>.h5ad</td>\n",
       "      <td>None</td>\n",
       "      <td>AnnData</td>\n",
       "      <td>207365165</td>\n",
       "      <td>_5ozWBUqrrdsiVgvrQtcC9</td>\n",
       "      <td>NaN</td>\n",
       "      <td>NaN</td>\n",
       "      <td>sha1-fl</td>\n",
       "      <td>True</td>\n",
       "      <td>False</td>\n",
       "      <td>1</td>\n",
       "      <td>1</td>\n",
       "      <td>NaN</td>\n",
       "      <td>None</td>\n",
       "      <td>True</td>\n",
       "      <td>16.0</td>\n",
       "      <td>2024-01-25 12:42:57.067173+00:00</td>\n",
       "      <td>1</td>\n",
       "      <td>None</td>\n",
       "      <td>1</td>\n",
       "    </tr>\n",
       "    <tr>\n",
       "      <th>270</th>\n",
       "      <td>7nzFitJ9MilMji5I4Wga</td>\n",
       "      <td>None</td>\n",
       "      <td>Dissection: Thalamus (THM) - lateral nuclear c...</td>\n",
       "      <td>.h5ad</td>\n",
       "      <td>None</td>\n",
       "      <td>AnnData</td>\n",
       "      <td>27303234</td>\n",
       "      <td>elvPkZvwxOclUX--_J-stQ</td>\n",
       "      <td>NaN</td>\n",
       "      <td>NaN</td>\n",
       "      <td>md5</td>\n",
       "      <td>True</td>\n",
       "      <td>False</td>\n",
       "      <td>1</td>\n",
       "      <td>1</td>\n",
       "      <td>NaN</td>\n",
       "      <td>None</td>\n",
       "      <td>True</td>\n",
       "      <td>16.0</td>\n",
       "      <td>2024-01-25 14:19:29.407951+00:00</td>\n",
       "      <td>1</td>\n",
       "      <td>None</td>\n",
       "      <td>1</td>\n",
       "    </tr>\n",
       "  </tbody>\n",
       "</table>\n",
       "<p>317 rows × 23 columns</p>\n",
       "</div>"
      ],
      "text/plain": [
       "                      uid                                                key  \\\n",
       "id                                                                             \n",
       "444  aJIqo7bNyJAs9z0r0000  2025-02-25/h5ad/plate1_filt_Vevo_Tahoe100M_WSe...   \n",
       "445  ZFeVfd0ugAHeWCxm0000  2025-02-25/h5ad/plate2_filt_Vevo_Tahoe100M_WSe...   \n",
       "299  EsjG7XriCmfHPQQPY8sI                                               None   \n",
       "176  XV2EdShHysGYrWQKPYmm                                               None   \n",
       "309  UU0rSmjkKwotOzk3KNX7                                               None   \n",
       "..                    ...                                                ...   \n",
       "130  nPgLBocitaiXVxcAUULS  cell-census/2023-12-15/h5ads/cfa755c1-48c5-433...   \n",
       "23   U2xftdsrYVKVEQ4KXlMA  cell-census/2023-12-15/h5ads/04a23820-ffa8-4be...   \n",
       "185  dFacxzR3sAoU6bGGq4xF                                               None   \n",
       "215  QFHGlie26RlHLyzAfZCo                                               None   \n",
       "270  7nzFitJ9MilMji5I4Wga                                               None   \n",
       "\n",
       "                                           description suffix     kind  \\\n",
       "id                                                                       \n",
       "444                                               None  .h5ad  dataset   \n",
       "445                                               None  .h5ad  dataset   \n",
       "299  Dissection: Amygdaloid complex (AMY) - basolat...  .h5ad     None   \n",
       "176   Dissection: Spinal cord - SpC subset of 20k vars  .h5ad     None   \n",
       "309  Dissection: Hypothalamus (HTH) - preoptic regi...  .h5ad     None   \n",
       "..                                                 ...    ...      ...   \n",
       "130                       Supercluster: Choroid plexus  .h5ad     None   \n",
       "23                     Supercluster: Upper rhombic lip  .h5ad     None   \n",
       "185  Supercluster: Midbrain-derived inhibitory subs...  .h5ad     None   \n",
       "215  Dissection: Body of hippocampus (HiB) - Rostra...  .h5ad     None   \n",
       "270  Dissection: Thalamus (THM) - lateral nuclear c...  .h5ad     None   \n",
       "\n",
       "       otype         size                    hash  n_files  n_observations  \\\n",
       "id                                                                           \n",
       "444  AnnData  19070623904  9iCNcouMqfNS3HA/2GUWOA      NaN       5481420.0   \n",
       "445  AnnData  29037152127  usxviuqGbuw0RYnECCVCWw      NaN       8064658.0   \n",
       "299  AnnData    199778278  uut8UJWikjFM98frUFicE6      NaN             NaN   \n",
       "176  AnnData     79701636  _lN0urEG2EMYzAHf9Kg3Mc      NaN             NaN   \n",
       "309  AnnData     81225345  rifwtickznxtRNoeJ8wi7L      NaN             NaN   \n",
       "..       ...          ...                     ...      ...             ...   \n",
       "130  AnnData     85270733  NCVJvNb53mrftmFrrW2szQ      NaN          7689.0   \n",
       "23   AnnData    710633334  JFg7Wq9Fm3zmYaPz5hd-6A      NaN        137162.0   \n",
       "185  AnnData    708360028  0M3biAukM9d8kZDEW2edxN      NaN             NaN   \n",
       "215  AnnData    207365165  _5ozWBUqrrdsiVgvrQtcC9      NaN             NaN   \n",
       "270  AnnData     27303234  elvPkZvwxOclUX--_J-stQ      NaN             NaN   \n",
       "\n",
       "    _hash_type  _key_is_virtual  _overwrite_versions  space_id  storage_id  \\\n",
       "id                                                                           \n",
       "444        md5            False                False         1           5   \n",
       "445        md5            False                False         1           5   \n",
       "299    sha1-fl             True                False         1           1   \n",
       "176    sha1-fl             True                False         1           1   \n",
       "309    sha1-fl             True                False         1           1   \n",
       "..         ...              ...                  ...       ...         ...   \n",
       "130      md5-n            False                False         1           2   \n",
       "23       md5-n            False                False         1           2   \n",
       "185    sha1-fl             True                False         1           1   \n",
       "215    sha1-fl             True                False         1           1   \n",
       "270        md5             True                False         1           1   \n",
       "\n",
       "     schema_id version  is_latest  run_id                       created_at  \\\n",
       "id                                                                           \n",
       "444        5.0    None       True    85.0 2025-02-25 23:22:19.737995+00:00   \n",
       "445        5.0    None       True    85.0 2025-02-25 23:22:20.113956+00:00   \n",
       "299        NaN    None       True    16.0 2024-01-25 14:41:23.286676+00:00   \n",
       "176        NaN    None       True    16.0 2024-01-25 12:09:48.928637+00:00   \n",
       "309        NaN    None       True    16.0 2024-01-25 14:48:10.303480+00:00   \n",
       "..         ...     ...        ...     ...                              ...   \n",
       "130        NaN    None       True     NaN 2024-01-16 13:21:26.342730+00:00   \n",
       "23         NaN    None       True     NaN 2024-01-16 13:09:13.293118+00:00   \n",
       "185        NaN    None       True    16.0 2024-01-25 12:15:33.786004+00:00   \n",
       "215        NaN    None       True    16.0 2024-01-25 12:42:57.067173+00:00   \n",
       "270        NaN    None       True    16.0 2024-01-25 14:19:29.407951+00:00   \n",
       "\n",
       "     created_by_id  _aux  _branch_code  \n",
       "id                                      \n",
       "444              4  None             1  \n",
       "445              4  None             1  \n",
       "299              1  None             1  \n",
       "176              1  None             1  \n",
       "309              1  None             1  \n",
       "..             ...   ...           ...  \n",
       "130              1  None             1  \n",
       "23               1  None             1  \n",
       "185              1  None             1  \n",
       "215              1  None             1  \n",
       "270              1  None             1  \n",
       "\n",
       "[317 rows x 23 columns]"
      ]
     },
     "execution_count": 16,
     "metadata": {},
     "output_type": "execute_result"
    }
   ],
   "source": [
    "ln.Artifact.filter().df()\n"
   ]
  },
  {
   "cell_type": "code",
   "execution_count": null,
   "id": "2e102dd0-8a2a-41e5-a433-993d693b5ce5",
   "metadata": {},
   "outputs": [
    {
     "name": "stdout",
     "output_type": "stream",
     "text": [
      "Warning: This is deprecated and will be removed.\n"
     ]
    }
   ],
   "source": [
    "import lamindb as ln\n",
    "\n",
    "# Step 1: Load the shared instance first (this sets it up locally)\n",
    "ln.setup.load(\"laminlabs/arrayloader-benchmarks\")\n"
   ]
  },
  {
   "cell_type": "code",
   "execution_count": null,
   "id": "9031d06c-6036-4a1d-88e4-fe082561b6bd",
   "metadata": {},
   "outputs": [],
   "source": [
    "import lamindb as ln\n",
    "\n",
    "ln.connect(\"laminlabs/arrayloader-benchmarks\")\n",
    "collection = ln.Collection.filter(key=\"gather\").one()\n",
    "adata = collection.load(join=\"inner\")\n"
   ]
  },
  {
   "cell_type": "code",
   "execution_count": 1,
   "id": "cd4c956e-10ed-49a4-9e88-dd6425700559",
   "metadata": {},
   "outputs": [],
   "source": [
    "# Cell 1: Imports\n",
    "import lamindb as ln\n",
    "import scanpy as sc\n",
    "import pandas as pd\n",
    "import matplotlib.pyplot as plt\n",
    "import seaborn as sns\n",
    "\n",
    "sns.set(style=\"whitegrid\")\n"
   ]
  },
  {
   "cell_type": "code",
   "execution_count": 6,
   "id": "16a11ca8-3ac2-429b-ba3d-8762c6ecde6b",
   "metadata": {},
   "outputs": [],
   "source": [
    "# Cell 2: Connect to the Lamin instance\n",
    "# ln.connect(\"laminlabs/arrayloader-benchmarks\")\n",
    "# !lamin load laminlabs/arrayloader-benchmarks\n"
   ]
  },
  {
   "cell_type": "code",
   "execution_count": 2,
   "id": "243de5de-10cc-489c-a774-07ed804a37c2",
   "metadata": {},
   "outputs": [
    {
     "ename": "InstanceNotSetupError",
     "evalue": "To use lamindb, you need to connect to an instance.\n\nConnect to an instance: `ln.connect()`. Init an instance: `ln.setup.init()`.\n\nIf you used the CLI to set up lamindb in a notebook, restart the Python session.\n",
     "output_type": "error",
     "traceback": [
      "\u001b[0;31m---------------------------------------------------------------------------\u001b[0m",
      "\u001b[0;31mInstanceNotSetupError\u001b[0m                     Traceback (most recent call last)",
      "Cell \u001b[0;32mIn[2], line 2\u001b[0m\n\u001b[1;32m      1\u001b[0m \u001b[38;5;66;03m# Cell 3: Load the data collection\u001b[39;00m\n\u001b[0;32m----> 2\u001b[0m collection \u001b[38;5;241m=\u001b[39m \u001b[43mln\u001b[49m\u001b[38;5;241;43m.\u001b[39;49m\u001b[43mCollection\u001b[49m\u001b[38;5;241m.\u001b[39mfilter(key\u001b[38;5;241m=\u001b[39m\u001b[38;5;124m\"\u001b[39m\u001b[38;5;124mgather\u001b[39m\u001b[38;5;124m\"\u001b[39m)\u001b[38;5;241m.\u001b[39mone()\n\u001b[1;32m      4\u001b[0m \u001b[38;5;66;03m# Ensure all .h5ad parts are downloaded (if not already staged)\u001b[39;00m\n\u001b[1;32m      5\u001b[0m \u001b[38;5;28;01mfor\u001b[39;00m artifact \u001b[38;5;129;01min\u001b[39;00m collection\u001b[38;5;241m.\u001b[39martifacts:\n",
      "File \u001b[0;32m~/conda/envs/lamin310/lib/python3.10/site-packages/lamindb/__init__.py:115\u001b[0m, in \u001b[0;36m__getattr__\u001b[0;34m(name)\u001b[0m\n\u001b[1;32m    114\u001b[0m \u001b[38;5;28;01mdef\u001b[39;00m\u001b[38;5;250m \u001b[39m\u001b[38;5;21m__getattr__\u001b[39m(name):\n\u001b[0;32m--> 115\u001b[0m     \u001b[38;5;28;01mraise\u001b[39;00m _InstanceNotSetupError()\n",
      "\u001b[0;31mInstanceNotSetupError\u001b[0m: To use lamindb, you need to connect to an instance.\n\nConnect to an instance: `ln.connect()`. Init an instance: `ln.setup.init()`.\n\nIf you used the CLI to set up lamindb in a notebook, restart the Python session.\n"
     ]
    }
   ],
   "source": [
    "# Cell 3: Load the data collection\n",
    "collection = ln.Collection.filter(key=\"gather\").one()\n",
    "\n",
    "# Ensure all .h5ad parts are downloaded (if not already staged)\n",
    "for artifact in collection.artifacts:\n",
    "    artifact.stage()\n"
   ]
  },
  {
   "cell_type": "code",
   "execution_count": null,
   "id": "df96f97e-1803-464b-a077-73ce40860e03",
   "metadata": {},
   "outputs": [],
   "source": [
    "# Cell 4: Load the joined dataset (inner join = common genes)\n",
    "adata = collection.load(join=\"inner\")\n",
    "adata"
   ]
  },
  {
   "cell_type": "code",
   "execution_count": null,
   "id": "d45c5816-ea86-4b18-b4cc-36ec2c0941b5",
   "metadata": {},
   "outputs": [],
   "source": [
    "# Cell 5: Check available metadata (obs)\n",
    "print(\"Cells:\", adata.n_obs)\n",
    "print(\"Genes:\", adata.n_vars)\n",
    "print(\"Metadata columns:\", adata.obs.columns.tolist())\n"
   ]
  },
  {
   "cell_type": "code",
   "execution_count": null,
   "id": "c087ba5d-0e62-4155-80f7-12d27bb8cc8a",
   "metadata": {},
   "outputs": [],
   "source": [
    "# Cell 6: Visualize covariate distributions\n",
    "adata.obs[\"cell_type\"].value_counts().plot.bar(\n",
    "    figsize=(8, 4), title=\"Cell type distribution\"\n",
    ")\n",
    "plt.ylabel(\"Cell count\")\n",
    "plt.tight_layout()\n",
    "plt.show()\n"
   ]
  },
  {
   "cell_type": "code",
   "execution_count": null,
   "id": "8b2588ff-d905-46fd-8959-eaf6c5b6234b",
   "metadata": {},
   "outputs": [],
   "source": [
    "adata.obs[\"batch\"].value_counts().plot.bar(\n",
    "    figsize=(6, 3), title=\"Batch distribution\"\n",
    ")\n",
    "plt.ylabel(\"Cell count\")\n",
    "plt.tight_layout()\n",
    "plt.show()\n"
   ]
  },
  {
   "cell_type": "code",
   "execution_count": null,
   "id": "f9f62a5f-ff66-4a50-86cf-ea9cf3cb5af6",
   "metadata": {},
   "outputs": [],
   "source": []
  },
  {
   "cell_type": "code",
   "execution_count": null,
   "id": "af47b76c-1c3c-44e8-a33b-17e83b8b6a9e",
   "metadata": {},
   "outputs": [],
   "source": []
  },
  {
   "cell_type": "code",
   "execution_count": null,
   "id": "7871431b-a9b6-4f1b-9611-e961d7165ba4",
   "metadata": {},
   "outputs": [],
   "source": []
  },
  {
   "cell_type": "code",
   "execution_count": null,
   "id": "71da77dd-ba81-4fec-bdb8-b18b84699b28",
   "metadata": {},
   "outputs": [],
   "source": []
  }
 ],
 "metadata": {
  "kernelspec": {
   "display_name": "lamin_env",
   "language": "python",
   "name": "lamin_env"
  },
  "language_info": {
   "codemirror_mode": {
    "name": "ipython",
    "version": 3
   },
   "file_extension": ".py",
   "mimetype": "text/x-python",
   "name": "python",
   "nbconvert_exporter": "python",
   "pygments_lexer": "ipython3",
   "version": "3.12.10"
  }
 },
 "nbformat": 4,
 "nbformat_minor": 5
}
