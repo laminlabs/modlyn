{
 "cells": [
  {
   "cell_type": "markdown",
   "id": "23b86c6b",
   "metadata": {},
   "source": [
    "# Comparing Modlyn & Scanpy feature selection methods"
   ]
  },
  {
   "cell_type": "code",
   "execution_count": null,
   "id": "453f6f89",
   "metadata": {},
   "outputs": [],
   "source": [
    "# pip install lamindb modlyn scanpy seaborn\n",
    "import lamindb as ln\n",
    "import modlyn as mn\n",
    "import scanpy as sc\n",
    "import pandas as pd\n",
    "import seaborn as sns\n",
    "sns.set_theme()\n",
    "%config InlineBackend.figure_formats = ['svg']"
   ]
  },
  {
   "cell_type": "code",
   "execution_count": null,
   "id": "980a05b7",
   "metadata": {},
   "outputs": [],
   "source": [
    "ln.track()"
   ]
  },
  {
   "cell_type": "markdown",
   "id": "c8ad0ac1",
   "metadata": {},
   "source": [
    "## Prepare dataset"
   ]
  },
  {
   "cell_type": "code",
   "execution_count": null,
   "id": "dfb07f4c",
   "metadata": {},
   "outputs": [],
   "source": [
    "artifact = ln.Artifact.using(\"laminlabs/arrayloader-benchmarks\").get(\"JNaxQe8zbljesdbK0000\")\n",
    "adata = artifact.load()\n",
    "sc.pp.log1p(adata)\n",
    "adata"
   ]
  },
  {
   "cell_type": "code",
   "execution_count": null,
   "id": "1ae9d3e3",
   "metadata": {},
   "outputs": [],
   "source": [
    "keep = adata.obs[\"cell_line\"].value_counts().loc[lambda x: x>3].index\n",
    "adata = adata[adata.obs[\"cell_line\"].isin(keep)].copy()\n",
    "adata"
   ]
  },
  {
   "cell_type": "code",
   "execution_count": null,
   "id": "d23ddc2a",
   "metadata": {},
   "outputs": [],
   "source": [
    "adata.obs[\"cell_line\"].value_counts().tail()"
   ]
  },
  {
   "cell_type": "markdown",
   "id": "7346c98c",
   "metadata": {},
   "source": [
    "## Train LogReg with Modlyn"
   ]
  },
  {
   "cell_type": "code",
   "execution_count": null,
   "id": "5a15bcf4",
   "metadata": {},
   "outputs": [],
   "source": [
    "logreg = mn.models.SimpleLogReg(\n",
    "    adata=adata,\n",
    "    label_column=\"cell_line\",    \n",
    "    learning_rate=1e-1,\n",
    "    weight_decay=1e-3,\n",
    ")\n",
    "logreg.fit(\n",
    "    adata_train=adata,\n",
    "    adata_val=adata[:20],\n",
    "    train_dataloader_kwargs={\n",
    "        \"batch_size\": 128,\n",
    "        \"drop_last\": True,\n",
    "        \"num_workers\": 4\n",
    "    },\n",
    "    max_epochs=5,\n",
    ")"
   ]
  },
  {
   "cell_type": "code",
   "execution_count": null,
   "id": "a7164f8a",
   "metadata": {
    "lines_to_next_cell": 2
   },
   "outputs": [],
   "source": [
    "logreg.plot_losses()"
   ]
  },
  {
   "cell_type": "code",
   "execution_count": null,
   "id": "3a322a4f",
   "metadata": {},
   "outputs": [],
   "source": [
    "logreg.plot_classification_report(adata)"
   ]
  },
  {
   "cell_type": "markdown",
   "id": "1aace5da",
   "metadata": {},
   "source": [
    "## Get features scores of different methods"
   ]
  },
  {
   "cell_type": "code",
   "execution_count": null,
   "id": "0901c6db",
   "metadata": {},
   "outputs": [],
   "source": [
    "df_modlyn_logreg = logreg.get_weights()\n",
    "df_modlyn_logreg.head()"
   ]
  },
  {
   "cell_type": "code",
   "execution_count": null,
   "id": "1335d6d3",
   "metadata": {},
   "outputs": [],
   "source": [
    "sc.tl.rank_genes_groups(adata, 'cell_line', method='logreg', key_added='sc_logreg')\n",
    "df_scanpy_logreg = sc.get.rank_genes_groups_df(adata, group=None, key=\"sc_logreg\").pivot(index='group', columns='names', values='scores')\n",
    "df_scanpy_logreg.attrs[\"method_name\"] = \"scanpy_logreg\"\n",
    "df_scanpy_logreg.head()"
   ]
  },
  {
   "cell_type": "code",
   "execution_count": null,
   "id": "8c058e6c",
   "metadata": {},
   "outputs": [],
   "source": [
    "sc.tl.rank_genes_groups(adata, 'cell_line', method='wilcoxon', key_added='sc_wilcoxon')\n",
    "df_scanpy_wilcoxon = sc.get.rank_genes_groups_df(adata, group=None, key=\"sc_wilcoxon\").pivot(index='group', columns='names', values='scores')\n",
    "df_scanpy_wilcoxon.attrs[\"method_name\"] = \"scanpy_wilcoxon\"\n",
    "df_scanpy_wilcoxon.head()"
   ]
  },
  {
   "cell_type": "markdown",
   "id": "f11b0a58",
   "metadata": {},
   "source": [
    "## Compare feature selection results"
   ]
  },
  {
   "cell_type": "code",
   "execution_count": null,
   "id": "e95ae5d6",
   "metadata": {},
   "outputs": [],
   "source": [
    "compare = mn.eval.CompareScoresJaccard([df_modlyn_logreg, df_scanpy_logreg, df_scanpy_wilcoxon], n_top_values=[5, 10, 25])"
   ]
  },
  {
   "cell_type": "code",
   "execution_count": null,
   "id": "ab0e3c16",
   "metadata": {},
   "outputs": [],
   "source": [
    "compare.plot_heatmaps()"
   ]
  },
  {
   "cell_type": "code",
   "execution_count": null,
   "id": "b62b5577",
   "metadata": {},
   "outputs": [],
   "source": [
    "compare.compute_jaccard_comparison()\n",
    "compare.plot_jaccard_comparison()"
   ]
  },
  {
   "cell_type": "code",
   "execution_count": null,
   "id": "83d187a5",
   "metadata": {},
   "outputs": [],
   "source": [
    "ln.finish()"
   ]
  }
 ],
 "metadata": {
  "jupytext": {
   "cell_metadata_filter": "-all",
   "main_language": "python",
   "notebook_metadata_filter": "-all"
  },
  "kernelspec": {
   "display_name": "py312",
   "language": "python",
   "name": "python3"
  },
  "language_info": {
   "codemirror_mode": {
    "name": "ipython",
    "version": 3
   },
   "file_extension": ".py",
   "mimetype": "text/x-python",
   "name": "python",
   "nbconvert_exporter": "python",
   "pygments_lexer": "ipython3",
   "version": "3.12.8"
  }
 },
 "nbformat": 4,
 "nbformat_minor": 5
}
