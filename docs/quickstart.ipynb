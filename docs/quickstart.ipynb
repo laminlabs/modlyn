{
 "cells": [
  {
   "cell_type": "markdown",
   "id": "23b86c6b",
   "metadata": {},
   "source": [
    "# Comparing Modlyn & Scanpy feature selection methods"
   ]
  },
  {
   "cell_type": "code",
   "execution_count": null,
   "id": "f750c5bb",
   "metadata": {
    "tags": [
     "hide-output"
    ]
   },
   "outputs": [],
   "source": [
    "!pip install 'modlyn[dev]'\n",
    "!lamin init --storage test-modlyn"
   ]
  },
  {
   "cell_type": "code",
   "execution_count": null,
   "id": "35122bdc",
   "metadata": {},
   "outputs": [],
   "source": [
    "import lamindb as ln\n",
    "import modlyn as mn\n",
    "import scanpy as sc\n",
    "import pandas as pd\n",
    "import seaborn as sns\n",
    "\n",
    "sns.set_theme()\n",
    "%config InlineBackend.figure_formats = ['svg']"
   ]
  },
  {
   "cell_type": "code",
   "execution_count": null,
   "id": "9708b93e",
   "metadata": {},
   "outputs": [],
   "source": [
    "ln.track()"
   ]
  },
  {
   "cell_type": "code",
   "execution_count": null,
   "id": "fffe8a48",
   "metadata": {},
   "outputs": [],
   "source": [
    "# Configuration: switch between in-memory and Dask loader\n",
    "USE_DASK = True  # set False to use in-memory path\n",
    "ZARR_UID = \"1xSHIdfBjfUdxKHm0000\"  # example UID; change as needed\n",
    "LABEL_COL = \"cell_line\"\n",
    "\n",
    "# Dask runtime\n",
    "DASK_DATASET_TYPE = \"arrayloaders-dasd\"  # accepted alias (normalized internally)\n",
    "BATCH_SIZE = 256\n",
    "N_CHUNKS = 8\n",
    "DASK_SCHEDULER = \"threads\""
   ]
  },
  {
   "cell_type": "markdown",
   "id": "5086e159",
   "metadata": {},
   "source": [
    "### Using a custom Dask data loader\n",
    "Set `USE_DASK = True` and provide a zarr `ZARR_UID` from `laminlabs/arrayloader-benchmarks`.\n",
    "The loader auto-detects whether the cached path is a single zarr store or a directory of shard stores (`*.zarr`) and selects the right reader. For quick runs, we cap steps with `max_steps` in the training call.\n"
   ]
  },
  {
   "cell_type": "code",
   "execution_count": null,
   "id": "30985561",
   "metadata": {},
   "outputs": [],
   "source": [
    "from pathlib import Path\n",
    "import lamindb as ln\n",
    "\n",
    "if USE_DASK:\n",
    "    artifact = ln.Artifact.using(\"laminlabs/arrayloader-benchmarks\").get(ZARR_UID)\n",
    "    store_path = Path(artifact.cache())\n",
    "    if not store_path.is_dir():\n",
    "        raise ValueError(f\"ZARR_UID must cache to a directory, got: {store_path}\")\n",
    "\n",
    "    # Decide between a directory of shards (*.zarr) vs a single zarr store\n",
    "    has_shards = any(child.name.endswith(\".zarr\") for child in store_path.iterdir())\n",
    "\n",
    "    try:\n",
    "        from arrayloaders.io.dask_loader import read_lazy_store\n",
    "    except Exception:\n",
    "        read_lazy_store = None\n",
    "    from arrayloaders.io import read_lazy as read_single_store\n",
    "\n",
    "    if has_shards and read_lazy_store is not None:\n",
    "        adata = read_lazy_store(store_path, obs_columns=[LABEL_COL])\n",
    "    else:\n",
    "        # Single zarr store\n",
    "        adata = read_single_store(store_path, obs_columns=[LABEL_COL])\n",
    "else:\n",
    "    # Example H5AD path (keep your current artifact if you prefer)\n",
    "    artifact = ln.Artifact.using(\"laminlabs/arrayloader-benchmarks\").get(\n",
    "        \"JNaxQe8zbljesdbK0000\"\n",
    "    )\n",
    "    adata = artifact.load()\n",
    "    sc.pp.log1p(adata)\n",
    "\n",
    "print(\"adata:\", adata.shape)"
   ]
  },
  {
   "cell_type": "markdown",
   "id": "c8ad0ac1",
   "metadata": {},
   "source": [
    "## Prepare dataset"
   ]
  },
  {
   "cell_type": "code",
   "execution_count": null,
   "id": "1ae9d3e3",
   "metadata": {
    "tags": [
     "hide-output"
    ]
   },
   "outputs": [],
   "source": [
    "keep = adata.obs[\"cell_line\"].value_counts().loc[lambda x: x > 3].index\n",
    "adata = adata[adata.obs[\"cell_line\"].isin(keep)].copy()\n",
    "adata"
   ]
  },
  {
   "cell_type": "code",
   "execution_count": null,
   "id": "d23ddc2a",
   "metadata": {
    "tags": [
     "hide-output"
    ]
   },
   "outputs": [],
   "source": [
    "adata.obs[\"cell_line\"].value_counts().tail()"
   ]
  },
  {
   "cell_type": "markdown",
   "id": "7346c98c",
   "metadata": {},
   "source": [
    "## Train LogReg with Modlyn"
   ]
  },
  {
   "cell_type": "code",
   "execution_count": null,
   "id": "5a15bcf4",
   "metadata": {
    "tags": [
     "hide-output"
    ]
   },
   "outputs": [],
   "source": [
    "logreg = mn.models.SimpleLogReg(\n",
    "    adata=adata,\n",
    "    label_column=LABEL_COL,\n",
    "    learning_rate=1e-1,\n",
    "    weight_decay=1e-3,\n",
    ")\n",
    "\n",
    "fit_kwargs = {\n",
    "    \"adata_train\": adata,\n",
    "    \"adata_val\": None,\n",
    "    \"train_dataloader_kwargs\": {\n",
    "        \"batch_size\": BATCH_SIZE,\n",
    "        \"drop_last\": False,\n",
    "        \"num_workers\": 0,\n",
    "    },\n",
    "    \"max_epochs\": 1,\n",
    "    \"num_sanity_val_steps\": 0,\n",
    "    \"log_every_n_steps\": 1,\n",
    "    \"max_steps\": 50,\n",
    "}\n",
    "\n",
    "if USE_DASK:\n",
    "    fit_kwargs.update(\n",
    "        {\n",
    "            \"dataset_type\": DASK_DATASET_TYPE,\n",
    "            \"n_chunks\": N_CHUNKS,\n",
    "            \"dask_scheduler\": DASK_SCHEDULER,\n",
    "        }\n",
    "    )\n",
    "\n",
    "# logreg.fit(**fit_kwargs)\n",
    "logreg.fit(\n",
    "    adata_train=adata,\n",
    "    adata_val=adata,  # reuse the lazy dataset so val has batches\n",
    "    train_dataloader_kwargs={\n",
    "        \"batch_size\": BATCH_SIZE,\n",
    "        \"drop_last\": False,\n",
    "        \"num_workers\": 0,\n",
    "    },\n",
    "    dataset_type=DASK_DATASET_TYPE,\n",
    "    n_chunks=N_CHUNKS,\n",
    "    dask_scheduler=DASK_SCHEDULER,\n",
    "    max_epochs=1,\n",
    "    num_sanity_val_steps=0,\n",
    "    log_every_n_steps=1,\n",
    "    max_steps=50,\n",
    ")\n",
    "\n",
    "\n",
    "print(\"dataset_type:\", getattr(logreg.datamodule, \"dataset_type\", \"in-memory\"))\n",
    "print(\"train_dataset:\", type(logreg.datamodule.train_dataloader().dataset).__name__)"
   ]
  },
  {
   "cell_type": "code",
   "execution_count": null,
   "id": "a7164f8a",
   "metadata": {
    "lines_to_next_cell": 2,
    "tags": [
     "hide-output"
    ]
   },
   "outputs": [],
   "source": [
    "logreg.plot_losses()"
   ]
  },
  {
   "cell_type": "code",
   "execution_count": null,
   "id": "3a322a4f",
   "metadata": {
    "tags": [
     "hide-output"
    ]
   },
   "outputs": [],
   "source": [
    "# eval subset\n",
    "adata_eval = adata[:10000]\n",
    "adata_eval = adata_eval.to_memory() if hasattr(adata_eval, \"to_memory\") else adata_eval\n",
    "\n",
    "if hasattr(adata_eval.X, \"compute\"):\n",
    "    adata_eval.X = adata_eval.X.compute()\n",
    "\n",
    "logreg.plot_classification_report(adata_eval)"
   ]
  },
  {
   "cell_type": "markdown",
   "id": "1aace5da",
   "metadata": {},
   "source": [
    "## Get features scores of different methods"
   ]
  },
  {
   "cell_type": "code",
   "execution_count": null,
   "id": "0901c6db",
   "metadata": {
    "tags": [
     "hide-output"
    ]
   },
   "outputs": [],
   "source": [
    "df_modlyn_logreg = logreg.get_weights()\n",
    "df_modlyn_logreg.head()"
   ]
  },
  {
   "cell_type": "code",
   "execution_count": null,
   "id": "1335d6d3",
   "metadata": {
    "tags": [
     "hide-output"
    ]
   },
   "outputs": [],
   "source": [
    "sc.tl.rank_genes_groups(adata, \"cell_line\", method=\"logreg\", key_added=\"sc_logreg\")\n",
    "df_scanpy_logreg = sc.get.rank_genes_groups_df(\n",
    "    adata, group=None, key=\"sc_logreg\"\n",
    ").pivot(index=\"group\", columns=\"names\", values=\"scores\")\n",
    "df_scanpy_logreg.attrs[\"method_name\"] = \"scanpy_logreg\"\n",
    "df_scanpy_logreg.head()"
   ]
  },
  {
   "cell_type": "code",
   "execution_count": null,
   "id": "8c058e6c",
   "metadata": {
    "tags": [
     "hide-output"
    ]
   },
   "outputs": [],
   "source": [
    "sc.tl.rank_genes_groups(adata, \"cell_line\", method=\"wilcoxon\", key_added=\"sc_wilcoxon\")\n",
    "df_scanpy_wilcoxon = sc.get.rank_genes_groups_df(\n",
    "    adata, group=None, key=\"sc_wilcoxon\"\n",
    ").pivot(index=\"group\", columns=\"names\", values=\"scores\")\n",
    "df_scanpy_wilcoxon.attrs[\"method_name\"] = \"scanpy_wilcoxon\"\n",
    "df_scanpy_wilcoxon.head()"
   ]
  },
  {
   "cell_type": "markdown",
   "id": "f11b0a58",
   "metadata": {},
   "source": [
    "## Compare feature selection results"
   ]
  },
  {
   "cell_type": "code",
   "execution_count": null,
   "id": "e95ae5d6",
   "metadata": {
    "tags": [
     "hide-output"
    ]
   },
   "outputs": [],
   "source": [
    "compare = mn.eval.CompareScoresJaccard(\n",
    "    [df_modlyn_logreg, df_scanpy_logreg, df_scanpy_wilcoxon], n_top_values=[5, 10, 25]\n",
    ")"
   ]
  },
  {
   "cell_type": "code",
   "execution_count": null,
   "id": "ab0e3c16",
   "metadata": {
    "tags": [
     "hide-output"
    ]
   },
   "outputs": [],
   "source": [
    "compare.plot_heatmaps()"
   ]
  },
  {
   "cell_type": "code",
   "execution_count": null,
   "id": "b62b5577",
   "metadata": {
    "tags": [
     "hide-output"
    ]
   },
   "outputs": [],
   "source": [
    "compare.compute_jaccard_comparison()\n",
    "compare.plot_jaccard_comparison()"
   ]
  },
  {
   "cell_type": "code",
   "execution_count": null,
   "id": "83d187a5",
   "metadata": {
    "tags": [
     "hide-output"
    ]
   },
   "outputs": [],
   "source": [
    "ln.finish()"
   ]
  }
 ],
 "metadata": {
  "jupytext": {
   "cell_metadata_filter": "-all",
   "main_language": "python",
   "notebook_metadata_filter": "-all"
  },
  "kernelspec": {
   "display_name": "lamin_env",
   "language": "python",
   "name": "python3"
  },
  "language_info": {
   "codemirror_mode": {
    "name": "ipython",
    "version": 3
   },
   "file_extension": ".py",
   "mimetype": "text/x-python",
   "name": "python",
   "nbconvert_exporter": "python",
   "pygments_lexer": "ipython3",
   "version": "3.12.10"
  }
 },
 "nbformat": 4,
 "nbformat_minor": 5
}
