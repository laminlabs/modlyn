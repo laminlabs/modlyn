{
 "cells": [
  {
   "cell_type": "markdown",
   "id": "3886a140",
   "metadata": {},
   "source": [
    "# Using LogReg for feature selection"
   ]
  },
  {
   "cell_type": "markdown",
   "id": "d8359c3a",
   "metadata": {},
   "source": [
    "For this quickstart, you will need to install lamindb in addition to modlyn. Also, init a lamindb instance to query a test dataset.\n",
    "\n",
    "```\n",
    "pip install modlyn lamindb\n",
    "lamin init --storage test-modlyn\n",
    "```"
   ]
  },
  {
   "cell_type": "code",
   "execution_count": null,
   "id": "c7fbc25e",
   "metadata": {
    "tags": [
     "hide-output"
    ]
   },
   "outputs": [],
   "source": [
    "import modlyn as mn\n",
    "import lamindb as ln\n",
    "\n",
    "ln.track()"
   ]
  },
  {
   "cell_type": "code",
   "execution_count": null,
   "id": "08d6063e",
   "metadata": {
    "tags": [
     "hide-output"
    ]
   },
   "outputs": [],
   "source": [
    "artifact = ln.Artifact.using(\"laminlabs/arrayloader-benchmarks\").get(\"D21D2K8697CY8tHE0001\")\n",
    "adata = artifact.load()\n",
    "adata"
   ]
  },
  {
   "cell_type": "code",
   "execution_count": null,
   "id": "48d8c416",
   "metadata": {
    "tags": [
     "hide-output"
    ]
   },
   "outputs": [],
   "source": [
    "adata.obs.value_counts(\"cell_line\")"
   ]
  },
  {
   "cell_type": "code",
   "execution_count": null,
   "id": "de0c5202",
   "metadata": {
    "tags": [
     "hide-output"
    ]
   },
   "outputs": [],
   "source": [
    "logreg = mn.models.SimpleLogReg(\n",
    "    adata=adata,\n",
    "    label_column=\"cell_line\",    \n",
    "    learning_rate=1e-1,\n",
    ")\n",
    "logreg.fit(\n",
    "    adata_train=adata,\n",
    "    adata_val=adata[:100],\n",
    "    train_dataloader_kwargs={\n",
    "        \"batch_size\": 8,\n",
    "    },\n",
    "    max_epochs=4,\n",
    ")"
   ]
  },
  {
   "cell_type": "code",
   "execution_count": null,
   "id": "5c3b4563",
   "metadata": {
    "tags": [
     "hide-output"
    ]
   },
   "outputs": [],
   "source": [
    "logreg.plot_losses()"
   ]
  },
  {
   "cell_type": "code",
   "execution_count": null,
   "id": "d01d4c88",
   "metadata": {},
   "outputs": [],
   "source": [
    "logreg.plot_classification_report(adata)"
   ]
  },
  {
   "cell_type": "code",
   "execution_count": null,
   "id": "b54ae6aa",
   "metadata": {},
   "outputs": [],
   "source": [
    "# ln.finish()"
   ]
  }
 ],
 "metadata": {
  "kernelspec": {
   "display_name": "py312",
   "language": "python",
   "name": "python3"
  },
  "language_info": {
   "codemirror_mode": {
    "name": "ipython",
    "version": 3
   },
   "file_extension": ".py",
   "mimetype": "text/x-python",
   "name": "python",
   "nbconvert_exporter": "python",
   "pygments_lexer": "ipython3",
   "version": "3.12.8"
  }
 },
 "nbformat": 4,
 "nbformat_minor": 5
}
