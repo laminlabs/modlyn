{
 "cells": [
  {
   "cell_type": "code",
   "execution_count": null,
   "id": "f6013a93-502d-47ea-b009-b25b7b140076",
   "metadata": {},
   "outputs": [],
   "source": [
    "import os\n",
    "import warnings\n",
    "import pandas as pd\n",
    "import numpy as np\n",
    "from pathlib import Path\n",
    "from tqdm import tqdm\n",
    "import anndata as ad\n",
    "import lightning as L\n",
    "import lamindb as ln\n",
    "import matplotlib.pyplot as plt\n",
    "import scanpy as sc\n",
    "from sklearn.metrics import average_precision_score\n",
    "import torch\n",
    "\n",
    "from modlyn.io.loading import read_lazy\n",
    "from modlyn.io.datamodules import ClassificationDataModule\n",
    "from modlyn.models.linear import Linear ## should move to modlyn not to arrayloader - cp to folder - maintain API structure - name the folders and sub-modules\n",
    "\n",
    "warnings.filterwarnings('ignore')\n",
    "\n",
    "# Start tracking\n",
    "project = ln.Project(name=\"Modlyn\")\n",
    "project.save()\n",
    "\n",
    "ln.track(project=\"Modlyn\")\n",
    "\n",
    "run = ln.track()\n"
   ]
  },
  {
   "cell_type": "code",
   "execution_count": null,
   "id": "a44ab5ed-217e-43a6-923d-66adf1212080",
   "metadata": {},
   "outputs": [],
   "source": [
    "# artifact = ln.Artifact.filter(key=\"tahoe100M_shuffled_zarr_store_2025-05-07\").one()\n",
    "# path = artifact.cache()"
   ]
  },
  {
   "cell_type": "code",
   "execution_count": null,
   "id": "c0badc8b-aa73-44a9-b021-eee08552b802",
   "metadata": {},
   "outputs": [],
   "source": [
    "import os\n",
    "os.environ[\"LAMIN_CACHE_DIR\"] = \"/data/.lamindb-cache\"\n"
   ]
  },
  {
   "cell_type": "code",
   "execution_count": null,
   "id": "fd13907b-ed3e-4d25-9a96-d2b085cd1bd8",
   "metadata": {},
   "outputs": [],
   "source": [
    "# !export LAMIN_CACHE_DIR=/data/.lamindb-cache\n",
    "# from pathlib import Path\n",
    "\n",
    "# os.environ[\"LAMIN_CACHE_DIR\"] = \"/data/.lamindb-cache\"\n",
    "\n",
    "# artifact = ln.Artifact.filter(key=\"tahoe100M_shuffled_zarr_store_2025-05-07\").one()\n",
    "\n",
    "# # Cache it to /data\n",
    "# store_path = artifact.cache()\n"
   ]
  },
  {
   "cell_type": "code",
   "execution_count": null,
   "id": "6508a568-dbff-4a01-a602-532544a38db5",
   "metadata": {},
   "outputs": [],
   "source": [
    "from pathlib import Path\n",
    "from modlyn.io import read_lazy\n",
    "\n",
    "store_path = Path(\"/data/.lamindb-cache/lamin-us-west-2/wXDsTYYd/tahoe100M_shuffled_zarr_store_2025-05-07/chunk_30.zarr\")\n",
    "adata = read_lazy(store_path)\n",
    "var = pd.read_parquet(\"var_subset_tahoe100M.parquet\")\n",
    "adata.var = var\n",
    "adata.obs[\"y\"] = adata.obs[\"cell_line\"].astype(\"category\").cat.codes.astype(\"i8\")\n",
    "adata.var"
   ]
  },
  {
   "cell_type": "markdown",
   "id": "a69232d1-a683-495d-8401-fe72d2c5e107",
   "metadata": {},
   "source": [
    "## Multiple chunks"
   ]
  },
  {
   "cell_type": "markdown",
   "id": "0c790ba0-197e-4aea-9cec-fe6bd23b83a2",
   "metadata": {},
   "source": [
    "from anndata import concat\n",
    "\n",
    "base_path = Path(\"/data/.lamindb-cache/lamin-us-west-2/wXDsTYYd/tahoe100M_shuffled_zarr_store_2025-05-07\")\n",
    "chunk_paths = sorted(base_path.glob(\"chunk_*.zarr\"))\n",
    "\n",
    "adatas = [read_lazy(p) for p in chunk_paths[:1]]\n",
    "adata = concat(adatas, axis=0, join=\"outer\", merge=\"same\")\n",
    "\n",
    "adata.var = pd.read_parquet(\"var_subset_tahoe100M.parquet\")\n",
    "adata.obs[\"y\"] = adata.obs[\"cell_line\"].astype(\"category\").cat.codes.astype(\"i8\")\n",
    "adata"
   ]
  },
  {
   "cell_type": "code",
   "execution_count": null,
   "id": "a3c4c6a0-b3b6-4ab5-abb5-2550857e7e79",
   "metadata": {},
   "outputs": [],
   "source": [
    "# adata"
   ]
  },
  {
   "cell_type": "code",
   "execution_count": null,
   "id": "da9739d0-f86a-4de8-a777-94b1ad198fdb",
   "metadata": {},
   "outputs": [],
   "source": [
    "# Subset\n",
    "n = adata.n_obs\n",
    "\n",
    "n_train = int(n * 0.8)\n",
    "n_val = n - n_train\n",
    "\n",
    "adata_train = adata[:n_train]\n",
    "adata_val = adata[n_train:]\n",
    "adata_train"
   ]
  },
  {
   "cell_type": "code",
   "execution_count": null,
   "id": "9c0548b3-9d96-4b92-9a0d-a6a2ef22749a",
   "metadata": {},
   "outputs": [],
   "source": [
    "# Old load data\n",
    "# store_path = Path(\"/home/ubuntu/tahoe100M_chunk_1\")\n",
    "# adata = read_lazy(store_path)\n",
    "# var = pd.read_parquet(\"var_subset_tahoe100M.parquet\")\n",
    "# adata.var = var\n",
    "# adata.obs[\"y\"] = adata.obs[\"cell_line\"].astype(\"category\").cat.codes.astype(\"i8\")\n",
    "\n",
    "# # Subset\n",
    "# adata_train = adata[:80000]\n",
    "# adata_val = adata[80000:100000]"
   ]
  },
  {
   "cell_type": "markdown",
   "id": "3be1bff8-77e5-4324-aa82-2d50b4b8157d",
   "metadata": {},
   "source": [
    "Move the code block to modlyn\n",
    "now at arrayloader\n"
   ]
  },
  {
   "cell_type": "code",
   "execution_count": null,
   "id": "f51b9d04-af27-45e2-b0b7-f53990855cc7",
   "metadata": {},
   "outputs": [],
   "source": [
    "class LossTracker(L.Callback):\n",
    "    def __init__(self):\n",
    "        super().__init__()\n",
    "        self.train_losses = []\n",
    "        self.val_losses = []\n",
    "\n",
    "    def on_train_epoch_end(self, trainer, pl_module):\n",
    "        loss = trainer.callback_metrics[\"train_loss\"]\n",
    "        self.train_losses.append(loss.item())\n",
    "\n",
    "    def on_validation_epoch_end(self, trainer, pl_module):\n",
    "        loss = trainer.callback_metrics[\"val_loss\"]\n",
    "        self.val_losses.append(loss.item())\n",
    "\n",
    "datamodule = ClassificationDataModule(\n",
    "    adata_train=adata_train,\n",
    "    adata_val=adata_val,\n",
    "    label_column=\"y\",\n",
    "    train_dataloader_kwargs={\"batch_size\": 2048, \"drop_last\": True},\n",
    "    val_dataloader_kwargs={\"batch_size\": 2048, \"drop_last\": False},\n",
    ")\n",
    "\n",
    "linear = Linear(\n",
    "    n_genes=adata.n_vars,\n",
    "    n_covariates=adata.obs[\"y\"].nunique(),\n",
    "    learning_rate=1e-2,\n",
    ")\n",
    "\n",
    "loss_tracker = LossTracker()\n",
    "trainer = L.Trainer(\n",
    "    max_epochs=3,\n",
    "    max_steps=3000,\n",
    "    log_every_n_steps=100,\n",
    "    callbacks=[loss_tracker]\n",
    ")\n",
    "trainer.fit(linear, datamodule)\n",
    "\n"
   ]
  },
  {
   "cell_type": "markdown",
   "id": "33172924-22c7-41c7-bb8e-d7db124010ae",
   "metadata": {},
   "source": [
    "Plot the elbow curve for classification loss\n",
    "\n",
    "autostopping (sklearn)\n",
    "\n",
    "scalable DL approach and sklearn implementation - weights should be the same when we converge \n",
    "Monitor the loss (classif accuracy & loss on the test)\n",
    "\n",
    "Make sure that the weights make sense: cell lines should be an easy task for a proof of concept - predictive on the validation test\n",
    "\n",
    "Move the code in the modlyn package"
   ]
  },
  {
   "cell_type": "code",
   "execution_count": null,
   "id": "6944e156-cb74-4930-a0dc-0afe0fb4d127",
   "metadata": {},
   "outputs": [],
   "source": [
    "plt.plot(loss_tracker.train_losses, marker='o', label=\"train_loss\")\n",
    "plt.plot(loss_tracker.val_losses,   marker='x', label=\"val_loss\")\n",
    "plt.xlabel(\"epoch\")\n",
    "plt.ylabel(\"loss\")\n",
    "plt.legend()\n",
    "plt.grid(True)\n",
    "plt.show()\n"
   ]
  },
  {
   "cell_type": "code",
   "execution_count": null,
   "id": "5483a070-7a9f-4a17-98f5-5774f5aa7cb3",
   "metadata": {},
   "outputs": [],
   "source": []
  },
  {
   "cell_type": "code",
   "execution_count": null,
   "id": "fb4103eb-65a5-4bf2-865e-fcc1c52e94c7",
   "metadata": {},
   "outputs": [],
   "source": []
  },
  {
   "cell_type": "code",
   "execution_count": null,
   "id": "ca4bb3f4-ec78-4160-af63-36aee94c1f1f",
   "metadata": {},
   "outputs": [],
   "source": []
  },
  {
   "cell_type": "code",
   "execution_count": null,
   "id": "834b0d60-8b4d-46f6-a937-ad0ff9832ebe",
   "metadata": {},
   "outputs": [],
   "source": [
    "weights = linear.linear.weight.detach().cpu().numpy()\n",
    "top_cell_lines = adata.obs[\"cell_line\"].value_counts().index[:weights.shape[0]].tolist()\n",
    "\n",
    "weights_df = pd.DataFrame(\n",
    "    weights, \n",
    "    columns=adata.var_names,\n",
    "    index=top_cell_lines\n",
    ")\n"
   ]
  },
  {
   "cell_type": "code",
   "execution_count": null,
   "id": "e935cb85-8f98-4891-984e-3a4c4324d629",
   "metadata": {},
   "outputs": [],
   "source": [
    "# Predict on validation set\n",
    "preds = []\n",
    "linear.eval()\n",
    "for batch in datamodule.val_dataloader():\n",
    "    x, y = batch\n",
    "    with torch.no_grad():\n",
    "        preds.append(linear(x).detach().cpu().numpy())\n",
    "\n",
    "y_score = np.vstack(preds)\n",
    "y_true = adata_val.obs[\"y\"].values\n",
    "\n",
    "# Compute AUPR per class\n",
    "aupr_scores = []\n",
    "for i in range(y_score.shape[1]):\n",
    "    y_bin = (y_true == i).astype(int)\n",
    "    aupr = average_precision_score(y_bin, y_score[:, i])\n",
    "    aupr_scores.append(aupr)\n",
    "\n",
    "# Plot AUPR\n",
    "plt.figure()\n",
    "plt.bar(range(len(aupr_scores)), aupr_scores)\n",
    "plt.xlabel(\"Cell Line Index\")\n",
    "plt.ylabel(\"AUPR\")\n",
    "plt.title(\"AUPR per Cell Line – Modlyn\")\n",
    "plt.tight_layout()\n",
    "# plt.savefig(\"modlyn_aupr.pdf\")\n"
   ]
  },
  {
   "cell_type": "markdown",
   "id": "cef67a11-d718-49e3-8665-c3119a6f36a1",
   "metadata": {},
   "source": [
    "1. Uncertainty-Aware Dotplots\n",
    "A plot where:\n",
    "\n",
    "Dot size = uncertainty (e.g. inverse of standard error),\n",
    "\n",
    "Dot color = effect size (e.g. logistic regression weight),\n",
    "similar to Scanpy/Seurat dotplots or volcano plots\n",
    "\n",
    "Comparison Metrics Across Methods\n",
    "\n",
    "2. Correlation metrics like Kendall's Tau or Spearman's rho to quantify agreement between:\n",
    "\n",
    "Logistic regression weights (Modlyn)\n",
    "\n",
    "Wilcoxon test statistics\n",
    "\n",
    "Scanpy logistic regression results\n",
    "\n",
    "3. Differential Expression Testing Benchmark\n",
    "\n",
    "Use sc.tl.rank_genes_groups() (Wilcoxon) as a reference.\n",
    "\n",
    "Compare results with:\n",
    "\n",
    "LogReg-derived weights using t-test-style criteria\n",
    "\n",
    "Associated uncertainty estimates\n",
    "\n",
    "4. Scale Testing on Small Dataset\n",
    "\n",
    "Run this script: https://lamin.ai/laminlabs/arrayloader-benchmarks/transform/mVi9vDOMcgir on a small dataset to validate methodology before full scale7d994388-c1d5-41d7-ba15….\n",
    "\n",
    "5. Visual Comparison Figure (Figure 1 Style)\n",
    "A 3-panel figure:\n",
    "\n",
    "Left: Bulk average expression dotplot\n",
    "\n",
    "Middle: Dotplot from Wilcoxon\n",
    "\n",
    "Right: Dotplot from logistic regression with uncertainty (Modlyn)\n",
    "\n",
    "\n",
    "TODO: Felix: 1M, 10M, 100M datasets\n",
    "\n",
    "TODO: Subsampled version: Make one 1M cells test dataset\n",
    "\n",
    "scanpy reproduction and multinomial logistic regression for now they can get some interpretations out of these data better scvi and limma\n",
    "\n",
    "\n",
    "sklearn for ligistic regression or "
   ]
  },
  {
   "cell_type": "code",
   "execution_count": null,
   "id": "6f871212-274f-460c-90b8-bd42441f7930",
   "metadata": {},
   "outputs": [],
   "source": [
    "top_genes_per_cellline = {}\n",
    "for i, cell_line in enumerate(weights_df.index):\n",
    "    top_genes = weights_df.loc[cell_line].nlargest(20)\n",
    "    top_genes_per_cellline[cell_line] = top_genes\n",
    "\n",
    "top_cell_lines = adata.obs[\"cell_line\"].value_counts().index[:3].tolist()\n",
    "adata_subset = adata[adata.obs[\"cell_line\"].isin(top_cell_lines)].copy()\n",
    "\n",
    "cell_lines = list(top_genes_per_cellline.keys())[:3]\n",
    "\n",
    "top_sets = [set(top_genes_per_cellline[cl].index[:10]) for cl in cell_lines]\n",
    "shared_genes = list(set.intersection(*top_sets))\n",
    "if not shared_genes:\n",
    "    shared_genes = list(set.union(*[set(top_genes_per_cellline[cl].index[:5]) for cl in cell_lines]))\n",
    "\n",
    "print(f\"Analyzing {len(shared_genes)} shared genes\")"
   ]
  },
  {
   "cell_type": "code",
   "execution_count": null,
   "id": "8a49c90c-1333-4ce2-b426-600561363940",
   "metadata": {},
   "outputs": [],
   "source": [
    "cell_lines_unique = adata_subset.obs[\"cell_line\"].unique().tolist()\n",
    "print(cell_lines)"
   ]
  },
  {
   "cell_type": "code",
   "execution_count": null,
   "id": "693e12d2-a2bd-43e5-87b3-ae4ddd7979dd",
   "metadata": {},
   "outputs": [],
   "source": [
    "import seaborn as sns\n",
    "from matplotlib import cm\n",
    "\n",
    "def compute_fisher_info_and_se(model, dataloader):\n",
    "    model.eval()\n",
    "    fisher_diag = torch.zeros_like(model.linear.weight)\n",
    "\n",
    "    with torch.no_grad():\n",
    "        for batch in tqdm(dataloader, desc=\"Computing Fisher Information\"):\n",
    "            x, y = batch\n",
    "            logits = model.linear(x)\n",
    "            probs = torch.softmax(logits, dim=1)\n",
    "\n",
    "            for i in range(probs.shape[1]):\n",
    "                p = probs[:, i].unsqueeze(1)\n",
    "                fisher_i = p * (1 - p) * x**2\n",
    "                fisher_diag[i] += fisher_i.sum(dim=0)\n",
    "\n",
    "    se = torch.sqrt(1.0 / (fisher_diag + 1e-8))  # Add epsilon for numerical stability\n",
    "    confidence = 1.0 / se**2\n",
    "    return se.cpu().numpy(), confidence.cpu().numpy()\n",
    "\n",
    "se, confidence = compute_fisher_info_and_se(linear, datamodule.val_dataloader())\n",
    "confidence_df = pd.DataFrame(\n",
    "    confidence,\n",
    "    columns=adata.var_names,\n",
    "    index=weights_df.index  # real cell line names\n",
    ")"
   ]
  },
  {
   "cell_type": "code",
   "execution_count": null,
   "id": "c43942de-51e4-48b5-a748-bb266af196a9",
   "metadata": {},
   "outputs": [],
   "source": [
    "top_genes = list({gene for genes in top_genes_per_cellline.values() for gene in genes.index})[1:300]\n"
   ]
  },
  {
   "cell_type": "markdown",
   "id": "cb6ea89c-9e80-49b2-9f3a-7212380b9121",
   "metadata": {},
   "source": [
    "### expression_cutoff=-2"
   ]
  },
  {
   "cell_type": "code",
   "execution_count": null,
   "id": "1518f719-1673-408a-90fb-ad25c89a6d90",
   "metadata": {},
   "outputs": [],
   "source": [
    "from anndata import AnnData\n",
    "from sklearn.preprocessing import minmax_scale\n",
    "import numpy as np\n",
    "import pandas as pd\n",
    "import scanpy as sc\n",
    "\n",
    "# Subset weights and confidence matrices\n",
    "weights_sub = weights_df[top_genes]\n",
    "confidence_sub = confidence_df[top_genes]\n",
    "# print(weights_sub.head())\n",
    "\n",
    "# Clip high confidence outliers (optional but helps visibility)\n",
    "conf_clipped = np.clip(confidence_sub, 0, np.percentile(confidence_sub, 99))\n",
    "\n",
    "# Min-max scale confidence row-wise to simulate expression fractions\n",
    "conf_scaled = pd.DataFrame(\n",
    "    minmax_scale(conf_clipped, axis=1),\n",
    "    index=confidence_sub.index,\n",
    "    columns=confidence_sub.columns\n",
    ")\n",
    "\n",
    "# Build AnnData: .X = confidence → controls dot size\n",
    "adata_dot = AnnData(\n",
    "    X=conf_scaled.values,\n",
    "    obs=pd.DataFrame(index=conf_scaled.index),\n",
    "    var=pd.DataFrame(index=conf_scaled.columns)\n",
    ")\n",
    "\n",
    "# Add group labels for Scanpy to use\n",
    "adata_dot.obs[\"cell_line\"] = conf_scaled.index\n",
    "adata_dot.obs_names = conf_scaled.index\n",
    "adata_dot.var_names = conf_scaled.columns\n",
    "\n",
    "# Add weights (effect sizes) as color layer\n",
    "adata_dot.layers[\"weights\"] = weights_sub.loc[adata_dot.obs_names, adata_dot.var_names].values\n",
    "\n",
    "# Plot: size from .X (confidence), color from weights layer\n",
    "sc.pl.dotplot(\n",
    "    adata=adata_dot,\n",
    "    var_names=adata_dot.var_names.tolist(), \n",
    "    groupby=\"cell_line\",\n",
    "    use_raw=False,\n",
    "    layer=\"weights\",  # color: logistic regression weights\n",
    "    # title=\"Uncertainty-Aware DotPlot (Color = Effect Size, Size = Confidence)\",\n",
    "    # colorbar_title=\"Effect Size (Weight)\",\n",
    "    cmap=\"RdBu_r\",\n",
    "    vcenter=0.0, #vmax = , vmin = ,\n",
    "    expression_cutoff=-2,  # show all values\n",
    "    # dot_min=0.01,\n",
    "    # dot_max=0.3,\n",
    "    # smallest_dot=1.0,  # ensures small dots are visible\n",
    "    # standard_scale=None,\n",
    "    # mean_only_expressed=False,\n",
    "    show=True\n",
    ")\n"
   ]
  },
  {
   "cell_type": "code",
   "execution_count": null,
   "id": "26036701-fef6-414d-b519-67e9ac6cee30",
   "metadata": {},
   "outputs": [],
   "source": [
    "stderr_df = 1 / np.sqrt(confidence_df)\n",
    "\n",
    "weights_sub = weights_df[top_genes]\n",
    "stderr_sub = stderr_df[top_genes]\n",
    "\n",
    "certainty = 1 / stderr_sub.replace(0, np.nan)  # avoid division by zero\n",
    "certainty = certainty.fillna(0)\n",
    "\n",
    "certainty_clipped = np.clip(certainty, 0, np.percentile(certainty, 99))\n",
    "certainty_scaled = pd.DataFrame(\n",
    "    minmax_scale(certainty_clipped, axis=1),\n",
    "    index=certainty.index,\n",
    "    columns=certainty.columns\n",
    ")\n",
    "\n",
    "adata_dot = AnnData(\n",
    "    X=certainty_scaled.values,\n",
    "    obs=pd.DataFrame(index=certainty_scaled.index),\n",
    "    var=pd.DataFrame(index=certainty_scaled.columns)\n",
    ")\n",
    "\n",
    "adata_dot.obs[\"cell_line\"] = certainty_scaled.index\n",
    "adata_dot.obs_names = certainty_scaled.index\n",
    "adata_dot.var_names = certainty_scaled.columns\n",
    "adata_dot.layers[\"weights\"] = weights_sub.loc[adata_dot.obs_names, adata_dot.var_names].values\n",
    "\n",
    "\n",
    "adata_dot.X = certainty_scaled.values\n",
    "# print(adata_dot.X)\n",
    "\n",
    "sc.pl.dotplot(\n",
    "    adata=adata_dot,\n",
    "    var_names=adata_dot.var_names.tolist(), \n",
    "    groupby=\"cell_line\",\n",
    "    use_raw=False,\n",
    "    layer=\"weights\",\n",
    "    # cmap=\"RdBu_r\",\n",
    "    vcenter=0.0,\n",
    "    expression_cutoff=0,  # show all dots\n",
    "    dot_min=0,           # controls minimal dot size\n",
    "    dot_max=1,           # controls maximal dot size\n",
    "    smallest_dot=0.1,      # ensures visibility of small values\n",
    "    show=True\n",
    ")"
   ]
  },
  {
   "cell_type": "markdown",
   "id": "f6ce8d74-897d-4984-bdd1-914e230339dc",
   "metadata": {},
   "source": [
    "### expression_cutoff=0 "
   ]
  },
  {
   "cell_type": "code",
   "execution_count": null,
   "id": "80923b82-595b-432b-a433-0b4ea67ec2e8",
   "metadata": {},
   "outputs": [],
   "source": [
    "adata_dot.X = weights_sub.loc[adata_dot.obs_names, adata_dot.var_names].values\n",
    "\n",
    "# Put certainty (scaled inverse stderr) into .raw → will control size\n",
    "adata_dot.raw = AnnData(\n",
    "    X=certainty_scaled.values,\n",
    "    obs=adata_dot.obs.copy(),\n",
    "    var=adata_dot.var.copy()\n",
    ")\n",
    "\n",
    "# Plot\n",
    "sc.pl.dotplot(\n",
    "    adata=adata_dot,\n",
    "    var_names=adata_dot.var_names.tolist(),\n",
    "    groupby=\"cell_line\",\n",
    "    use_raw=True,             # size from certainty (.raw.X)\n",
    "    cmap=\"RdBu_r\",            # color from weights (.X)\n",
    "    vcenter=0.0,\n",
    "    expression_cutoff=0,      # show all\n",
    "    dot_min=0.2,\n",
    "    dot_max=1.0,\n",
    "    smallest_dot=0.5,\n",
    "    show=True\n",
    ")\n"
   ]
  },
  {
   "cell_type": "markdown",
   "id": "366c4280-63ed-4423-87d0-91935106c491",
   "metadata": {},
   "source": [
    "### z scores"
   ]
  },
  {
   "cell_type": "code",
   "execution_count": null,
   "id": "dc56467f-875d-4915-bb25-f81f4260de56",
   "metadata": {},
   "outputs": [],
   "source": [
    "z_scores = weights_sub / (1 / certainty)  # = weight * certainty\n",
    "adata_dot.X = certainty.values\n",
    "adata_dot.layers[\"z\"] = z_scores.values\n",
    "\n",
    "sc.pl.dotplot(\n",
    "    adata=adata_dot,\n",
    "    var_names=adata_dot.var_names.tolist(),\n",
    "    groupby=\"cell_line\",\n",
    "    layer=\"z\",\n",
    "    vcenter=0,\n",
    "    expression_cutoff=0,\n",
    "    dot_min=0.2,\n",
    "    dot_max=1.0,\n",
    "    smallest_dot=0.5,\n",
    "    show=True\n",
    ")\n"
   ]
  },
  {
   "cell_type": "markdown",
   "id": "30fe6e36-3270-4464-9d3b-b854542d0e76",
   "metadata": {},
   "source": [
    "### Normalize weights between -1,1"
   ]
  },
  {
   "cell_type": "code",
   "execution_count": null,
   "id": "23ddfc94-a3d1-4914-8dfe-08dab9b04615",
   "metadata": {},
   "outputs": [],
   "source": [
    "w_abs_max = np.percentile(np.abs(weights_sub.values), 99)\n",
    "\n",
    "# Normalize\n",
    "weights_scaled = weights_sub / w_abs_max\n",
    "weights_scaled = weights_scaled.clip(-1, 1)  # keep in [-1, 1]\n",
    "\n",
    "# Update dotplot dataweights_sub\n",
    "adata_dot.X = certainty_scaled.values  \n",
    "adata_dot.layers[\"weights_scaled\"] = weights_scaled.loc[adata_dot.obs_names, adata_dot.var_names].values\n",
    "\n",
    "sc.pl.dotplot(\n",
    "    adata=adata_dot,\n",
    "    var_names=adata_dot.var_names.tolist(),\n",
    "    groupby=\"cell_line\",\n",
    "    layer=\"weights_scaled\",\n",
    "    cmap=\"RdBu_r\",\n",
    "    vcenter=0.0,\n",
    "    expression_cutoff=0,\n",
    "    dot_min=0.2,\n",
    "    dot_max=1.0,\n",
    "    smallest_dot=0.5,\n",
    "    show=True\n",
    ")\n",
    "\n"
   ]
  },
  {
   "cell_type": "markdown",
   "id": "b3b3f372-eaac-4500-baaf-4622ac882c8d",
   "metadata": {},
   "source": [
    "### Correlation between weights and uncertainty"
   ]
  },
  {
   "cell_type": "code",
   "execution_count": null,
   "id": "e9b70002-e151-47b5-9839-5f4dbd3b9ee0",
   "metadata": {},
   "outputs": [],
   "source": [
    "import seaborn as sns\n",
    "import matplotlib.pyplot as plt\n",
    "\n",
    "# Flatten\n",
    "w = weights_sub.values.flatten()\n",
    "se = (1 / certainty.values).flatten()  # standard error\n",
    "valid = ~np.isnan(w) & ~np.isnan(se) & np.isfinite(w) & np.isfinite(se)\n",
    "\n",
    "# Plot\n",
    "sns.scatterplot(x=w[valid], y=se[valid], alpha=0.3)\n",
    "plt.xlabel(\"Weight\")\n",
    "plt.ylabel(\"Standard Error\")\n",
    "plt.title(\"Weight vs. Uncertainty\")\n",
    "plt.grid(True)\n",
    "plt.show()\n",
    "\n",
    "from scipy.stats import spearmanr\n",
    "rho, _ = spearmanr(w[valid], se[valid])\n",
    "print(f\"Spearman correlation: {rho:.2f}\")\n"
   ]
  },
  {
   "cell_type": "code",
   "execution_count": null,
   "id": "012957f5-b3d5-49ec-85bc-88a1bf1c7a1d",
   "metadata": {},
   "outputs": [],
   "source": [
    "sns.histplot(w[valid] / se[valid], bins=100)\n",
    "plt.xlabel(\"Weight / SE\")\n"
   ]
  },
  {
   "cell_type": "markdown",
   "id": "ddcecb20-aa58-4012-8e89-55ddcfb53bb7",
   "metadata": {},
   "source": [
    "# Scanpy"
   ]
  },
  {
   "cell_type": "markdown",
   "id": "ab0ab98c-253f-4336-9a9a-1514c141e88e",
   "metadata": {},
   "source": [
    "## logreg"
   ]
  },
  {
   "cell_type": "code",
   "execution_count": null,
   "id": "1a26f773-f229-4ed4-955c-e131f5b9bdf7",
   "metadata": {},
   "outputs": [],
   "source": [
    "adata_sc = adata_train.copy()\n",
    "sc.pp.log1p(adata_sc)\n",
    "adata_sc.X = adata_sc.X.compute()\n",
    "adata_sc.X = np.array(adata_sc.X) \n"
   ]
  },
  {
   "cell_type": "code",
   "execution_count": null,
   "id": "0ba79542-2cda-4d6d-9c75-dc2235006005",
   "metadata": {},
   "outputs": [],
   "source": [
    "sc.tl.rank_genes_groups(\n",
    "    adata_sc,\n",
    "    groupby=\"cell_line\", \n",
    "    method=\"logreg\", \n",
    "    key_added=\"logreg\"\n",
    ")\n"
   ]
  },
  {
   "cell_type": "code",
   "execution_count": null,
   "id": "38063ec6-8ac5-4411-aac9-991a7e24fda5",
   "metadata": {},
   "outputs": [],
   "source": [
    "# sc.pl.rank_genes_groups_dotplot(\n",
    "#     adata_sc,\n",
    "#     key=\"logreg\",\n",
    "#     n_genes=10,\n",
    "#     groupby=\"cell_line\",\n",
    "#     cmap=\"RdBu_r\",\n",
    "#     vcenter=0,\n",
    "#     show=True\n",
    "# )"
   ]
  },
  {
   "cell_type": "code",
   "execution_count": null,
   "id": "2e1a3f2c-01ff-467a-be0b-3abae24bed1b",
   "metadata": {},
   "outputs": [],
   "source": [
    "# ### Same genes as modlyn\n",
    "# sc.pl.dotplot(\n",
    "#     adata_sc,\n",
    "#     var_names=top_genes,\n",
    "#     groupby=\"cell_line\",\n",
    "#     standard_scale=\"var\",\n",
    "#     cmap=\"RdBu_r\",\n",
    "#     vcenter=0.0,\n",
    "#     dot_min=0.2,\n",
    "#     dot_max=1.0,\n",
    "#     smallest_dot=0.5,\n",
    "#     show=True\n",
    "# )\n"
   ]
  },
  {
   "cell_type": "markdown",
   "id": "d1d6fd50-f23a-4384-8b22-04f88203a154",
   "metadata": {},
   "source": [
    "## wilcoxon"
   ]
  },
  {
   "cell_type": "code",
   "execution_count": null,
   "id": "68f7fab4-4772-4b1d-bdb8-c37cf351062f",
   "metadata": {},
   "outputs": [],
   "source": [
    "warnings.filterwarnings('ignore')\n",
    "sc.tl.rank_genes_groups(\n",
    "    adata_sc,\n",
    "    groupby=\"cell_line\",     \n",
    "    method=\"wilcoxon\",           \n",
    "    key_added=\"wilcoxon\"\n",
    ")\n"
   ]
  },
  {
   "cell_type": "code",
   "execution_count": null,
   "id": "b628750c-7bca-4109-bb99-e98128f4f972",
   "metadata": {},
   "outputs": [],
   "source": [
    "sc.pl.rank_genes_groups_dotplot(\n",
    "    adata_sc,\n",
    "    key=\"wilcoxon\",\n",
    "    n_genes=10,\n",
    "    groupby=\"cell_line\",\n",
    "    cmap=\"RdBu_r\",\n",
    "    vcenter=0,\n",
    "    show=True\n",
    ")"
   ]
  },
  {
   "cell_type": "code",
   "execution_count": null,
   "id": "3a9900d7-379b-4c60-ba8b-1fe18d37a07f",
   "metadata": {},
   "outputs": [],
   "source": [
    "adata_sc"
   ]
  },
  {
   "cell_type": "code",
   "execution_count": null,
   "id": "49f1ebf6-ef55-490c-b3f6-26374060e431",
   "metadata": {},
   "outputs": [],
   "source": [
    "# adata_sc.write(\"adata_chunk30_processed.h5ad\")\n",
    "# adata_dot.write(\"adata_dask_chunk30_processed.h5ad\")"
   ]
  },
  {
   "cell_type": "code",
   "execution_count": null,
   "id": "7840dd24-e391-4b04-a17a-7edbe96dbf8d",
   "metadata": {},
   "outputs": [],
   "source": [
    "# sc.pl.dotplot(\n",
    "#     adata_sc,\n",
    "#     var_names=top_genes,\n",
    "#     groupby=\"cell_line\",\n",
    "#     standard_scale=\"var\",      \n",
    "#     cmap=\"RdBu_r\",\n",
    "#     vcenter=0.0,\n",
    "#     dot_min=0.2,\n",
    "#     dot_max=1.0,\n",
    "#     smallest_dot=0.5,\n",
    "#     show=True\n",
    "# )\n"
   ]
  },
  {
   "cell_type": "markdown",
   "id": "4b176f67-4ada-4b93-9e6c-54a6faeb6da8",
   "metadata": {},
   "source": [
    "### Correlation (Spearman's rho) to quantify agreement between:\n",
    "#### Logistic regression weights (Modlyn) vs Wilcoxon test statistics vs Scanpy logistic regression results"
   ]
  },
  {
   "cell_type": "code",
   "execution_count": null,
   "id": "88aa0ec6-6edb-41b5-b21f-07b0c6692aac",
   "metadata": {},
   "outputs": [],
   "source": [
    "print(adata_sc)\n",
    "adata_dot"
   ]
  },
  {
   "cell_type": "code",
   "execution_count": null,
   "id": "6cb41fbb-a63a-496e-8f96-88becf940e84",
   "metadata": {},
   "outputs": [],
   "source": [
    "genes = top_genes\n",
    "groups = adata_sc.obs[\"cell_line\"].unique()\n",
    "cell_lines = adata_sc.uns[\"logreg\"][\"names\"].dtype.names\n",
    "groups"
   ]
  },
  {
   "cell_type": "code",
   "execution_count": null,
   "id": "f25166db-06f2-464a-a83f-3b6db6643b34",
   "metadata": {},
   "outputs": [],
   "source": [
    "wilcoxon_scores = pd.DataFrame(\n",
    "    {cl: adata_sc.uns[\"wilcoxon\"][\"scores\"][cl] for cl in cell_lines},\n",
    "    index=adata_sc.uns[\"wilcoxon\"][\"names\"][cell_lines[0]]\n",
    ").T[genes]  # T = transpose → cell_line x gene\n",
    "\n",
    "# Scanpy logreg scores\n",
    "scanpy_logreg_scores = pd.DataFrame(\n",
    "    {cl: adata_sc.uns[\"logreg\"][\"scores\"][cl] for cl in cell_lines},\n",
    "    index=adata_sc.uns[\"logreg\"][\"names\"][cell_lines[0]]\n",
    ").T[genes]\n",
    "\n",
    "# print(scanpy_logreg_scores)"
   ]
  },
  {
   "cell_type": "code",
   "execution_count": null,
   "id": "2281db07-17bc-439e-af8c-8150324848af",
   "metadata": {},
   "outputs": [],
   "source": [
    "modlyn_df = pd.DataFrame(\n",
    "    adata_dot.layers[\"weights\"],\n",
    "    index=adata_dot.obs_names,\n",
    "    columns=adata_dot.var_names\n",
    ")\n",
    "modlyn_df.head()\n"
   ]
  },
  {
   "cell_type": "code",
   "execution_count": null,
   "id": "3ebbc529-bf57-48dd-bce4-5a37ba35625e",
   "metadata": {},
   "outputs": [],
   "source": [
    "# Common cell lines\n",
    "common_cls = list(set(cell_lines).intersection(modlyn_df.index))\n",
    "\n",
    "print(f\"Shared cell lines: {len(common_cls)}\")\n",
    "common_cls"
   ]
  },
  {
   "cell_type": "code",
   "execution_count": null,
   "id": "487a785d-b879-47bd-84db-60790446625c",
   "metadata": {},
   "outputs": [],
   "source": [
    "results = []\n",
    "\n",
    "for cl in common_cls:\n",
    "    for name, scores in [\n",
    "        (\"scanpy_logreg\", scanpy_logreg_scores),\n",
    "        (\"wilcoxon\", wilcoxon_scores)\n",
    "    ]:\n",
    "        if cl in scores.index:\n",
    "            rho, _ = spearmanr(modlyn_df.loc[cl], scores.loc[cl])\n",
    "            results.append({\"cell_line\": cl, \"vs\": name, \"rho\": rho})\n"
   ]
  },
  {
   "cell_type": "code",
   "execution_count": null,
   "id": "b1f0b502-295f-40d3-809d-3b6dee50d703",
   "metadata": {},
   "outputs": [],
   "source": [
    "# import seaborn as sns\n",
    "# import matplotlib.pyplot as plt\n",
    "\n",
    "# sns.boxplot(data=results, x=\"vs\", y=\"rho\")\n",
    "# plt.axhline(0, color=\"gray\", linestyle=\"--\")\n",
    "# plt.title(\"Spearman Correlation with Modlyn Weights\")\n",
    "# plt.show()\n"
   ]
  },
  {
   "cell_type": "markdown",
   "id": "1d6efbc2-39bf-4f11-9e8c-3cc5d6f1e6b0",
   "metadata": {},
   "source": [
    "### Differential Expression Testing Benchmark\n",
    "\n",
    "Use sc.tl.rank_genes_groups() (Wilcoxon) as a reference.\n",
    "\n",
    "Compare results with:\n",
    "\n",
    "LogReg-derived weights using t-test-style criteria\n",
    "\n",
    "Associated uncertainty estimates\n"
   ]
  },
  {
   "cell_type": "code",
   "execution_count": null,
   "id": "53dd0bae-4680-4c98-bb9d-1b30fc310b21",
   "metadata": {},
   "outputs": [],
   "source": [
    "# sc.tl.rank_genes_groups(\n",
    "#     adata_sc,\n",
    "#     groupby=\"cell_line\",\n",
    "#     method=\"wilcoxon\",\n",
    "#     key_added=\"wilcoxon\"\n",
    "# )\n"
   ]
  },
  {
   "cell_type": "code",
   "execution_count": null,
   "id": "95d7d30c-5516-48c3-b09c-968253374769",
   "metadata": {},
   "outputs": [],
   "source": [
    "top_wilcoxon = {\n",
    "    cl: list(adata_sc.uns[\"wilcoxon\"][\"names\"][cl][:100])\n",
    "    for cl in adata_sc.uns[\"wilcoxon\"][\"names\"].dtype.names\n",
    "}\n"
   ]
  },
  {
   "cell_type": "code",
   "execution_count": null,
   "id": "c4d68fcd-b471-45f5-904b-5394b39ffdd8",
   "metadata": {},
   "outputs": [],
   "source": [
    "weights = pd.DataFrame(adata_dot.layers[\"weights\"], index=adata_dot.obs_names, columns=adata_dot.var_names)\n",
    "stderr = 1 / certainty  \n",
    "z_scores = weights / stderr\n",
    "z_scores = z_scores.replace([np.inf, -np.inf], np.nan).fillna(0).clip(-20, 20)\n"
   ]
  },
  {
   "cell_type": "code",
   "execution_count": null,
   "id": "a3fab064-863b-409f-a288-7ec5583be092",
   "metadata": {},
   "outputs": [],
   "source": [
    "top_logreg = {\n",
    "    cl: z_scores.loc[cl].abs().sort_values(ascending=False).head(100).index.tolist()\n",
    "    for cl in z_scores.index\n",
    "}\n"
   ]
  },
  {
   "cell_type": "code",
   "execution_count": null,
   "id": "d7cc47a9-ae08-4d62-b1fd-3664056ba695",
   "metadata": {},
   "outputs": [],
   "source": [
    "def overlap(set1, set2):\n",
    "    return len(set(set1).intersection(set2)) / len(set2)\n",
    "\n",
    "benchmark = pd.DataFrame({\n",
    "    cl: {\n",
    "        \"overlap_wilcoxon_vs_logregZ\": overlap(top_wilcoxon[cl], top_logreg[cl])\n",
    "    }\n",
    "    for cl in z_scores.index\n",
    "}).T\n"
   ]
  },
  {
   "cell_type": "code",
   "execution_count": null,
   "id": "42901dd2-7348-460a-9568-0f2c7ca654be",
   "metadata": {},
   "outputs": [],
   "source": [
    "import seaborn as sns\n",
    "import matplotlib.pyplot as plt\n",
    "\n",
    "benchmark = benchmark.sort_values(\"overlap_wilcoxon_vs_logregZ\")\n",
    "sns.barplot(data=benchmark, x=benchmark.index, y=\"overlap_wilcoxon_vs_logregZ\")\n",
    "plt.xticks(rotation=90)\n",
    "plt.ylabel(\"DE overlap (Wilcoxon vs. LogReg Z)\")\n",
    "plt.title(\"DE Benchmark: Wilcoxon vs. LogReg + Uncertainty\")\n",
    "plt.tight_layout()\n",
    "plt.show()\n"
   ]
  },
  {
   "cell_type": "code",
   "execution_count": null,
   "id": "4b0912b8-bf30-476a-a4be-b021f312d02f",
   "metadata": {},
   "outputs": [],
   "source": [
    "print(adata_sc)\n",
    "adata_dot"
   ]
  },
  {
   "cell_type": "code",
   "execution_count": null,
   "id": "df7443f9-3527-46d7-9f1f-c4e42a4f1713",
   "metadata": {},
   "outputs": [],
   "source": [
    "# ln.finish()\n"
   ]
  },
  {
   "cell_type": "code",
   "execution_count": null,
   "id": "ede7bfa4-5939-45b1-be7f-828162ca7ce4",
   "metadata": {},
   "outputs": [],
   "source": [
    "### NEW\n",
    "genes = top_genes[:30]\n",
    "genes"
   ]
  },
  {
   "cell_type": "code",
   "execution_count": null,
   "id": "666aa681-7706-46fa-94b3-3d65af90493c",
   "metadata": {},
   "outputs": [],
   "source": [
    "# fig, axes = plt.subplots(1, 3, figsize=(18, 6))\n",
    "\n",
    "# sc.pl.dotplot(adata_sc, var_names=genes, groupby=\"cell_line\", ax=axes[0],\n",
    "#               cmap=\"RdBu_r\", vcenter=0.0, dot_min=0.2, dot_max=1.0,\n",
    "#               standard_scale=\"var\", show=False)\n",
    "# axes[0].set_title(\"Scanpy LogReg\")\n",
    "\n",
    "# sc.pl.dotplot(adata_sc, var_names=genes, groupby=\"cell_line\", ax=axes[1],\n",
    "#               cmap=\"RdBu_r\", vcenter=0.0, dot_min=0.2, dot_max=1.0, standard_scale=\"var\", show=False)\n",
    "# axes[1].set_title(\"Wilcoxon\")\n",
    "\n",
    "# sc.pl.dotplot(adata_dot, var_names=genes, groupby=\"cell_line\", ax=axes[2],\n",
    "#                cmap=\"RdBu_r\", vcenter=0.0,\n",
    "#               use_raw=True, dot_min=0.2, dot_max=1.0, show=False)\n",
    "# axes[2].set_title(\"Modlyn (weights + uncertainty)\")\n",
    "\n",
    "# plt.tight_layout()\n",
    "# plt.show()\n"
   ]
  },
  {
   "cell_type": "code",
   "execution_count": null,
   "id": "96e1b802-f2f9-4f58-a800-e2d5ffea4ed8",
   "metadata": {},
   "outputs": [],
   "source": [
    "logreg_scores = pd.DataFrame(\n",
    "    {cl: adata_sc.uns[\"logreg\"][\"scores\"][cl] for cl in adata_sc.uns[\"logreg\"][\"scores\"].dtype.names},\n",
    "    index=adata_sc.uns[\"logreg\"][\"names\"][adata_sc.uns[\"logreg\"][\"scores\"].dtype.names[0]]\n",
    ").T[genes]  # shape: cell_line x gene\n",
    "\n",
    "wilcoxon_scores = pd.DataFrame(\n",
    "    {cl: adata_sc.uns[\"wilcoxon\"][\"scores\"][cl] for cl in adata_sc.uns[\"wilcoxon\"][\"scores\"].dtype.names},\n",
    "    index=adata_sc.uns[\"wilcoxon\"][\"names\"][adata_sc.uns[\"wilcoxon\"][\"scores\"].dtype.names[0]]\n",
    ").T[genes]\n",
    "\n",
    "# dot_size_df = logreg_scores.abs()\n",
    "\n",
    "modlyn_weights = pd.DataFrame(\n",
    "    adata_dot.layers[\"weights_scaled\"],\n",
    "    index=adata_dot.obs_names,\n",
    "    columns=adata_dot.var_names\n",
    ")[genes]\n",
    "\n",
    "modlyn_certainty = pd.DataFrame(\n",
    "    adata_dot.X,  # this holds certainty_scaled\n",
    "    index=adata_dot.obs_names,\n",
    "    columns=adata_dot.var_names\n",
    ")[genes]\n",
    "\n",
    "fig, axes = plt.subplots(1, 3, figsize=(18, 6))\n",
    "\n",
    "# LogReg\n",
    "sc.pl.dotplot(\n",
    "    adata_sc,\n",
    "    var_names=genes,\n",
    "    groupby=\"cell_line\",\n",
    "    dot_color_df=logreg_scores,\n",
    "    # dot_size_df=dot_size_df,\n",
    "    ax=axes[0],\n",
    "    cmap=\"RdBu_r\",\n",
    "    vcenter=0,\n",
    "    # dot_min=0.2,\n",
    "    # dot_max=1.0,\n",
    "    # smallest_dot=0.1,\n",
    "    show=False\n",
    ")\n",
    "axes[0].set_title(\"Scanpy LogReg\")\n",
    "\n",
    "# Wilcoxon\n",
    "sc.pl.dotplot(\n",
    "    adata_sc,\n",
    "    var_names=genes,\n",
    "    groupby=\"cell_line\",\n",
    "    dot_color_df=wilcoxon_scores,\n",
    "    # dot_size_df=dot_size_df,#wilcoxon_scores.abs(),\n",
    "    ax=axes[1],\n",
    "    cmap=\"RdBu_r\",\n",
    "    vcenter=0,\n",
    "    # dot_min=0.2,\n",
    "    # dot_max=1.0,\n",
    "    # smallest_dot=0.1,\n",
    "    show=False\n",
    ")\n",
    "axes[1].set_title(\"Wilcoxon\")\n",
    "\n",
    "# Modlyn\n",
    "sc.pl.dotplot(\n",
    "    adata_dot,\n",
    "    var_names=genes,\n",
    "    groupby=\"cell_line\",\n",
    "    dot_color_df=modlyn_weights,\n",
    "    dot_size_df=modlyn_certainty,\n",
    "    ax=axes[2],\n",
    "    cmap=\"RdBu_r\",\n",
    "    vcenter=0,\n",
    "    # dot_min=0.2,\n",
    "    # dot_max=1.0,\n",
    "    # smallest_dot=0.1,\n",
    "    show=False\n",
    ")\n",
    "axes[2].set_title(\"Modlyn (weights + uncertainty)\")\n",
    "\n",
    "plt.tight_layout()\n",
    "plt.show()"
   ]
  },
  {
   "cell_type": "markdown",
   "id": "a183a0d6-0a60-415d-8bda-974117130a3b",
   "metadata": {},
   "source": [
    "## Scale scores for comparison"
   ]
  },
  {
   "cell_type": "code",
   "execution_count": null,
   "id": "841b745b-e67e-4a84-92b3-72ca815c5a1a",
   "metadata": {},
   "outputs": [],
   "source": [
    "logreg_scores = pd.DataFrame(\n",
    "    {cl: adata_sc.uns[\"logreg\"][\"scores\"][cl] for cl in adata_sc.uns[\"logreg\"][\"scores\"].dtype.names},\n",
    "    index=adata_sc.uns[\"logreg\"][\"names\"][adata_sc.uns[\"logreg\"][\"scores\"].dtype.names[0]]\n",
    ").T[genes]  # shape: cell_line x gene\n",
    "\n",
    "wilcoxon_scores = pd.DataFrame(\n",
    "    {cl: adata_sc.uns[\"wilcoxon\"][\"scores\"][cl] for cl in adata_sc.uns[\"wilcoxon\"][\"scores\"].dtype.names},\n",
    "    index=adata_sc.uns[\"wilcoxon\"][\"names\"][adata_sc.uns[\"wilcoxon\"][\"scores\"].dtype.names[0]]\n",
    ").T[genes]\n",
    "\n",
    "# dot_size_df = logreg_scores.abs()\n",
    "\n",
    "modlyn_weights = pd.DataFrame(\n",
    "    adata_dot.layers[\"weights_scaled\"],\n",
    "    index=adata_dot.obs_names,\n",
    "    columns=adata_dot.var_names\n",
    ")[genes]\n",
    "\n",
    "modlyn_certainty = pd.DataFrame(\n",
    "    adata_dot.X,  # this holds certainty_scaled\n",
    "    index=adata_dot.obs_names,\n",
    "    columns=adata_dot.var_names\n",
    ")[genes]\n",
    "\n",
    "\n",
    "from sklearn.preprocessing import minmax_scale\n",
    "\n",
    "# Color: normalize all scores to [-1, 1]\n",
    "def scale_weights(df):\n",
    "    vmax = np.percentile(np.abs(df.values), 99)\n",
    "    return df.clip(-vmax, vmax) / vmax\n",
    "\n",
    "logreg_scaled = scale_weights(logreg_scores[genes])\n",
    "wilcoxon_scaled = scale_weights(wilcoxon_scores[genes])\n",
    "modlyn_scaled = scale_weights(modlyn_weights)\n",
    "\n",
    "# Size: normalize certainty/abs(score) to [0, 1]\n",
    "logreg_size = pd.DataFrame(minmax_scale(logreg_scores[genes].abs(), axis=1),\n",
    "                           index=logreg_scores.index, columns=genes)\n",
    "wilcoxon_size = pd.DataFrame(minmax_scale(wilcoxon_scores[genes].abs(), axis=1),\n",
    "                             index=wilcoxon_scores.index, columns=genes)\n",
    "modlyn_size = pd.DataFrame(minmax_scale(modlyn_certainty, axis=1),\n",
    "                           index=modlyn_certainty.index, columns=genes)\n",
    "\n",
    "\n",
    "fig, axes = plt.subplots(1, 3, figsize=(18, 6))\n",
    "\n",
    "sc.pl.dotplot(\n",
    "    adata_sc,\n",
    "    var_names=genes,\n",
    "    groupby=\"cell_line\",\n",
    "    dot_color_df=logreg_scaled,\n",
    "    dot_size_df=logreg_size,\n",
    "    ax=axes[0],\n",
    "    cmap=\"RdBu_r\",\n",
    "    vcenter=0,\n",
    "    dot_min=0.2,\n",
    "    dot_max=1.0,\n",
    "    smallest_dot=0.1,\n",
    "    show=False\n",
    ")\n",
    "axes[0].set_title(\"Scanpy LogReg (scaled)\")\n",
    "\n",
    "sc.pl.dotplot(\n",
    "    adata_sc,\n",
    "    var_names=genes,\n",
    "    groupby=\"cell_line\",\n",
    "    dot_color_df=wilcoxon_scaled,\n",
    "    dot_size_df=wilcoxon_size,\n",
    "    ax=axes[1],\n",
    "    cmap=\"RdBu_r\",\n",
    "    vcenter=0,\n",
    "    dot_min=0.2,\n",
    "    dot_max=1.0,\n",
    "    smallest_dot=0.1,\n",
    "    show=False\n",
    ")\n",
    "axes[1].set_title(\"Wilcoxon (scaled)\")\n",
    "\n",
    "sc.pl.dotplot(\n",
    "    adata_dot,\n",
    "    var_names=genes,\n",
    "    groupby=\"cell_line\",\n",
    "    dot_color_df=modlyn_scaled,\n",
    "    dot_size_df=modlyn_size,\n",
    "    ax=axes[2],\n",
    "    cmap=\"RdBu_r\",\n",
    "    vcenter=0,\n",
    "    dot_min=0.2,\n",
    "    dot_max=1.0,\n",
    "    smallest_dot=0.1,\n",
    "    show=False\n",
    ")\n",
    "axes[2].set_title(\"Modlyn (scaled)\")\n",
    "\n",
    "plt.tight_layout()\n",
    "plt.show()\n"
   ]
  },
  {
   "cell_type": "code",
   "execution_count": null,
   "id": "e45ce186-433a-42c9-9bc4-683d4f3e497f",
   "metadata": {},
   "outputs": [],
   "source": [
    "corr_df = pd.DataFrame(results)\n",
    "plt.figure(figsize=(6, 4))\n",
    "sns.boxplot(data=corr_df, x=\"vs\", y=\"rho\")\n",
    "plt.axhline(0, linestyle=\"--\", color=\"gray\")\n",
    "plt.ylabel(\"Spearman ρ\")\n",
    "plt.title(\"Rank Correlation: Modlyn vs. Other Methods\")\n",
    "plt.tight_layout()\n",
    "plt.show()\n"
   ]
  },
  {
   "cell_type": "code",
   "execution_count": null,
   "id": "f86cf9d2-23e3-4f7c-86ab-691c099c0dc0",
   "metadata": {},
   "outputs": [],
   "source": [
    "## If top genes overlap across 2+ methods → higher confidence"
   ]
  },
  {
   "cell_type": "code",
   "execution_count": null,
   "id": "32a71944-ba44-4b15-a1a3-691d08509569",
   "metadata": {},
   "outputs": [],
   "source": [
    "consensus_genes = []\n",
    "for cl in common_cls:\n",
    "    top_m = set(modlyn_df.loc[cl].abs().nlargest(100).index)\n",
    "    top_w = set(wilcoxon_scores.loc[cl].abs().nlargest(100).index)\n",
    "    top_s = set(scanpy_logreg_scores.loc[cl].abs().nlargest(100).index)\n",
    "    overlap = top_m & top_w & top_s\n",
    "    consensus_genes.extend(overlap)\n",
    "\n",
    "from collections import Counter\n",
    "shared_counts = Counter(consensus_genes)\n",
    "top_consensus = [g for g, c in shared_counts.items() if c >= 2]\n",
    "print(top_consensus[:10])\n"
   ]
  },
  {
   "cell_type": "code",
   "execution_count": null,
   "id": "fbb615d0-1fda-4db7-9cee-908c0927c461",
   "metadata": {},
   "outputs": [],
   "source": []
  },
  {
   "cell_type": "markdown",
   "id": "790dd94a-2ab7-4ac6-9835-ec29bcef16e7",
   "metadata": {},
   "source": [
    "## Linscvi"
   ]
  },
  {
   "cell_type": "code",
   "execution_count": null,
   "id": "4ba76e51-9c66-4e2a-bfca-2eb50d0579e3",
   "metadata": {},
   "outputs": [],
   "source": [
    "import scvi\n"
   ]
  },
  {
   "cell_type": "code",
   "execution_count": null,
   "id": "1aa811d4-9aee-4a85-9c4e-9bf55e9a5d67",
   "metadata": {},
   "outputs": [],
   "source": [
    "# Log-transform\n",
    "adata_scvi = adata_train.copy()\n",
    "\n",
    "sc.pp.log1p(adata_scvi)\n",
    "adata_scvi.X = adata_train.X.compute()\n",
    "adata_scvi.X = np.array(adata_scvi.X)\n",
    "\n",
    "adata_sub = adata_scvi[np.random.choice(adata_scvi.n_obs, 2000, replace=False)].copy()\n"
   ]
  },
  {
   "cell_type": "code",
   "execution_count": null,
   "id": "9182c11e-8e14-4b36-bb14-88d7bdb3809f",
   "metadata": {},
   "outputs": [],
   "source": [
    "scvi.model.LinearSCVI.setup_anndata(adata_sub, labels_key=\"cell_line\")\n"
   ]
  },
  {
   "cell_type": "code",
   "execution_count": null,
   "id": "16ef7bef-f5d6-48fb-9e71-c97252d6adb5",
   "metadata": {},
   "outputs": [],
   "source": [
    "model = scvi.model.LinearSCVI(adata_sub, gene_likelihood=\"gaussian\")\n",
    "model.view_anndata_setup()"
   ]
  },
  {
   "cell_type": "code",
   "execution_count": null,
   "id": "85d7e93b-d8f1-419f-a904-ac419c895ca8",
   "metadata": {},
   "outputs": [],
   "source": [
    "model.train()\n"
   ]
  },
  {
   "cell_type": "code",
   "execution_count": null,
   "id": "3005c871-a90a-474c-978f-d72ed4d40964",
   "metadata": {},
   "outputs": [],
   "source": [
    "print(model.get_loadings())\n",
    "print(model.summary_string)"
   ]
  },
  {
   "cell_type": "code",
   "execution_count": null,
   "id": "ffd04f6d-a480-4827-a900-df69c3579a54",
   "metadata": {},
   "outputs": [],
   "source": [
    "labels = adata_sub.obs[\"cell_line\"].values\n",
    "\n",
    "import time\n",
    "start = time.time()\n",
    "Z = model.get_latent_representation(batch_size=64)\n",
    "print(f\"Elapsed: {time.time() - start:.2f} seconds\")\n"
   ]
  },
  {
   "cell_type": "code",
   "execution_count": null,
   "id": "8999eeb9-1645-4040-8573-816231299a9c",
   "metadata": {},
   "outputs": [],
   "source": [
    "labels_unique = np.unique(labels)\n",
    "\n",
    "Z_mean = np.stack([Z[labels == k].mean(axis=0) for k in labels_unique])\n",
    "\n",
    "# Project into gene space\n",
    "W = model.get_loadings().values  # shape: genes × latent\n",
    "weights = Z_mean @ W.T  # shape: cell_lines × genes\n",
    "\n",
    "# Wrap up as DataFrame\n",
    "weights_df = pd.DataFrame(\n",
    "    weights,\n",
    "    index=labels_unique,\n",
    "    columns=model.adata.var_names\n",
    ")\n",
    "weights_df"
   ]
  },
  {
   "cell_type": "code",
   "execution_count": null,
   "id": "05910ec2-9f52-47a2-9387-6af7ff7c6a57",
   "metadata": {},
   "outputs": [],
   "source": [
    "from sklearn.preprocessing import minmax_scale\n",
    "\n",
    "# Normalize weights (for plotting)\n",
    "w_scaled = weights_df.clip(-np.percentile(np.abs(weights_df), 99), \n",
    "                           np.percentile(np.abs(weights_df), 99))\n",
    "w_scaled = w_scaled / np.percentile(np.abs(w_scaled.values), 99)\n",
    "\n",
    "# Certainty estimate → use abs(weight) as proxy (LinearSCVI doesn't output SE directly)\n",
    "certainty = weights_df.abs()\n",
    "certainty_scaled = pd.DataFrame(minmax_scale(certainty, axis=1),\n",
    "                                index=certainty.index,\n",
    "                                columns=certainty.columns)\n"
   ]
  },
  {
   "cell_type": "code",
   "execution_count": null,
   "id": "dc82af53-3c3d-46eb-b255-0752791665d4",
   "metadata": {},
   "outputs": [],
   "source": [
    "adata_dot_lscvi = ad.AnnData(\n",
    "    X=certainty_scaled.values,\n",
    "    obs=pd.DataFrame(index=certainty_scaled.index),\n",
    "    var=pd.DataFrame(index=certainty_scaled.columns)\n",
    ")\n",
    "adata_dot_lscvi.obs[\"cell_line\"] = adata_dot_lscvi.obs.index\n",
    "adata_dot_lscvi.obs_names = adata_dot_lscvi.obs.index\n",
    "adata_dot_lscvi.var_names = adata_dot_lscvi.var.index\n",
    "adata_dot_lscvi.layers[\"weights_scaled\"] = w_scaled.loc[adata_dot_lscvi.obs_names, adata_dot_lscvi.var_names].values\n"
   ]
  },
  {
   "cell_type": "code",
   "execution_count": null,
   "id": "2152b5f8-1cd5-48ed-8c8a-35116ec72419",
   "metadata": {},
   "outputs": [],
   "source": [
    "lscvi_size = pd.DataFrame(minmax_scale(certainty, axis=1),\n",
    "                           index=certainty.index, columns=certainty.columns)\n",
    "\n",
    "dot_color = pd.DataFrame(\n",
    "    adata_dot_lscvi.layers[\"weights_scaled\"],\n",
    "    index=adata_dot_lscvi.obs_names,\n",
    "    columns=adata_dot_lscvi.var_names\n",
    ")\n",
    "\n",
    "sc.pl.dotplot(\n",
    "    adata_dot_lscvi,\n",
    "    var_names=top_genes,\n",
    "    groupby=\"cell_line\",\n",
    "    dot_color_df=dot_color[top_genes],\n",
    "    dot_size_df=lscvi_size[top_genes],\n",
    "    cmap=\"RdBu_r\",\n",
    "    vcenter=0,\n",
    "    dot_min=0.2,\n",
    "    dot_max=1.0,\n",
    "    smallest_dot=0.1,\n",
    "    show=True\n",
    ")"
   ]
  },
  {
   "cell_type": "markdown",
   "id": "2d1145ec-cac3-4e17-80c3-5ed2f0d425f8",
   "metadata": {},
   "source": [
    "## Comparisons"
   ]
  },
  {
   "cell_type": "code",
   "execution_count": null,
   "id": "c29c4908-694b-4b42-be7b-6ef3467873a5",
   "metadata": {},
   "outputs": [],
   "source": [
    "# certainty and scaled weights from LinearSCVI\n",
    "lscvi_weights = pd.DataFrame(\n",
    "    adata_dot_lscvi.layers[\"weights_scaled\"],\n",
    "    index=adata_dot_lscvi.obs_names,\n",
    "    columns=adata_dot_lscvi.var_names\n",
    ")[genes]\n",
    "\n",
    "lscvi_certainty = pd.DataFrame(\n",
    "    adata_dot_lscvi.X,\n",
    "    index=adata_dot_lscvi.obs_names,\n",
    "    columns=adata_dot_lscvi.var_names\n",
    ")[genes]\n",
    "\n",
    "# Normalize weights and certainty\n",
    "lscvi_scaled = scale_weights(lscvi_weights)\n",
    "lscvi_size = pd.DataFrame(minmax_scale(lscvi_certainty, axis=1),\n",
    "                          index=lscvi_certainty.index,\n",
    "                          columns=lscvi_certainty.columns)\n"
   ]
  },
  {
   "cell_type": "code",
   "execution_count": null,
   "id": "ca0a1902-e89e-4fea-980c-6f9a8d6b0ace",
   "metadata": {},
   "outputs": [],
   "source": [
    "fig, axes = plt.subplots(1, 4, figsize=(24, 6))  # changed to 4 plots\n",
    "\n",
    "# Panel 1: LogReg\n",
    "sc.pl.dotplot(\n",
    "    adata_sc,\n",
    "    var_names=genes,\n",
    "    groupby=\"cell_line\",\n",
    "    dot_color_df=logreg_scaled,\n",
    "    dot_size_df=logreg_size,\n",
    "    ax=axes[0],\n",
    "    cmap=\"RdBu_r\",\n",
    "    vcenter=0,\n",
    "    dot_min=0.2,\n",
    "    dot_max=1.0,\n",
    "    smallest_dot=0.1,\n",
    "    show=False\n",
    ")\n",
    "axes[0].set_title(\"Scanpy LogReg (scaled)\")\n",
    "\n",
    "# Panel 2: Wilcoxon\n",
    "sc.pl.dotplot(\n",
    "    adata_sc,\n",
    "    var_names=genes,\n",
    "    groupby=\"cell_line\",\n",
    "    dot_color_df=wilcoxon_scaled,\n",
    "    dot_size_df=wilcoxon_size,\n",
    "    ax=axes[1],\n",
    "    cmap=\"RdBu_r\",\n",
    "    vcenter=0,\n",
    "    dot_min=0.2,\n",
    "    dot_max=1.0,\n",
    "    smallest_dot=0.1,\n",
    "    show=False\n",
    ")\n",
    "axes[1].set_title(\"Wilcoxon (scaled)\")\n",
    "\n",
    "# Panel 3: Modlyn\n",
    "sc.pl.dotplot(\n",
    "    adata_dot,\n",
    "    var_names=genes,\n",
    "    groupby=\"cell_line\",\n",
    "    dot_color_df=modlyn_scaled,\n",
    "    dot_size_df=modlyn_size,\n",
    "    ax=axes[2],\n",
    "    cmap=\"RdBu_r\",\n",
    "    vcenter=0,\n",
    "    dot_min=0.2,\n",
    "    dot_max=1.0,\n",
    "    smallest_dot=0.1,\n",
    "    show=False\n",
    ")\n",
    "axes[2].set_title(\"Modlyn (scaled)\")\n",
    "\n",
    "# Panel 4: LSCVI\n",
    "sc.pl.dotplot(\n",
    "    adata_dot_lscvi,\n",
    "    var_names=genes,\n",
    "    groupby=\"cell_line\",\n",
    "    dot_color_df=lscvi_scaled,\n",
    "    dot_size_df=lscvi_size,\n",
    "    ax=axes[3],\n",
    "    cmap=\"RdBu_r\",\n",
    "    vcenter=0,\n",
    "    dot_min=0.2,\n",
    "    dot_max=1.0,\n",
    "    smallest_dot=0.1,\n",
    "    show=False\n",
    ")\n",
    "axes[3].set_title(\"LinearSCVI (scaled)\")\n",
    "\n",
    "plt.tight_layout()\n",
    "plt.show()\n"
   ]
  },
  {
   "cell_type": "code",
   "execution_count": null,
   "id": "a61feb6f-66de-46d4-bcd5-dc201610cae5",
   "metadata": {},
   "outputs": [],
   "source": [
    "methods = {\n",
    "    \"LogReg\": logreg_scaled,\n",
    "    \"Wilcoxon\": wilcoxon_scaled,\n",
    "    \"LinearSCVI\": lscvi_scaled\n",
    "}\n",
    "\n",
    "results = []\n",
    "\n",
    "for method_name, df in methods.items():\n",
    "    for cl in modlyn_scaled.index.intersection(df.index):\n",
    "        rho, _ = spearmanr(modlyn_scaled.loc[cl], df.loc[cl])\n",
    "        results.append({\n",
    "            \"cell_line\": cl,\n",
    "            \"method\": method_name,\n",
    "            \"spearman_rho\": rho\n",
    "        })\n",
    "\n",
    "corr_df = pd.DataFrame(results)\n",
    "\n",
    "plt.figure(figsize=(6, 4))\n",
    "sns.boxplot(data=corr_df, x=\"method\", y=\"spearman_rho\")\n",
    "sns.stripplot(data=corr_df, x=\"method\", y=\"spearman_rho\", color=\"black\", alpha=0.4, jitter=0.15)\n",
    "\n",
    "plt.axhline(0, color=\"gray\", linestyle=\"--\", linewidth=1)\n",
    "plt.ylabel(\"Spearman ρ with Modlyn\")\n",
    "plt.title(\"Correlation of Modlyn weights vs. other methods\")\n",
    "plt.tight_layout()\n",
    "plt.show()\n",
    "\n"
   ]
  },
  {
   "cell_type": "code",
   "execution_count": null,
   "id": "3075188f-6082-4cb5-be4f-5734ec2212d8",
   "metadata": {},
   "outputs": [],
   "source": [
    "methods = {\n",
    "    \"LogReg\": logreg_scaled,\n",
    "    \"Wilcoxon\": wilcoxon_scaled,\n",
    "    \"LinearSCVI\": lscvi_scaled\n",
    "}\n",
    "\n",
    "# rows: cell lines, columns: methods\n",
    "heatmap_data = {}\n",
    "\n",
    "for cl in modlyn_scaled.index:\n",
    "    row = {}\n",
    "    for method_name, df in methods.items():\n",
    "        if cl in df.index:\n",
    "            rho, _ = spearmanr(modlyn_scaled.loc[cl], df.loc[cl])\n",
    "            row[method_name] = rho\n",
    "    heatmap_data[cl] = row\n",
    "\n",
    "heatmap_df = pd.DataFrame.from_dict(heatmap_data, orient=\"index\").sort_index()\n",
    "heatmap_sorted = heatmap_df.loc[heatmap_df.mean(axis=1).sort_values(ascending=False).index]\n",
    "\n",
    "plt.figure(figsize=(8, 0.4 * len(heatmap_sorted)))\n",
    "sns.heatmap(\n",
    "    heatmap_sorted,\n",
    "    annot=True,\n",
    "    fmt=\".2f\",\n",
    "    cmap=\"coolwarm\",\n",
    "    center=0,\n",
    "    norm=TwoSlopeNorm(vcenter=0),\n",
    "    linewidths=0.4,\n",
    "    linecolor=\"white\",\n",
    "    cbar_kws={\"label\": \"Spearman ρ (vs Modlyn)\", \"shrink\": 0.8}\n",
    ")\n",
    "\n",
    "plt.title(\"Per-Cell Line Correlation with Modlyn\", fontsize=14, weight=\"bold\")\n",
    "plt.ylabel(\"Cell Line\")\n",
    "plt.xlabel(\"Comparison Method\")\n",
    "plt.xticks(rotation=45, ha=\"right\")\n",
    "plt.yticks(rotation=0)\n",
    "plt.tight_layout()\n",
    "plt.show()"
   ]
  },
  {
   "cell_type": "code",
   "execution_count": null,
   "id": "1cee1130-2ad1-4606-9e7e-94dd48454e59",
   "metadata": {},
   "outputs": [],
   "source": [
    "from upsetplot import from_memberships, UpSet\n",
    "import matplotlib.pyplot as plt\n",
    "\n",
    "cell_line = \"CVCL_0459\"\n",
    "top_k = 20\n",
    "\n",
    "# Extract top genes per method for this cell line\n",
    "top_genes_per_method = {\n",
    "    \"LogReg\": set(logreg_scaled.loc[cell_line].abs().nlargest(top_k).index),\n",
    "    \"Wilcoxon\": set(wilcoxon_scaled.loc[cell_line].abs().nlargest(top_k).index),\n",
    "    \"Modlyn\": set(modlyn_scaled.loc[cell_line].abs().nlargest(top_k).index),\n",
    "    \"LinearSCVI\": set(lscvi_scaled.loc[cell_line].abs().nlargest(top_k).index),\n",
    "}\n"
   ]
  },
  {
   "cell_type": "code",
   "execution_count": null,
   "id": "0fe45114-d56a-4400-b39c-43d0acb03b60",
   "metadata": {},
   "outputs": [],
   "source": [
    "memberships = []\n",
    "for gene in set.union(*top_genes_per_method.values()):\n",
    "    methods = [method for method, genes in top_genes_per_method.items() if gene in genes]\n",
    "    memberships.append(methods)\n",
    "\n",
    "# Convert to UpSet data\n",
    "upset_data = from_memberships(memberships)"
   ]
  },
  {
   "cell_type": "code",
   "execution_count": null,
   "id": "072cfec8-561a-4268-b16b-4abdbb8eee11",
   "metadata": {},
   "outputs": [],
   "source": [
    "plt.figure(figsize=(10, 5))\n",
    "UpSet(\n",
    "    upset_data,\n",
    "    sort_by=\"degree\",\n",
    "    show_counts=True,\n",
    "    min_subset_size=1,\n",
    "    subset_size=\"count\"\n",
    ").plot()\n",
    "\n",
    "plt.suptitle(f\"Top {top_k} Gene Overlap for Cell Line {cell_line}\", fontsize=14, weight=\"bold\")\n",
    "plt.tight_layout()\n",
    "plt.show()"
   ]
  },
  {
   "cell_type": "markdown",
   "id": "238dbc1f-d500-4631-940f-40456ca83c55",
   "metadata": {},
   "source": [
    "## Questions:"
   ]
  },
  {
   "cell_type": "markdown",
   "id": "23a1528c-e5bf-473f-91f2-67f2fa8e7431",
   "metadata": {},
   "source": [
    "#### Does the Scanpy LogReg method (inspired by Ntranos et al., Nature Methods, 2018) quantify uncertainty? How does that compare to what Modlyn provides?\n",
    "\n",
    "They do use logistic regression, but primarily for ranking features, not for quantifying uncertainty.\n",
    "\n",
    "Confirm: Scanpy’s sc.tl.rank_genes_groups(..., method=\"logreg\") does not return confidence intervals or standard errors.\n",
    "\n",
    "In contrast, Modlyn explicitly computes uncertainty via inverse Fisher Information.\n",
    "\n",
    "Conclusion:\n",
    "Only Modlyn returns an interpretable, model-derived estimate of uncertainty per weight. That’s a functional difference worth highlighting in your benchmark.\n",
    "\n"
   ]
  },
  {
   "cell_type": "code",
   "execution_count": null,
   "id": "77d0184e-44a8-40ba-bda1-c08333cc0e5c",
   "metadata": {},
   "outputs": [],
   "source": []
  },
  {
   "cell_type": "code",
   "execution_count": null,
   "id": "ac6f7d8a-fc6c-410c-8f71-c821e28e7baf",
   "metadata": {},
   "outputs": [],
   "source": []
  },
  {
   "cell_type": "code",
   "execution_count": null,
   "id": "9e8e59b8-5c70-4e09-911f-815f477ed128",
   "metadata": {},
   "outputs": [],
   "source": []
  },
  {
   "cell_type": "markdown",
   "id": "6bf84c30-1686-40c1-9fbf-6c743cfe587e",
   "metadata": {},
   "source": [
    "#### What explains the difference between Scanpy LogReg and Modlyn LogReg?\n",
    "Check Scanpy’s LogReg: it performs one-vs-rest logistic regression using sklearn.linear_model.LogisticRegression with default settings.\n",
    "\n",
    "That includes L2 regularization, no uncertainty, no confidence filtering.\n",
    "\n",
    "It's done per group independently.\n",
    "\n",
    "Modlyn:\n",
    "\n",
    "Uses a joint model trained with mini-batches, likely using multinomial logistic regression.\n",
    "\n",
    "Returns dense weights, filtered or visualized by certainty.\n",
    "\n",
    "Can learn from the full dataset jointly rather than slicing the problem into binary tasks.\n",
    "\n",
    "Conclusion:\n",
    "Modlyn’s implementation is fundamentally different: multivariate, batch-trained, and uncertainty-aware. Scanpy’s is simpler, independent per label, and trained on small subsets of data at once."
   ]
  },
  {
   "cell_type": "code",
   "execution_count": null,
   "id": "9ebda82f-1815-470d-8ea7-5a2c368345e8",
   "metadata": {},
   "outputs": [],
   "source": []
  },
  {
   "cell_type": "code",
   "execution_count": null,
   "id": "944ae4e1-8a5a-4338-af7e-895491f4a1a7",
   "metadata": {},
   "outputs": [],
   "source": []
  },
  {
   "cell_type": "code",
   "execution_count": null,
   "id": "fd45d3c0-d378-463b-80c5-5fdc7610b83e",
   "metadata": {},
   "outputs": [],
   "source": []
  },
  {
   "cell_type": "markdown",
   "id": "c2b5f11a-178e-4fc7-b985-343b71eb48a9",
   "metadata": {},
   "source": [
    "#### Why do Scanpy LogReg and LinearSCVI not discriminate between conditions?\n",
    "For Scanpy LogReg:\n",
    "\n",
    "Examine if the method is underpowered due to label imbalance or small training sets per group.\n",
    "\n",
    "Possibly the logistic classifier hits a ceiling with L2 penalty.\n",
    "\n",
    "For LinearSCVI:\n",
    "\n",
    "It's a generative model, optimized for reconstruction, not discrimination.\n",
    "\n",
    "The weights you extract (via decoder projection) are not tuned for group separation.\n",
    "\n",
    "Suggested analysis:\n",
    "\n",
    "Compute classification accuracy or AUPR per method using held-out labels.\n",
    "\n",
    "Visualize group separability using UMAP of latent space (especially for LinearSCVI).\n",
    "\n",
    "Report dotplot sparsity per method: average number of genes above a certainty/weight threshold per group.\n",
    "\n",
    "\n"
   ]
  },
  {
   "cell_type": "code",
   "execution_count": null,
   "id": "2e7faede-7e52-4249-a452-8d1b328e7830",
   "metadata": {},
   "outputs": [],
   "source": []
  },
  {
   "cell_type": "code",
   "execution_count": null,
   "id": "b8c315f4-19df-4862-981c-327829c38499",
   "metadata": {},
   "outputs": [],
   "source": []
  },
  {
   "cell_type": "code",
   "execution_count": null,
   "id": "5d397d91-4b73-417f-930c-6301ec83b0c9",
   "metadata": {},
   "outputs": [],
   "source": []
  },
  {
   "cell_type": "markdown",
   "id": "fe60f33a-433a-4d55-adf7-3d510a1316ee",
   "metadata": {},
   "source": [
    "#### Are we comparing all conditions fairly?\n",
    "Could the signal in Wilcoxon be relative to groups not shown (e.g., 800 cell lines), affecting upregulation interpretation?\n",
    "\n",
    "Check adata.obs[\"cell_line\"].value_counts() to get full distribution.\n",
    "\n",
    "Determine which groups are included in each method (e.g., top 50 most frequent? All?).\n",
    "\n",
    "For Wilcoxon in Scanpy: it's always group vs. rest, so “rest” changes depending on what’s in the dataset.\n",
    "\n",
    "Suggested analysis:\n",
    "\n",
    "Run Wilcoxon on full dataset and on top-50 groups and compare results.\n",
    "\n",
    "Report how many groups are included in each method’s comparison (len(adata.uns[\"wilcoxon\"][\"names\"]) etc.).\n",
    "\n",
    "Conclusion:\n",
    "If the comparison set is unbalanced or truncated, DE signal may be inflated or suppressed, depending on how the reference is defined."
   ]
  },
  {
   "cell_type": "code",
   "execution_count": null,
   "id": "f195a7b6-264f-467a-9041-901e4b6d6fdb",
   "metadata": {},
   "outputs": [],
   "source": []
  },
  {
   "cell_type": "code",
   "execution_count": null,
   "id": "19e07710-ad7c-4cbb-a3d3-ac9d435c8c9c",
   "metadata": {},
   "outputs": [],
   "source": []
  },
  {
   "cell_type": "code",
   "execution_count": null,
   "id": "c278d66a-107c-4f5e-9da3-0d91484179f0",
   "metadata": {},
   "outputs": [],
   "source": []
  },
  {
   "cell_type": "markdown",
   "id": "6aa97f32-6efe-4251-9040-c935f4a77489",
   "metadata": {},
   "source": [
    "#### Should we use classification-style metrics instead of correlation?\n",
    "Do correlation metrics (like Spearman ρ) capture the biological or functional similarity across methods? Or would AUPR / accuracy be better?\n",
    "\n",
    "Run AUPR per cell line:\n",
    "\n",
    "Treat the top 100 genes from one method as positives\n",
    "\n",
    "Use ranked weights from another method as predictions\n",
    "\n",
    "Use pairwise classification metrics to compare ranked gene sets between methods\n"
   ]
  },
  {
   "cell_type": "markdown",
   "id": "38c3e53b-8107-4c08-8fe0-65e6439e0043",
   "metadata": {},
   "source": [
    "precision recall instead of accuracy: modlyn logerg vs scanpy logreg agree XXX% and YYY AUPR with wilcoxon, etc. Evrything is comparable and we can trust them."
   ]
  },
  {
   "cell_type": "raw",
   "id": "bf923ad1-0451-4f75-a226-4586757b40c1",
   "metadata": {},
   "source": []
  },
  {
   "cell_type": "code",
   "execution_count": null,
   "id": "52101695-fc83-4484-9958-f2da6c71a7a7",
   "metadata": {},
   "outputs": [],
   "source": []
  },
  {
   "cell_type": "code",
   "execution_count": null,
   "id": "2414d337-394d-4294-9a29-ca309f063a1a",
   "metadata": {},
   "outputs": [],
   "source": []
  },
  {
   "cell_type": "markdown",
   "id": "358c68ea-9d0b-4c01-84bd-fd7d74010175",
   "metadata": {},
   "source": [
    "#### Biology\n",
    "Drugs vs Genes: Which drugs activate pathways XYZ \n",
    "\n",
    "Comparison with T cells (pert vs unpert)\n",
    "\n",
    "Early activation?\n",
    "\n",
    "Makrer genes for cell lines - proof of concept of the tool that allows us to ask \"how 50 cell lines respond to 50k conditions?\" 250k hypothesis and you need to pick the interesting ones."
   ]
  },
  {
   "cell_type": "code",
   "execution_count": null,
   "id": "c0c6ef92-5007-490e-a9b0-ca6812652960",
   "metadata": {},
   "outputs": [],
   "source": []
  },
  {
   "cell_type": "code",
   "execution_count": null,
   "id": "711e36d5-6fb3-488b-983c-3c2cf0aef28f",
   "metadata": {},
   "outputs": [],
   "source": []
  },
  {
   "cell_type": "code",
   "execution_count": null,
   "id": "b5946a66-c04b-47d0-885c-6a193b1f6bed",
   "metadata": {},
   "outputs": [],
   "source": []
  },
  {
   "cell_type": "markdown",
   "id": "8867b9bb-7c8b-4502-babd-0515bdcf8b88",
   "metadata": {},
   "source": [
    "#### API like scanpy"
   ]
  },
  {
   "cell_type": "markdown",
   "id": "b608fae3-4869-447b-8f48-f3b540753896",
   "metadata": {},
   "source": [
    "Make the same API as scanpy \n",
    "\n",
    "As similar as possible so it's easy to use"
   ]
  },
  {
   "cell_type": "code",
   "execution_count": null,
   "id": "a4d2e0e2-26d5-4d31-8d8c-035328208cc3",
   "metadata": {},
   "outputs": [],
   "source": [
    "# zarr v3 is faster \n",
    "# shuffle chunks and preshuffle everything\n",
    "# way faster than merlyn\n",
    "# arrayloaders "
   ]
  },
  {
   "cell_type": "code",
   "execution_count": null,
   "id": "446c200f-5d7d-4018-bd2d-17ca82cd70cc",
   "metadata": {},
   "outputs": [],
   "source": [
    "ln.finish()"
   ]
  },
  {
   "cell_type": "code",
   "execution_count": null,
   "id": "c16586ab-47d5-4530-8f97-8791260babe7",
   "metadata": {},
   "outputs": [],
   "source": []
  }
 ],
 "metadata": {
  "kernelspec": {
   "display_name": "lamin_env",
   "language": "python",
   "name": "lamin_env"
  },
  "language_info": {
   "codemirror_mode": {
    "name": "ipython",
    "version": 3
   },
   "file_extension": ".py",
   "mimetype": "text/x-python",
   "name": "python",
   "nbconvert_exporter": "python",
   "pygments_lexer": "ipython3",
   "version": "3.12.10"
  }
 },
 "nbformat": 4,
 "nbformat_minor": 5
}
