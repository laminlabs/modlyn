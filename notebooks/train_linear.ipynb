{
 "cells": [
  {
   "cell_type": "markdown",
   "id": "8b81d6af",
   "metadata": {},
   "source": [
    "# Tutorial: Model training"
   ]
  },
  {
   "cell_type": "code",
   "execution_count": null,
   "id": "2095c20c",
   "metadata": {},
   "outputs": [],
   "source": [
    "# pip install zarr<3 lamindb lightning modlyn\n",
    "import warnings\n",
    "import os\n",
    "from os.path import join\n",
    "import lamindb as ln\n",
    "import anndata as ad\n",
    "import lightning as L\n",
    "from tqdm import tqdm\n",
    "from modlyn.io.datamodules import ClassificationDataModule\n",
    "from modlyn.models.linear import Linear\n",
    "from modlyn.io.loading import read_lazy\n",
    "\n",
    "ln.track(\"UMQFXo0vs0Z6\", project=\"DataLoader v2\")"
   ]
  },
  {
   "cell_type": "markdown",
   "id": "00e7785c",
   "metadata": {},
   "source": [
    "## Cache the pre-shuffled zarr store"
   ]
  },
  {
   "cell_type": "code",
   "execution_count": null,
   "id": "6ef64e21",
   "metadata": {},
   "outputs": [],
   "source": [
    "# if running this not in the arrayloader-benchmarks instance, please add .using(...)\n",
    "# ln.Artifact.using(\"laminlabs/arrayloader-benchmarks\").get(uid)\n",
    "# artifact_tahoe_store = ln.Artifact.get(\"BQ6RplqNcT0akokn0000\")  # full 100M cells and 60k genes\n",
    "artifact_tahoe_store = ln.Artifact.get(\"TuhkPw0wkzlUXN5k0000\")  # subsampled to 2k cells and 200 genes\n",
    "artifact_tahoe_store"
   ]
  },
  {
   "cell_type": "code",
   "execution_count": null,
   "id": "3844d569",
   "metadata": {},
   "outputs": [],
   "source": [
    "%%time\n",
    "# in case of the 100M cell datasets, downloads 320GB and 36k zarr fragments (files) into the local cache\n",
    "# will run a while even on AWS due to so many files\n",
    "store_path = artifact_tahoe_store.cache()"
   ]
  },
  {
   "cell_type": "code",
   "execution_count": null,
   "id": "91f1e430-6c8e-4c3b-b436-e18e41a53752",
   "metadata": {},
   "outputs": [],
   "source": [
    "# list(store_path.iterdir())\n",
    "store_path"
   ]
  },
  {
   "cell_type": "markdown",
   "id": "eda8786f",
   "metadata": {},
   "source": [
    "## Train a linear model"
   ]
  },
  {
   "cell_type": "code",
   "execution_count": null,
   "id": "cbfa93fd-c387-40a9-8d72-fd73acc4be65",
   "metadata": {},
   "outputs": [],
   "source": [
    "import anndata\n",
    "anndata.__version__"
   ]
  },
  {
   "cell_type": "code",
   "execution_count": null,
   "id": "2d0133ad",
   "metadata": {},
   "outputs": [],
   "source": [
    "with warnings.catch_warnings():\n",
    "    warnings.simplefilter(\"ignore\")  # ignore zarr warnings that zarrv3 codec is not final yet\n",
    "    adata = read_lazy(store_path)\n",
    "\n",
    "adata"
   ]
  },
  {
   "cell_type": "code",
   "execution_count": null,
   "id": "d9821f78",
   "metadata": {},
   "outputs": [],
   "source": [
    "adata.obs[\"y\"] = adata.obs[\"cell_line\"].astype(\"category\").cat.codes.to_numpy().astype(\"i8\")"
   ]
  },
  {
   "cell_type": "code",
   "execution_count": null,
   "id": "0e0fa033",
   "metadata": {},
   "outputs": [],
   "source": [
    "adata_train = adata[:80_527_360]\n",
    "adata_val = adata[80_527_360:]\n",
    "\n",
    "datamodule = ClassificationDataModule(\n",
    "    adata_train=adata_train,\n",
    "    adata_val=adata_val,\n",
    "    label_column=\"y\",\n",
    "    train_dataloader_kwargs={\n",
    "        \"batch_size\": 2048,\n",
    "        \"drop_last\": True,\n",
    "    },\n",
    "    val_dataloader_kwargs={\n",
    "        \"batch_size\": 2048,\n",
    "        \"drop_last\": False,\n",
    "    },\n",
    ")"
   ]
  },
  {
   "cell_type": "code",
   "execution_count": null,
   "id": "0f44f361",
   "metadata": {},
   "outputs": [],
   "source": [
    "linear = Linear(\n",
    "    n_genes=adata.n_vars,\n",
    "    n_covariates=adata.obs[\"y\"].nunique(),\n",
    "    learning_rate=1e-2,\n",
    ")"
   ]
  },
  {
   "cell_type": "code",
   "execution_count": null,
   "id": "d3d4b0c7",
   "metadata": {},
   "outputs": [],
   "source": [
    "trainer = L.Trainer(\n",
    "    max_epochs=3,\n",
    "    log_every_n_steps=100,\n",
    "    max_steps=3000,  # only fit a few steps for the sake of this tutorial\n",
    ")"
   ]
  },
  {
   "cell_type": "code",
   "execution_count": null,
   "id": "3ec61c20",
   "metadata": {},
   "outputs": [],
   "source": [
    "trainer.fit(model=linear, datamodule=datamodule)"
   ]
  },
  {
   "cell_type": "code",
   "execution_count": null,
   "id": "8219622e",
   "metadata": {},
   "outputs": [],
   "source": [
    "ln.finish()"
   ]
  },
  {
   "cell_type": "code",
   "execution_count": null,
   "id": "d26d4de7",
   "metadata": {},
   "outputs": [],
   "source": []
  }
 ],
 "metadata": {
  "jupytext": {
   "cell_metadata_filter": "-all",
   "main_language": "python",
   "notebook_metadata_filter": "-all"
  },
  "kernelspec": {
   "display_name": "lamin_env",
   "language": "python",
   "name": "lamin_env"
  },
  "language_info": {
   "codemirror_mode": {
    "name": "ipython",
    "version": 3
   },
   "file_extension": ".py",
   "mimetype": "text/x-python",
   "name": "python",
   "nbconvert_exporter": "python",
   "pygments_lexer": "ipython3",
   "version": "3.12.10"
  }
 },
 "nbformat": 4,
 "nbformat_minor": 5
}
