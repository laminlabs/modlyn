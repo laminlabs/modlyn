{
 "cells": [
  {
   "cell_type": "code",
   "execution_count": null,
   "id": "dc9ae38d-98f8-43bc-8080-3ec0a9e82383",
   "metadata": {},
   "outputs": [],
   "source": [
    "import os\n",
    "import warnings\n",
    "import pandas as pd\n",
    "import numpy as np\n",
    "from pathlib import Path\n",
    "from tqdm import tqdm\n",
    "import anndata as ad\n",
    "import lightning as L\n",
    "from os.path import join\n",
    "from modlyn.io.loading import read_lazy\n",
    "\n",
    "import lamindb as ln\n",
    "\n",
    "from modlyn.io.datamodules import ClassificationDataModule\n",
    "from modlyn.models.linear import Linear\n",
    "from modlyn.io.loading import read_lazy"
   ]
  },
  {
   "cell_type": "code",
   "execution_count": null,
   "id": "b97c3cc6-ffdb-43e1-b7bd-8015a708f3d4",
   "metadata": {},
   "outputs": [],
   "source": [
    "# artifact = ln.Artifact.get(\"TuhkPw0wkzlUXN5k0000\")\n",
    "# artifact = ln.Artifact.get(\"BQ6RplqNcT0akokn0000\")\n",
    "\n",
    "store_path = Path(\"/home/ubuntu/tahoe100M_chunk_1\")\n",
    "\n",
    "# # artifact.path.download_to(store_path, print_progress=True, recursive=True, batch_size=64, )\n",
    "# (artifact.path / \"chunk_1.zarr\").download_to(store_path, print_progress=True, recursive=True)"
   ]
  },
  {
   "cell_type": "code",
   "execution_count": null,
   "id": "ea557cba-13bc-4730-aacf-8d2ab4c16cdc",
   "metadata": {},
   "outputs": [],
   "source": [
    "adata = read_lazy(store_path)\n",
    "var = pd.read_parquet(\"var.parquet\")\n",
    "print(var)\n",
    "adata.var = var.reindex(adata.var.index)\n",
    "print(adata)\n",
    "# with warnings.catch_warnings():\n",
    "#     warnings.simplefilter(\"ignore\")\n",
    "#     adata = ad.concat([\n",
    "#         read_lazy(store_path / chunk)\n",
    "#         for chunk in tqdm(os.listdir(store_path))\n",
    "#         if (store_path / chunk).is_dir()\n",
    "#     ])\n"
   ]
  },
  {
   "cell_type": "code",
   "execution_count": null,
   "id": "97b05092-5378-40ee-93c2-433ffdb2c947",
   "metadata": {},
   "outputs": [],
   "source": [
    "adata.obs[\"y\"] = adata.obs[\"cell_line\"].astype(\"category\").cat.codes.to_numpy().astype(\"i8\")"
   ]
  },
  {
   "cell_type": "code",
   "execution_count": null,
   "id": "1638a4c1-9c50-4865-8c84-5490bc4de6da",
   "metadata": {},
   "outputs": [],
   "source": [
    "adata_train = adata[:800000]\n",
    "adata_val = adata[800000:]\n",
    "\n",
    "datamodule = ClassificationDataModule(\n",
    "    adata_train=adata_train,\n",
    "    adata_val=adata_val,\n",
    "    label_column=\"y\",\n",
    "    train_dataloader_kwargs={\n",
    "        \"batch_size\": 2048,\n",
    "        \"drop_last\": True,\n",
    "    },\n",
    "    val_dataloader_kwargs={\n",
    "        \"batch_size\": 2048,\n",
    "        \"drop_last\": False,\n",
    "    },\n",
    ")"
   ]
  },
  {
   "cell_type": "code",
   "execution_count": null,
   "id": "b1d27bd3-316a-431e-84ae-3db39a52b778",
   "metadata": {},
   "outputs": [],
   "source": [
    "linear = Linear(\n",
    "    n_genes=adata.n_vars,\n",
    "    n_covariates=adata.obs[\"y\"].nunique(),\n",
    "    learning_rate=1e-2,\n",
    ")"
   ]
  },
  {
   "cell_type": "code",
   "execution_count": null,
   "id": "81177a0b-f229-4b3c-b9d9-0423d131ad62",
   "metadata": {},
   "outputs": [],
   "source": [
    "trainer = L.Trainer(\n",
    "    max_epochs=3,\n",
    "    log_every_n_steps=100,\n",
    "    max_steps=3000,  # only fit a few steps for the sake of this tutorial\n",
    ")"
   ]
  },
  {
   "cell_type": "code",
   "execution_count": null,
   "id": "8fca9127-77a1-41ad-af00-84651bfd70be",
   "metadata": {},
   "outputs": [],
   "source": [
    "trainer.fit(model=linear, datamodule=datamodule)"
   ]
  },
  {
   "cell_type": "code",
   "execution_count": null,
   "id": "0ace7071-e2a6-4229-8559-021e4f757169",
   "metadata": {},
   "outputs": [],
   "source": [
    "# from LinearModuleAnalyzer import run_comprehensive_analysis\n",
    "\n",
    "# analyzer, results = run_comprehensive_analysis(linear, adata, datamodule)"
   ]
  },
  {
   "cell_type": "code",
   "execution_count": null,
   "id": "b62f5fca-efb2-4a2e-9529-1bbf83cc86a6",
   "metadata": {},
   "outputs": [],
   "source": [
    "# from UncertaintyEstimation import get_proper_uncertainty\n",
    "\n",
    "# get_proper_uncertainty(linear, adata, datamodule)"
   ]
  },
  {
   "cell_type": "code",
   "execution_count": null,
   "id": "a6bfc0ad-106a-46d2-ad5e-295832af1df1",
   "metadata": {},
   "outputs": [],
   "source": [
    "import os\n",
    "os.chdir('/home/ubuntu/modlyn/mikaela')\n"
   ]
  },
  {
   "cell_type": "code",
   "execution_count": null,
   "id": "9785fcf2-93d9-4223-8a0f-4999fd414303",
   "metadata": {},
   "outputs": [],
   "source": [
    "import importlib\n",
    "import LinearModuleAnalyzer\n",
    "importlib.reload(LinearModuleAnalyzer)\n",
    "\n",
    "from LinearModuleAnalyzer import quick_analysis_with_scanpy_dotplot\n",
    "\n",
    "analyzer, weight_adata, df = quick_analysis_with_scanpy_dotplot(linear, adata, datamodule)\n"
   ]
  },
  {
   "cell_type": "code",
   "execution_count": null,
   "id": "7a94d57e-3e91-4192-bb57-1bebd588401a",
   "metadata": {},
   "outputs": [],
   "source": [
    "import importlib\n",
    "import LinearModuleAnalyzer\n",
    "importlib.reload(LinearModuleAnalyzer)\n",
    "from LinearModuleAnalyzer import full_analysis\n",
    "\n",
    "# Full analysis with all plots\n",
    "results = full_analysis(linear, adata, datamodule)"
   ]
  },
  {
   "cell_type": "code",
   "execution_count": null,
   "id": "9a65bc35-4824-44e1-80a1-3600e1054555",
   "metadata": {},
   "outputs": [],
   "source": [
    "import importlib\n",
    "import UncertaintyEstimation\n",
    "importlib.reload(UncertaintyEstimation)\n",
    "from UncertaintyEstimation import get_proper_uncertainty\n",
    "\n",
    "results = get_proper_uncertainty(linear, adata, datamodule)\n"
   ]
  },
  {
   "cell_type": "code",
   "execution_count": null,
   "id": "f3542165-fd91-4426-bcd5-0e4edd47a327",
   "metadata": {},
   "outputs": [],
   "source": [
    "# With interactive display\n",
    "# results = get_proper_uncertainty(model, adata, datamodule, interactive=True)\n",
    "\n",
    "# Access specific plots\n",
    "# overview_fig = results['overview_fig']\n",
    "# dashboard_fig = results['dashboard_fig']\n",
    "# heatmap_fig = results['heatmap_fig']\n",
    "# importance_fig = results['importance_fig']"
   ]
  },
  {
   "cell_type": "code",
   "execution_count": null,
   "id": "b4aea01f-9eed-404b-a657-eca4c939a013",
   "metadata": {},
   "outputs": [],
   "source": [
    "import importlib\n",
    "import Figures\n",
    "importlib.reload(Figures)\n",
    "from Figures import create_publication_figures\n",
    "\n",
    "nf, legends = create_publication_figures(linear, adata)"
   ]
  },
  {
   "cell_type": "code",
   "execution_count": null,
   "id": "04691dd3-d5c7-46ba-9844-ca2ec72a4d15",
   "metadata": {},
   "outputs": [],
   "source": [
    "# Example usage:\n",
    "\"\"\"\n",
    "# Quick exploration (5 minutes)\n",
    "quick_analysis(model, adata)\n",
    "\n",
    "# Full analysis (30 minutes)  \n",
    "results = run_complete_analysis(model, adata, save_prefix=\"my_analysis\")\n",
    "\n",
    "# Access results\n",
    "nature_figs = results['figures']['nature_figures']\n",
    "bio_explorer = results['biology'] \n",
    "summary = results['summary_report']\n",
    "paper_text = results['paper_text']\n",
    "\"\"\""
   ]
  },
  {
   "cell_type": "code",
   "execution_count": null,
   "id": "a8101d27-7f3b-43f7-a0e1-6a84b2b39764",
   "metadata": {},
   "outputs": [],
   "source": []
  },
  {
   "cell_type": "code",
   "execution_count": null,
   "id": "f8b8fb72-a40f-437b-8e19-5e1b4e930e4e",
   "metadata": {},
   "outputs": [],
   "source": [
    "import importlib\n",
    "import analysis_pipeline\n",
    "importlib.reload(analysis_pipeline)\n",
    "from analysis_pipeline import run_complete_analysis\n",
    "\n",
    "# results = run_complete_analysis(linear, adata, save_prefix=\"my_analysis\")\n",
    "\n",
    "# Quick exploration (5 minutes)\n",
    "gene_importance, top_genes = quick_analysis(linear, adata)\n",
    "\n",
    "\n"
   ]
  },
  {
   "cell_type": "code",
   "execution_count": null,
   "id": "d4f256b7-1f25-4086-ba85-4f0d86705e05",
   "metadata": {},
   "outputs": [],
   "source": [
    "# Full analysis (20-30 minutes)  \n",
    "analyzer = run_complete_analysis(linear, adata)\n"
   ]
  },
  {
   "cell_type": "code",
   "execution_count": null,
   "id": "33fcce6b-3e53-4c11-aca6-508c09906883",
   "metadata": {},
   "outputs": [],
   "source": [
    "summary = analyzer.results\n",
    "summary"
   ]
  },
  {
   "cell_type": "code",
   "execution_count": null,
   "id": "ee9aa3c4-2cfe-41dd-bb8e-ba6f03365ecb",
   "metadata": {},
   "outputs": [],
   "source": [
    "# Access results\n",
    "# nature_figs = results['figures']['nature_figures']\n",
    "# bio_explorer = results['biology'] \n",
    "# summary = results['summary_report']\n",
    "# paper_text = results['paper_text']"
   ]
  },
  {
   "cell_type": "code",
   "execution_count": null,
   "id": "926c913a-1e66-4d48-991d-c8710696e280",
   "metadata": {},
   "outputs": [],
   "source": []
  },
  {
   "cell_type": "code",
   "execution_count": null,
   "id": "c15c4ab6-2fcf-4ae5-bf1c-6365ce3ce66a",
   "metadata": {},
   "outputs": [],
   "source": [
    "# answer_research_questions(analysis_results, linear)\n"
   ]
  },
  {
   "cell_type": "code",
   "execution_count": null,
   "id": "34f7c841-a8ef-46b5-9adb-259bfa3526fc",
   "metadata": {},
   "outputs": [],
   "source": [
    "\"\"\"\n",
    "# Create figure without data (uses mock results)\n",
    "fig, caption = create_modlyn_figure()\n",
    "\n",
    "# Create figure with actual model and data\n",
    "fig, caption = create_modlyn_figure(model=your_model, adata=your_adata)\n",
    "\"\"\""
   ]
  },
  {
   "cell_type": "code",
   "execution_count": null,
   "id": "b091deb5-3145-436e-a9d3-5f68ea9383b9",
   "metadata": {},
   "outputs": [],
   "source": [
    "importlib.reload(OverviewFig)\n",
    "import OverviewFig\n",
    "from OverviewFig import create_modlyn_figure\n",
    "\n",
    "fig, caption = create_modlyn_figure()"
   ]
  },
  {
   "cell_type": "code",
   "execution_count": null,
   "id": "bdea66a5-85fb-4a03-bf74-803fdcf48ce7",
   "metadata": {},
   "outputs": [],
   "source": [
    "# fig, caption = create_modlyn_figure(model=linear, adata=adata)\n"
   ]
  },
  {
   "cell_type": "code",
   "execution_count": null,
   "id": "a965faef-b5c5-4dcb-980a-7cd63ceba552",
   "metadata": {},
   "outputs": [],
   "source": [
    "import TahoeStory\n",
    "importlib.reload(TahoeStory)\n",
    "from TahoeStory import complete_tahoe_analysis\n",
    "results = complete_tahoe_analysis(analyzer)\n"
   ]
  },
  {
   "cell_type": "code",
   "execution_count": null,
   "id": "8860a136-0d31-478a-b957-7d6ea9dc9027",
   "metadata": {},
   "outputs": [],
   "source": []
  }
 ],
 "metadata": {
  "kernelspec": {
   "display_name": "lamin_env",
   "language": "python",
   "name": "lamin_env"
  },
  "language_info": {
   "codemirror_mode": {
    "name": "ipython",
    "version": 3
   },
   "file_extension": ".py",
   "mimetype": "text/x-python",
   "name": "python",
   "nbconvert_exporter": "python",
   "pygments_lexer": "ipython3",
   "version": "3.12.10"
  }
 },
 "nbformat": 4,
 "nbformat_minor": 5
}
