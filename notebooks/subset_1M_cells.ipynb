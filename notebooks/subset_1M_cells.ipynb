{
 "cells": [
  {
   "cell_type": "code",
   "execution_count": null,
   "id": "2bf14abe-1f90-484a-8c76-45c502776aef",
   "metadata": {},
   "outputs": [],
   "source": [
    "import lamindb as ln\n",
    "import numpy as np\n",
    "\n",
    "ln.track(\"mVi9vDOMcgir\", project=\"DataLoader v2\")"
   ]
  },
  {
   "cell_type": "code",
   "execution_count": null,
   "id": "0299ee52-5a49-467d-9e96-c3fd99ca3d6f",
   "metadata": {},
   "outputs": [],
   "source": [
    "from modlyn.io.store_creation import create_store_from_h5ads\n"
   ]
  },
  {
   "cell_type": "code",
   "execution_count": null,
   "id": "c09c4656-4c34-4612-b267-cea24a89ba5c",
   "metadata": {},
   "outputs": [],
   "source": [
    "artifact = ln.Artifact.get(\"XVSrkq9pyF1OBLgG0000\")\n",
    "h5ad_path = artifact.cache()\n"
   ]
  },
  {
   "cell_type": "code",
   "execution_count": null,
   "id": "1ecc68f5-64bd-4fe3-98e4-5b67ae413c0a",
   "metadata": {},
   "outputs": [],
   "source": [
    "import lamindb as ln\n",
    "from modlyn.io.store_creation import create_store_from_h5ads\n",
    "\n",
    "ln.track(\"mVi9vDOMcgir\", project=\"DataLoader v2\")\n",
    "\n",
    "artifact = ln.Artifact.get(\"XVSrkq9pyF1OBLgG0000\")\n",
    "path = artifact.cache()\n",
    "\n",
    "# No obs subsampling in current version → create full store first\n",
    "create_store_from_h5ads(\n",
    "    [path],                           # adata_paths\n",
    "    \"./zarr_store_full_shuffled\",    # output_path\n",
    "    None,                             # var_subset = None → all genes\n",
    "    4096,                             # chunk_size\n",
    "    None,                             # shard_size\n",
    "    None,                             # compressors\n",
    "    1_000_000                         # shuffle_buffer_size (samples to shuffle)\n",
    ")\n"
   ]
  },
  {
   "cell_type": "code",
   "execution_count": null,
   "id": "2b0f045c-dcb2-4b27-aa2c-4bef21289902",
   "metadata": {},
   "outputs": [],
   "source": [
    "path = artifact.cache()\n",
    "# ln.Artifact(\"./zarr_store_full_shuffled\", key=\"tahoe100M/shuffled_plate3_1M_allgenes.zarr\").save()\n",
    "ln.finish()"
   ]
  },
  {
   "cell_type": "code",
   "execution_count": null,
   "id": "dc184ea2-76b3-408b-83fa-99a4a85520b4",
   "metadata": {},
   "outputs": [],
   "source": [
    "# ln.Artifact(\"./zarr_store_1M_shuffled\", key=\"tahoe100M/shuffled_plate3_subset_1M_allgenes\").save()\n",
    "ln.finish()"
   ]
  },
  {
   "cell_type": "code",
   "execution_count": null,
   "id": "69a9816e-3f8a-414d-9886-59c15222e94b",
   "metadata": {},
   "outputs": [],
   "source": []
  },
  {
   "cell_type": "code",
   "execution_count": null,
   "id": "5d52c191-4d4b-4450-9e8f-40754608f01e",
   "metadata": {},
   "outputs": [],
   "source": []
  },
  {
   "cell_type": "code",
   "execution_count": null,
   "id": "1c82ea5a-c95d-4040-900c-238feceb8928",
   "metadata": {},
   "outputs": [],
   "source": [
    "obs_subset = adata.obs.sample(n=1_000_000, random_state=123)\n",
    "adata_subset = adata[obs_subset.index, :]"
   ]
  },
  {
   "cell_type": "code",
   "execution_count": null,
   "id": "3ee1ac42-4c45-49ac-afde-505ae83111ce",
   "metadata": {},
   "outputs": [],
   "source": [
    "adata_subset"
   ]
  },
  {
   "cell_type": "code",
   "execution_count": null,
   "id": "e81c4f19-3395-43a1-9e44-35084cebcb44",
   "metadata": {},
   "outputs": [],
   "source": [
    "# adata_in_memory = adata_subset.to_memory()"
   ]
  },
  {
   "cell_type": "code",
   "execution_count": null,
   "id": "8ca5681c-e142-4fe9-808f-3643c55bd5f7",
   "metadata": {},
   "outputs": [],
   "source": [
    "adata_subset.write(\"plate3_subset_1M_allgenes.h5ad\")\n",
    "\n",
    "artifact = ln.Artifact(\"plate3_subset_1M_allgenes.zarr\", key=\"tahoe100M/plate3_subset_1M_allgenes.zarr\")\n",
    "artifact.save()"
   ]
  },
  {
   "cell_type": "code",
   "execution_count": null,
   "id": "5d0196f9-7323-45f1-80a6-2ce7bcd4b24f",
   "metadata": {},
   "outputs": [],
   "source": [
    "# obs_subset = adata.obs.sample(n=1_000_000, random_state=123)\n",
    "# adata_subset = adata[obs_subset.index, :].to_memory()\n",
    "# Validation checks\n",
    "assert adata_subset.shape == (1_000_000, :)\n",
    "assert adata_subset.var_names.is_unique\n",
    "assert adata_subset.obs_names.is_unique\n",
    "print(adata_subset)"
   ]
  },
  {
   "cell_type": "code",
   "execution_count": null,
   "id": "9ef21a26-e3c4-41b5-8a35-f8deee05c55d",
   "metadata": {},
   "outputs": [],
   "source": [
    "assert adata_subset.shape == (1_000_000, 62710)\n",
    "assert adata_subset.obs_names.is_unique\n",
    "assert adata_subset.var_names.is_unique"
   ]
  },
  {
   "cell_type": "code",
   "execution_count": null,
   "id": "d198926f-5831-438f-8802-87741f0f404a",
   "metadata": {},
   "outputs": [],
   "source": [
    "# Save to LaminDB\n",
    "artifact_subset = ln.Artifact.from_anndata(\n",
    "    adata_subset, key=\"tahoe100M/plate3_subset_1M.h5ad\"\n",
    ")\n",
    "artifact_subset.save()\n",
    "print(\"Saved as:\", artifact_subset)"
   ]
  },
  {
   "cell_type": "code",
   "execution_count": null,
   "id": "63a68162-94e3-46a8-a26c-a3de9398c584",
   "metadata": {},
   "outputs": [],
   "source": [
    "ln.finish()"
   ]
  }
 ],
 "metadata": {
  "kernelspec": {
   "display_name": "lamin_env",
   "language": "python",
   "name": "lamin_env"
  },
  "language_info": {
   "codemirror_mode": {
    "name": "ipython",
    "version": 3
   },
   "file_extension": ".py",
   "mimetype": "text/x-python",
   "name": "python",
   "nbconvert_exporter": "python",
   "pygments_lexer": "ipython3",
   "version": "3.12.10"
  }
 },
 "nbformat": 4,
 "nbformat_minor": 5
}
