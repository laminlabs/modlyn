{
 "cells": [
  {
   "cell_type": "code",
   "execution_count": null,
   "id": "22367001-d65f-46a5-889e-a6ef3cd05ddc",
   "metadata": {},
   "outputs": [],
   "source": [
    "# Core libraries\n",
    "import os\n",
    "import time\n",
    "import scanpy as sc\n",
    "import anndata as ad\n",
    "import lamindb as ln\n",
    "import numpy as np\n",
    "import pandas as pd\n",
    "import matplotlib.pyplot as plt\n",
    "import seaborn as sns\n",
    "from pathlib import Path\n",
    "from tqdm import tqdm\n",
    "import torch\n",
    "\n",
    "import scvi\n",
    "\n",
    "# Tracking\n",
    "project = ln.Project(name=\"Modlyn-LSCVI-Benchmark\")\n",
    "project.save()\n",
    "\n",
    "ln.track(project=\"Modlyn-LSCVI-Benchmark\")\n",
    "\n",
    "run = ln.track()\n"
   ]
  },
  {
   "cell_type": "code",
   "execution_count": null,
   "id": "deee8913-8bc3-4094-a919-3c1d0574217b",
   "metadata": {},
   "outputs": [],
   "source": [
    "!df -h\n"
   ]
  },
  {
   "cell_type": "code",
   "execution_count": null,
   "id": "e6c1bfec-f21c-4923-a0a5-c8966f3b3e24",
   "metadata": {},
   "outputs": [],
   "source": [
    "from modlyn.io.loading import read_lazy\n",
    "\n",
    "# Path to chunk\n",
    "store_path = Path(\"/home/ubuntu/tahoe100M_chunk_1\")  # adjust if needed\n",
    "adata = read_lazy(store_path)\n",
    "adata.var = pd.read_parquet(\"var_subset_tahoe100M.parquet\")\n",
    "\n",
    "# Encode labels\n",
    "adata.obs[\"y\"] = adata.obs[\"cell_line\"].astype(\"category\").cat.codes.astype(\"int\")\n",
    "adata.obs[\"cell_line\"] = adata.obs[\"cell_line\"].astype(\"category\")\n",
    "\n",
    "# Subset\n",
    "adata_train = adata[:80000].copy()\n",
    "adata_val = adata[80000:100000].copy()\n"
   ]
  },
  {
   "cell_type": "code",
   "execution_count": null,
   "id": "1af75cef-a0d0-4bc5-86b2-2d022cb40d36",
   "metadata": {},
   "outputs": [],
   "source": [
    "# Log-transform\n",
    "sc.pp.log1p(adata_train)\n",
    "adata_train.X = adata_train.X.compute()\n",
    "adata_train.X = np.array(adata_train.X)\n"
   ]
  },
  {
   "cell_type": "code",
   "execution_count": null,
   "id": "1e6473e0-f266-499e-a7b6-f6958ab81702",
   "metadata": {},
   "outputs": [],
   "source": [
    "adata_train"
   ]
  },
  {
   "cell_type": "markdown",
   "id": "81c9cb14-a33d-4f01-8f8d-590ff4e3ac2f",
   "metadata": {},
   "source": [
    "## Train LinearSCVI & benchmark"
   ]
  },
  {
   "cell_type": "code",
   "execution_count": null,
   "id": "16fd3001-2a3f-4404-a02c-9dfdf7714d85",
   "metadata": {},
   "outputs": [],
   "source": [
    "top_cell_lines = adata_train.obs[\"cell_line\"].value_counts().index[:50]\n",
    "adata_filtered = adata_train[adata_train.obs[\"cell_line\"].isin(top_cell_lines)].copy()\n",
    "adata_sub = adata_filtered[np.random.choice(adata_filtered.n_obs, 2000, replace=False)].copy()\n",
    "\n",
    "scvi.model.LinearSCVI.setup_anndata(adata_sub, labels_key=\"cell_line\")\n",
    "\n"
   ]
  },
  {
   "cell_type": "code",
   "execution_count": null,
   "id": "fb296295-8c72-4bf3-908f-d3d811f3873b",
   "metadata": {},
   "outputs": [],
   "source": [
    "model = scvi.model.LinearSCVI(adata_sub, gene_likelihood=\"gaussian\")\n",
    "model.view_anndata_setup()\n"
   ]
  },
  {
   "cell_type": "code",
   "execution_count": null,
   "id": "f53e362d-7f35-4396-aed6-06270473fa96",
   "metadata": {},
   "outputs": [],
   "source": [
    "# from scvi.dataloaders import DataSplitter\n",
    "\n",
    "# splitter = DataSplitter(adata_sub, train_size=1.0, validation_size=0.0, batch_size=64)\n",
    "# splitter.setup()\n",
    "# dl = splitter.train_dataloader()\n",
    "\n",
    "# batches = list(dl)\n",
    "# print(f\"{len(batches)=}\")\n",
    "# print(f\"Batch keys: {list(batches[0].keys()) if batches else 'EMPTY'}\")\n"
   ]
  },
  {
   "cell_type": "code",
   "execution_count": null,
   "id": "ac00f23f-cba1-4486-8161-63efadb7a81d",
   "metadata": {},
   "outputs": [],
   "source": [
    "model.train()\n"
   ]
  },
  {
   "cell_type": "code",
   "execution_count": null,
   "id": "ad50c118-e39a-4e53-837e-815e3b040c71",
   "metadata": {},
   "outputs": [],
   "source": [
    "print(model.get_loadings())\n",
    "print(model.summary_string)\n"
   ]
  },
  {
   "cell_type": "code",
   "execution_count": null,
   "id": "dedc70ae-fcc3-42b5-b3b1-80a8a69e87a2",
   "metadata": {},
   "outputs": [],
   "source": [
    "labels = adata_sub.obs[\"cell_line\"].values\n",
    "print(\"1\")\n",
    "# Z = model.get_latent_representation(batch_size=128)\n",
    "# Z\n",
    "import time\n",
    "start = time.time()\n",
    "Z = model.get_latent_representation(batch_size=128)\n",
    "print(f\"Elapsed: {time.time() - start:.2f} seconds\")\n"
   ]
  },
  {
   "cell_type": "code",
   "execution_count": null,
   "id": "1c1a4a2a-f8b8-41af-838a-cdf61d205cf5",
   "metadata": {},
   "outputs": [],
   "source": [
    "labels_unique = np.unique(labels)\n",
    "\n",
    "Z_mean = np.stack([Z[labels == k].mean(axis=0) for k in labels_unique])\n",
    "\n",
    "# Project into gene space\n",
    "W = model.get_loadings().values  # shape: genes × latent\n",
    "weights = Z_mean @ W.T  # shape: cell_lines × genes\n",
    "\n",
    "# Wrap up as DataFrame\n",
    "weights_df = pd.DataFrame(\n",
    "    weights,\n",
    "    index=labels_unique,\n",
    "    columns=model.adata.var_names\n",
    ")\n",
    "weights_df"
   ]
  },
  {
   "cell_type": "code",
   "execution_count": null,
   "id": "f6904b6d-e710-4eb7-8738-b7faf06de362",
   "metadata": {},
   "outputs": [],
   "source": [
    "# de = model.differential_expression(groupby=\"cell_line\")\n"
   ]
  },
  {
   "cell_type": "code",
   "execution_count": null,
   "id": "c332b67f-c1de-410e-8d51-4eace678381f",
   "metadata": {},
   "outputs": [],
   "source": [
    "# start = time.time()\n",
    "# model = scvi.model.LinearSCVI(adata_train, gene_likelihood=\"gaussian\")\n",
    "# model.train(max_epochs=50, early_stopping=False, plan_kwargs=dict(optimizer=\"Adam\"))\n",
    "# scvi_runtime = time.time() - start\n",
    "# print(f\"LinearSCVI training time: {scvi_runtime:.2f} seconds\")\n"
   ]
  },
  {
   "cell_type": "code",
   "execution_count": null,
   "id": "1acd3ef1-1b17-43b0-8cad-4dd66a335a56",
   "metadata": {},
   "outputs": [],
   "source": [
    "# model.history[\"elbo_train\"].plot()\n"
   ]
  },
  {
   "cell_type": "markdown",
   "id": "323eccaf-cae1-4b21-9eb2-72aa96eea16a",
   "metadata": {},
   "source": [
    "## Extract weights"
   ]
  },
  {
   "cell_type": "code",
   "execution_count": null,
   "id": "de16665f-22ba-424e-8fc7-504f12f854a9",
   "metadata": {},
   "outputs": [],
   "source": [
    "from sklearn.preprocessing import minmax_scale\n",
    "\n",
    "# Normalize weights (for plotting)\n",
    "w_scaled = weights_df.clip(-np.percentile(np.abs(weights_df), 99), \n",
    "                           np.percentile(np.abs(weights_df), 99))\n",
    "w_scaled = w_scaled / np.percentile(np.abs(w_scaled.values), 99)\n",
    "\n",
    "# Certainty estimate → use abs(weight) as proxy (LinearSCVI doesn't output SE directly)\n",
    "certainty = weights_df.abs()\n",
    "certainty_scaled = pd.DataFrame(minmax_scale(certainty, axis=1),\n",
    "                                index=certainty.index,\n",
    "                                columns=certainty.columns)\n"
   ]
  },
  {
   "cell_type": "code",
   "execution_count": null,
   "id": "80b60a59-17ba-4f5a-95d8-0c4f53581227",
   "metadata": {},
   "outputs": [],
   "source": [
    "certainty"
   ]
  },
  {
   "cell_type": "code",
   "execution_count": null,
   "id": "adfee2a1-42ca-4c87-8ce7-5dba312681f5",
   "metadata": {},
   "outputs": [],
   "source": [
    "adata_dot_lscvi = ad.AnnData(\n",
    "    X=certainty_scaled.values,\n",
    "    obs=pd.DataFrame(index=certainty_scaled.index),\n",
    "    var=pd.DataFrame(index=certainty_scaled.columns)\n",
    ")\n",
    "adata_dot_lscvi.obs[\"cell_line\"] = adata_dot_lscvi.obs.index\n",
    "adata_dot_lscvi.obs_names = adata_dot_lscvi.obs.index\n",
    "adata_dot_lscvi.var_names = adata_dot_lscvi.var.index\n",
    "adata_dot_lscvi.layers[\"weights_scaled\"] = w_scaled.loc[adata_dot_lscvi.obs_names, adata_dot_lscvi.var_names].values\n"
   ]
  },
  {
   "cell_type": "code",
   "execution_count": null,
   "id": "a1b66321-e4d9-4a8f-9ab7-bf1416b3f0d0",
   "metadata": {},
   "outputs": [],
   "source": [
    "sc.pl.dotplot(\n",
    "    adata_dot_lscvi,\n",
    "    var_names=adata_dot_lscvi.var_names[:30],\n",
    "    groupby=\"cell_line\",\n",
    "    layer=\"weights_scaled\",\n",
    "    cmap=\"RdBu_r\",\n",
    "    vcenter=0,\n",
    "    dot_min=0.2,\n",
    "    dot_max=1.0,\n",
    "    smallest_dot=0.1,\n",
    "    show=True\n",
    ")"
   ]
  },
  {
   "cell_type": "code",
   "execution_count": null,
   "id": "f36670b9-e396-488a-a2ad-b9e87f2a244a",
   "metadata": {},
   "outputs": [],
   "source": [
    "print((certainty.columns == adata_dot_lscvi.var_names).all())  # Should be True\n",
    "adata_dot_lscvi.var_names = certainty.columns\n",
    "print(dot_color[certainty.columns].shape)\n",
    "# adata_dot_lscvi.var_names\n",
    "# print(dot_color[certainty.columns].describe())\n",
    "# print(lscvi_size.describe())\n"
   ]
  },
  {
   "cell_type": "code",
   "execution_count": null,
   "id": "6c0820db-a63f-4b85-a814-a41df530d82d",
   "metadata": {},
   "outputs": [],
   "source": [
    "lscvi_size = pd.DataFrame(minmax_scale(certainty, axis=1),\n",
    "                           index=certainty.index, columns=certainty.columns)\n",
    "\n",
    "dot_color = pd.DataFrame(\n",
    "    adata_dot_lscvi.layers[\"weights_scaled\"],\n",
    "    index=adata_dot_lscvi.obs_names,\n",
    "    columns=adata_dot_lscvi.var_names\n",
    ")\n",
    "\n",
    "top_genes = certainty.columns[:30]  # or some handpicked list\n",
    "\n",
    "sc.pl.dotplot(\n",
    "    adata_dot_lscvi,\n",
    "    var_names=top_genes,\n",
    "    groupby=\"cell_line\",\n",
    "    dot_color_df=dot_color[top_genes],\n",
    "    dot_size_df=lscvi_size[top_genes],\n",
    "    cmap=\"RdBu_r\",\n",
    "    vcenter=0,\n",
    "    dot_min=0.2,\n",
    "    dot_max=1.0,\n",
    "    smallest_dot=0.1,\n",
    "    show=True\n",
    ")\n",
    "# sc.pl.dotplot(\n",
    "#     adata_dot_lscvi,\n",
    "#     var_names=certainty.columns,\n",
    "#     groupby=\"cell_line\",\n",
    "#     dot_color_df=dot_color[certainty.columns],\n",
    "#     dot_size_df=lscvi_size,\n",
    "#     cmap=\"RdBu_r\",\n",
    "#     vcenter=0,\n",
    "#     dot_min=0.2,\n",
    "#     dot_max=1.0,\n",
    "#     smallest_dot=0.1,\n",
    "#     use_raw=False,  # ensure correct data source\n",
    "#     show=True\n",
    "# )\n"
   ]
  },
  {
   "cell_type": "code",
   "execution_count": null,
   "id": "e9a8bed1-67d8-4c37-bcb4-bff781474391",
   "metadata": {},
   "outputs": [],
   "source": [
    "import psutil\n",
    "\n",
    "def log_resource():\n",
    "    process = psutil.Process(os.getpid())\n",
    "    print(f\"Memory usage: {process.memory_info().rss / 1e9:.2f} GB\")\n",
    "\n",
    "log_resource()"
   ]
  }
 ],
 "metadata": {
  "kernelspec": {
   "display_name": "lamin_env",
   "language": "python",
   "name": "lamin_env"
  },
  "language_info": {
   "codemirror_mode": {
    "name": "ipython",
    "version": 3
   },
   "file_extension": ".py",
   "mimetype": "text/x-python",
   "name": "python",
   "nbconvert_exporter": "python",
   "pygments_lexer": "ipython3",
   "version": "3.12.10"
  }
 },
 "nbformat": 4,
 "nbformat_minor": 5
}
