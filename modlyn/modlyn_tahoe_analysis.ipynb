{
 "cells": [
  {
   "cell_type": "code",
   "execution_count": null,
   "id": "f719ebd1-086e-4f2c-b77e-3dcc86801557",
   "metadata": {},
   "outputs": [],
   "source": [
    "import os\n",
    "import warnings\n",
    "import pandas as pd\n",
    "import numpy as np\n",
    "from pathlib import Path\n",
    "from tqdm import tqdm\n",
    "import anndata as ad\n",
    "import lightning as L\n",
    "from os.path import join\n",
    "from modlyn.io.loading import read_lazy\n",
    "\n",
    "import lamindb as ln\n",
    "\n",
    "from modlyn.io.datamodules import ClassificationDataModule\n",
    "from modlyn.models.linear import Linear\n",
    "from modlyn.io.loading import read_lazy"
   ]
  },
  {
   "cell_type": "code",
   "execution_count": null,
   "id": "bebc4396-e753-4763-ba38-4d89af68fd3d",
   "metadata": {},
   "outputs": [],
   "source": [
    "store_path = Path(\"/home/ubuntu/tahoe100M_chunk_1\")\n"
   ]
  },
  {
   "cell_type": "code",
   "execution_count": null,
   "id": "6955533b-78c3-47ae-a80b-92e29569d466",
   "metadata": {},
   "outputs": [],
   "source": [
    "adata = read_lazy(store_path)\n",
    "var = pd.read_parquet(\"var_new.parquet\")\n",
    "print(var)\n",
    "adata.var = var.reindex(adata.var.index)\n",
    "# print(adata)\n",
    "\n",
    "# adata.var = var"
   ]
  },
  {
   "cell_type": "code",
   "execution_count": null,
   "id": "c227fb61-4cef-40fd-a26b-86ec8b195684",
   "metadata": {},
   "outputs": [],
   "source": [
    "adata.obs[\"y\"] = adata.obs[\"cell_line\"].astype(\"category\").cat.codes.to_numpy().astype(\"i8\")"
   ]
  },
  {
   "cell_type": "code",
   "execution_count": null,
   "id": "f2dbd584-f246-456a-babe-b7189e595c39",
   "metadata": {},
   "outputs": [],
   "source": [
    "adata_train = adata[:800000]\n",
    "adata_val = adata[800000:]\n",
    "\n",
    "datamodule = ClassificationDataModule(\n",
    "    adata_train=adata_train,\n",
    "    adata_val=adata_val,\n",
    "    label_column=\"y\",\n",
    "    train_dataloader_kwargs={\n",
    "        \"batch_size\": 2048,\n",
    "        \"drop_last\": True,\n",
    "    },\n",
    "    val_dataloader_kwargs={\n",
    "        \"batch_size\": 2048,\n",
    "        \"drop_last\": False,\n",
    "    },\n",
    ")"
   ]
  },
  {
   "cell_type": "code",
   "execution_count": null,
   "id": "c970413c-1976-4750-bbce-81a04bcadc26",
   "metadata": {},
   "outputs": [],
   "source": [
    "linear = Linear(\n",
    "    n_genes=adata.n_vars,\n",
    "    n_covariates=adata.obs[\"y\"].nunique(),\n",
    "    learning_rate=1e-2,\n",
    ")"
   ]
  },
  {
   "cell_type": "code",
   "execution_count": null,
   "id": "12b2d0cd-768c-441b-aa85-9550168426bf",
   "metadata": {},
   "outputs": [],
   "source": [
    "trainer = L.Trainer(\n",
    "    max_epochs=3,\n",
    "    log_every_n_steps=100,\n",
    "    max_steps=3000,  # only fit a few steps for the sake of this tutorial\n",
    ")"
   ]
  },
  {
   "cell_type": "code",
   "execution_count": null,
   "id": "82467eb1-ef41-4ccf-b716-4e749ec2d9d0",
   "metadata": {},
   "outputs": [],
   "source": [
    "trainer.fit(model=linear, datamodule=datamodule)"
   ]
  },
  {
   "cell_type": "markdown",
   "id": "8e691e01-c14f-479d-811b-1392b4b9d36c",
   "metadata": {},
   "source": [
    "## Quick analysis"
   ]
  },
  {
   "cell_type": "code",
   "execution_count": null,
   "id": "3175b5d3-c011-4030-840a-6e765581f28f",
   "metadata": {},
   "outputs": [],
   "source": [
    "import importlib\n",
    "import LinearModuleAnalyzer\n",
    "importlib.reload(LinearModuleAnalyzer)\n",
    "\n",
    "from LinearModuleAnalyzer import quick_analysis_with_scanpy_dotplot, full_analysis\n",
    "\n",
    "# analyzer, weight_adata, df = quick_analysis_with_scanpy_dotplot(linear, adata, datamodule)\n",
    "results = full_analysis(linear, adata, datamodule)"
   ]
  },
  {
   "cell_type": "markdown",
   "id": "235950c3-8a8e-4e8b-aab8-b3528d4aa38a",
   "metadata": {},
   "source": [
    "# Uncertainty scores"
   ]
  },
  {
   "cell_type": "code",
   "execution_count": null,
   "id": "06999bee-7239-4c84-9446-603c30ffe8f9",
   "metadata": {},
   "outputs": [],
   "source": [
    "import UncertaintyEstimation\n",
    "importlib.reload(UncertaintyEstimation)\n",
    "from UncertaintyEstimation import get_proper_uncertainty\n",
    "\n",
    "results = get_proper_uncertainty(linear, adata, datamodule)\n"
   ]
  },
  {
   "cell_type": "code",
   "execution_count": null,
   "id": "db154ad9-63be-427d-ad7e-abfdc7a30f94",
   "metadata": {},
   "outputs": [],
   "source": [
    "import Figures\n",
    "importlib.reload(Figures)\n",
    "from Figures import create_publication_figures\n",
    "\n",
    "nf, legends = create_publication_figures(linear, adata)"
   ]
  },
  {
   "cell_type": "markdown",
   "id": "52d23437-2682-46a2-a130-16e53f858f1c",
   "metadata": {},
   "source": [
    "MODLYN: LINEAR MODELS FOR MASSIVE SINGLE-CELL PERTURBATION ANALYSIS\n",
    "================================================================\n",
    "\n",
    "ABSTRACT\n",
    "--------\n",
    "We present MODLYN, a scalable framework for analyzing massive single-cell perturbation datasets \n",
    "using interpretable linear models. Applied to the Tahoe-100M dataset (100M cells -eventually-, \n",
    "19,177 genes, 50 perturbations), our approach enables rapid \n",
    "identification of perturbation-specific gene signatures, mechanism clustering, and biomarker \n",
    "discovery at unprecedented scale.\n",
    "\n",
    "INTRODUCTION\n",
    "-----------\n",
    "Single-cell RNA sequencing has revolutionized our understanding of cellular responses to \n",
    "perturbations. However, analyzing datasets with hundreds of millions of cells presents \n",
    "computational and interpretability challenges. Traditional non-linear methods, while powerful, \n",
    "often lack the transparency needed for biological interpretation and struggle with scale.\n",
    "\n",
    "We hypothesized that linear models, despite their simplicity, could effectively capture \n",
    "perturbation-specific signatures while maintaining computational efficiency and interpretability. \n",
    "The MODLYN framework tests this hypothesis on the largest single-cell perturbation dataset \n",
    "to date.\n",
    "\n",
    "RESULTS\n",
    "-------\n",
    "\n",
    "Dataset Scale and Computational Performance (numbers to-be-updated)\n",
    "Our analysis of the Tahoe-100M dataset represents a XYZ% increase in scale \n",
    "compared to typical single-cell studies. The linear model achieved:\n",
    "- Training time: 25.3 minutes\n",
    "- Peak memory usage: 8.5 GB  \n",
    "- Model parameters: 958,850 weights\n",
    "- Inference speed: ~1ms per cell\n",
    "\n",
    "Gene Importance and Statistical Significance\n",
    "We identified 959 highly predictive genes \n",
    "(>95th percentile importance). Statistical uncertainty analysis revealed:\n",
    "- 0 significant gene-perturbation associations (p<0.05)\n",
    "- 0 highly significant associations (p<0.001)\n",
    "- Mean standard error: 0.0000\n",
    "\n",
    "CONCLUSIONS\n",
    "-----------\n",
    "The MODLYN framework enables scalable, interpretable analysis of massive single-cell \n",
    "perturbation data. Linear models provide surprising effectiveness at this scale, offering \n",
    "a compelling alternative to complex non-linear approaches for many biological questions.\n",
    "\n"
   ]
  },
  {
   "cell_type": "code",
   "execution_count": null,
   "id": "fa85be3c-4933-4fe5-b933-10ea1888d7fa",
   "metadata": {},
   "outputs": [],
   "source": [
    "import OverviewFig\n",
    "importlib.reload(OverviewFig)\n",
    "from OverviewFig import create_modlyn_figure\n",
    "\n",
    "fig, caption = create_modlyn_figure()"
   ]
  },
  {
   "cell_type": "markdown",
   "id": "1c9f7ca3-75a2-4d5d-aeb4-dffc4ce3f3d5",
   "metadata": {},
   "source": [
    "# Dataset / Biological analysis"
   ]
  },
  {
   "cell_type": "markdown",
   "id": "761d2fa3-9079-4fe0-a406-85bebd427384",
   "metadata": {},
   "source": [
    "Figure 1: Expression Overview & Quality Control\n",
    "\n",
    "Figure 2: Differential Expression Analysis\n",
    "\n",
    "Figure 3: Cell Clustering Analysis\n",
    "\n",
    "Figure 4: Drug Response Analysis\n",
    "\n",
    "Figure 5: Scanpy Expression Analysis\n",
    "\n",
    "!!!! Some mock functions"
   ]
  },
  {
   "cell_type": "code",
   "execution_count": null,
   "id": "208647c2-b642-4050-a40f-cdba0bea0554",
   "metadata": {},
   "outputs": [],
   "source": [
    "import gene_level_analysis\n",
    "import importlib\n",
    "importlib.reload(gene_level_analysis)\n",
    "\n",
    "# Import the class from the module\n",
    "from gene_level_analysis import GeneExpressionAnalyzer\n",
    "\n",
    "# Now you can use it\n",
    "analyzer = GeneExpressionAnalyzer(adata)\n",
    "analyzer.figure_1_expression_overview()\n",
    "\n",
    "\n",
    "# Or run the complete analysis\n",
    "# analyzer.run_complete_gene_analysis()"
   ]
  },
  {
   "cell_type": "code",
   "execution_count": null,
   "id": "d01a3dfb-9924-469d-afb4-741ff55ccba2",
   "metadata": {},
   "outputs": [],
   "source": [
    "# analyzer.figure_2_differential_expression() \n",
    "# analyzer.figure_3_cell_clustering_analysis()\n"
   ]
  },
  {
   "cell_type": "code",
   "execution_count": null,
   "id": "adc17d05-b8f9-4be6-8f22-8cefa119fab2",
   "metadata": {},
   "outputs": [],
   "source": [
    "analyzer.figure_4_drug_response_analysis()\n"
   ]
  },
  {
   "cell_type": "code",
   "execution_count": null,
   "id": "82c19b62-2df0-4814-bfe9-6562591dd21a",
   "metadata": {},
   "outputs": [],
   "source": [
    "analyzer.figure_5_scanpy_expression_analysis()\n"
   ]
  },
  {
   "cell_type": "code",
   "execution_count": null,
   "id": "38a52a80-2edb-4293-ae0d-d64b30a2de0b",
   "metadata": {},
   "outputs": [],
   "source": [
    "analyzer.generate_biological_narrative()"
   ]
  }
 ],
 "metadata": {
  "kernelspec": {
   "display_name": "lamin_env",
   "language": "python",
   "name": "lamin_env"
  },
  "language_info": {
   "codemirror_mode": {
    "name": "ipython",
    "version": 3
   },
   "file_extension": ".py",
   "mimetype": "text/x-python",
   "name": "python",
   "nbconvert_exporter": "python",
   "pygments_lexer": "ipython3",
   "version": "3.12.10"
  }
 },
 "nbformat": 4,
 "nbformat_minor": 5
}
